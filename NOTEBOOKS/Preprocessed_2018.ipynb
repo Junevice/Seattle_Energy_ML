{
 "cells": [
  {
   "cell_type": "code",
   "execution_count": 16,
   "id": "599f14a5",
   "metadata": {},
   "outputs": [],
   "source": [
    "import pandas as pd"
   ]
  },
  {
   "cell_type": "code",
   "execution_count": 17,
   "id": "50ce819c",
   "metadata": {},
   "outputs": [],
   "source": [
    "df = pd.read_csv('../DATA/2018_Building_Energy_Benchmarking.csv')"
   ]
  },
  {
   "cell_type": "code",
   "execution_count": 18,
   "id": "9be5c04e",
   "metadata": {},
   "outputs": [],
   "source": [
    "new_df = pd.DataFrame()"
   ]
  },
  {
   "cell_type": "code",
   "execution_count": 19,
   "id": "e0a4e39e",
   "metadata": {},
   "outputs": [],
   "source": [
    "new_df['age'] = df['Data Year'] - df['Year Built']"
   ]
  },
  {
   "cell_type": "code",
   "execution_count": 20,
   "id": "eabd463d",
   "metadata": {},
   "outputs": [],
   "source": [
    "new_df['BuildingType'] = df['Building Type']"
   ]
  },
  {
   "cell_type": "code",
   "execution_count": 21,
   "id": "c45af049",
   "metadata": {},
   "outputs": [],
   "source": [
    "new_df['Neighborhood'] = df['Neighborhood']"
   ]
  },
  {
   "cell_type": "code",
   "execution_count": 22,
   "id": "1d7e42a1",
   "metadata": {},
   "outputs": [],
   "source": [
    "new_df['NumberofBuildings'] = 0"
   ]
  },
  {
   "cell_type": "code",
   "execution_count": 23,
   "id": "3d8886cc",
   "metadata": {},
   "outputs": [],
   "source": [
    "new_df['PropertyGFATotal'] = df['Property GFA Total']"
   ]
  },
  {
   "cell_type": "code",
   "execution_count": 24,
   "id": "4033d191",
   "metadata": {},
   "outputs": [],
   "source": [
    "new_df['SiteEnergyUse(kBtu)'] = df['SiteEnergyUse(kBtu)']"
   ]
  },
  {
   "cell_type": "code",
   "execution_count": 25,
   "id": "21e9b3e9",
   "metadata": {},
   "outputs": [],
   "source": [
    "new_df['SteamUse(kBtu)'] = df['SteamUse(kBtu)']"
   ]
  },
  {
   "cell_type": "code",
   "execution_count": 26,
   "id": "c46064fc",
   "metadata": {},
   "outputs": [],
   "source": [
    "new_df['Electricity(kBtu)'] = df['Electricity(kBtu)']"
   ]
  },
  {
   "cell_type": "code",
   "execution_count": 27,
   "id": "6d20c8eb",
   "metadata": {},
   "outputs": [],
   "source": [
    "new_df['NaturalGas(kBtu)'] = df['NaturalGas(kBtu)']"
   ]
  },
  {
   "cell_type": "code",
   "execution_count": 28,
   "id": "ac2722c7",
   "metadata": {},
   "outputs": [],
   "source": [
    "new_df['TotalGHGEmissions'] = df['Total Ghg Emissions']"
   ]
  },
  {
   "cell_type": "code",
   "execution_count": 29,
   "id": "9503a6f8",
   "metadata": {},
   "outputs": [
    {
     "data": {
      "text/html": [
       "<div>\n",
       "<style scoped>\n",
       "    .dataframe tbody tr th:only-of-type {\n",
       "        vertical-align: middle;\n",
       "    }\n",
       "\n",
       "    .dataframe tbody tr th {\n",
       "        vertical-align: top;\n",
       "    }\n",
       "\n",
       "    .dataframe thead th {\n",
       "        text-align: right;\n",
       "    }\n",
       "</style>\n",
       "<table border=\"1\" class=\"dataframe\">\n",
       "  <thead>\n",
       "    <tr style=\"text-align: right;\">\n",
       "      <th></th>\n",
       "      <th>age</th>\n",
       "      <th>BuildingType</th>\n",
       "      <th>Neighborhood</th>\n",
       "      <th>NumberofBuildings</th>\n",
       "      <th>PropertyGFATotal</th>\n",
       "      <th>SiteEnergyUse(kBtu)</th>\n",
       "      <th>SteamUse(kBtu)</th>\n",
       "      <th>Electricity(kBtu)</th>\n",
       "      <th>NaturalGas(kBtu)</th>\n",
       "      <th>TotalGHGEmissions</th>\n",
       "    </tr>\n",
       "  </thead>\n",
       "  <tbody>\n",
       "    <tr>\n",
       "      <th>0</th>\n",
       "      <td>91</td>\n",
       "      <td>NonResidential</td>\n",
       "      <td>DOWNTOWN</td>\n",
       "      <td>0</td>\n",
       "      <td>88434</td>\n",
       "      <td>7465990.0</td>\n",
       "      <td>2090193</td>\n",
       "      <td>3907951</td>\n",
       "      <td>1410145</td>\n",
       "      <td>196.4</td>\n",
       "    </tr>\n",
       "    <tr>\n",
       "      <th>1</th>\n",
       "      <td>22</td>\n",
       "      <td>NonResidential</td>\n",
       "      <td>DOWNTOWN</td>\n",
       "      <td>0</td>\n",
       "      <td>103566</td>\n",
       "      <td>7962964.0</td>\n",
       "      <td>0</td>\n",
       "      <td>2866615</td>\n",
       "      <td>5030730</td>\n",
       "      <td>274.8</td>\n",
       "    </tr>\n",
       "    <tr>\n",
       "      <th>2</th>\n",
       "      <td>49</td>\n",
       "      <td>NonResidential</td>\n",
       "      <td>DOWNTOWN</td>\n",
       "      <td>0</td>\n",
       "      <td>956110</td>\n",
       "      <td>67336376.0</td>\n",
       "      <td>20851598</td>\n",
       "      <td>44453651</td>\n",
       "      <td>1450300</td>\n",
       "      <td>1304.2</td>\n",
       "    </tr>\n",
       "    <tr>\n",
       "      <th>3</th>\n",
       "      <td>92</td>\n",
       "      <td>NonResidential</td>\n",
       "      <td>DOWNTOWN</td>\n",
       "      <td>0</td>\n",
       "      <td>61320</td>\n",
       "      <td>7426193.0</td>\n",
       "      <td>2003570</td>\n",
       "      <td>2626057</td>\n",
       "      <td>2730608</td>\n",
       "      <td>258.5</td>\n",
       "    </tr>\n",
       "    <tr>\n",
       "      <th>4</th>\n",
       "      <td>38</td>\n",
       "      <td>NonResidential</td>\n",
       "      <td>DOWNTOWN</td>\n",
       "      <td>0</td>\n",
       "      <td>175580</td>\n",
       "      <td>13261917.0</td>\n",
       "      <td>0</td>\n",
       "      <td>4751183</td>\n",
       "      <td>8382912</td>\n",
       "      <td>457.9</td>\n",
       "    </tr>\n",
       "    <tr>\n",
       "      <th>...</th>\n",
       "      <td>...</td>\n",
       "      <td>...</td>\n",
       "      <td>...</td>\n",
       "      <td>...</td>\n",
       "      <td>...</td>\n",
       "      <td>...</td>\n",
       "      <td>...</td>\n",
       "      <td>...</td>\n",
       "      <td>...</td>\n",
       "      <td>...</td>\n",
       "    </tr>\n",
       "    <tr>\n",
       "      <th>3533</th>\n",
       "      <td>88</td>\n",
       "      <td>NonResidential</td>\n",
       "      <td>DOWNTOWN</td>\n",
       "      <td>0</td>\n",
       "      <td>22710</td>\n",
       "      <td>NaN</td>\n",
       "      <td>0</td>\n",
       "      <td>0</td>\n",
       "      <td>0</td>\n",
       "      <td>0.0</td>\n",
       "    </tr>\n",
       "    <tr>\n",
       "      <th>3534</th>\n",
       "      <td>38</td>\n",
       "      <td>NonResidential</td>\n",
       "      <td>MAGNOLIA / QUEEN ANNE</td>\n",
       "      <td>0</td>\n",
       "      <td>30989</td>\n",
       "      <td>NaN</td>\n",
       "      <td>0</td>\n",
       "      <td>0</td>\n",
       "      <td>0</td>\n",
       "      <td>0.0</td>\n",
       "    </tr>\n",
       "    <tr>\n",
       "      <th>3535</th>\n",
       "      <td>86</td>\n",
       "      <td>NonResidential</td>\n",
       "      <td>GREATER DUWAMISH</td>\n",
       "      <td>0</td>\n",
       "      <td>24617</td>\n",
       "      <td>NaN</td>\n",
       "      <td>0</td>\n",
       "      <td>0</td>\n",
       "      <td>0</td>\n",
       "      <td>0.0</td>\n",
       "    </tr>\n",
       "    <tr>\n",
       "      <th>3536</th>\n",
       "      <td>98</td>\n",
       "      <td>NonResidential</td>\n",
       "      <td>EAST</td>\n",
       "      <td>0</td>\n",
       "      <td>23040</td>\n",
       "      <td>NaN</td>\n",
       "      <td>0</td>\n",
       "      <td>0</td>\n",
       "      <td>0</td>\n",
       "      <td>0.0</td>\n",
       "    </tr>\n",
       "    <tr>\n",
       "      <th>3537</th>\n",
       "      <td>23</td>\n",
       "      <td>NonResidential</td>\n",
       "      <td>NORTHEAST</td>\n",
       "      <td>0</td>\n",
       "      <td>227640</td>\n",
       "      <td>NaN</td>\n",
       "      <td>0</td>\n",
       "      <td>0</td>\n",
       "      <td>0</td>\n",
       "      <td>0.0</td>\n",
       "    </tr>\n",
       "  </tbody>\n",
       "</table>\n",
       "<p>3538 rows × 10 columns</p>\n",
       "</div>"
      ],
      "text/plain": [
       "      age    BuildingType           Neighborhood  NumberofBuildings  \\\n",
       "0      91  NonResidential               DOWNTOWN                  0   \n",
       "1      22  NonResidential               DOWNTOWN                  0   \n",
       "2      49  NonResidential               DOWNTOWN                  0   \n",
       "3      92  NonResidential               DOWNTOWN                  0   \n",
       "4      38  NonResidential               DOWNTOWN                  0   \n",
       "...   ...             ...                    ...                ...   \n",
       "3533   88  NonResidential               DOWNTOWN                  0   \n",
       "3534   38  NonResidential  MAGNOLIA / QUEEN ANNE                  0   \n",
       "3535   86  NonResidential       GREATER DUWAMISH                  0   \n",
       "3536   98  NonResidential                   EAST                  0   \n",
       "3537   23  NonResidential              NORTHEAST                  0   \n",
       "\n",
       "      PropertyGFATotal  SiteEnergyUse(kBtu)  SteamUse(kBtu)  \\\n",
       "0                88434            7465990.0         2090193   \n",
       "1               103566            7962964.0               0   \n",
       "2               956110           67336376.0        20851598   \n",
       "3                61320            7426193.0         2003570   \n",
       "4               175580           13261917.0               0   \n",
       "...                ...                  ...             ...   \n",
       "3533             22710                  NaN               0   \n",
       "3534             30989                  NaN               0   \n",
       "3535             24617                  NaN               0   \n",
       "3536             23040                  NaN               0   \n",
       "3537            227640                  NaN               0   \n",
       "\n",
       "      Electricity(kBtu)  NaturalGas(kBtu)  TotalGHGEmissions  \n",
       "0               3907951           1410145              196.4  \n",
       "1               2866615           5030730              274.8  \n",
       "2              44453651           1450300             1304.2  \n",
       "3               2626057           2730608              258.5  \n",
       "4               4751183           8382912              457.9  \n",
       "...                 ...               ...                ...  \n",
       "3533                  0                 0                0.0  \n",
       "3534                  0                 0                0.0  \n",
       "3535                  0                 0                0.0  \n",
       "3536                  0                 0                0.0  \n",
       "3537                  0                 0                0.0  \n",
       "\n",
       "[3538 rows x 10 columns]"
      ]
     },
     "execution_count": 29,
     "metadata": {},
     "output_type": "execute_result"
    }
   ],
   "source": [
    "new_df"
   ]
  },
  {
   "cell_type": "code",
   "execution_count": 30,
   "id": "23ee1448",
   "metadata": {},
   "outputs": [],
   "source": [
    "new_df.to_csv('./export_2018.csv')"
   ]
  }
 ],
 "metadata": {
  "kernelspec": {
   "display_name": "Python 3 (ipykernel)",
   "language": "python",
   "name": "python3"
  },
  "language_info": {
   "codemirror_mode": {
    "name": "ipython",
    "version": 3
   },
   "file_extension": ".py",
   "mimetype": "text/x-python",
   "name": "python",
   "nbconvert_exporter": "python",
   "pygments_lexer": "ipython3",
   "version": "3.9.12"
  }
 },
 "nbformat": 4,
 "nbformat_minor": 5
}
