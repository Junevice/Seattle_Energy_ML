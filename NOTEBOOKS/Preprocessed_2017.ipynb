{
 "cells": [
  {
   "cell_type": "code",
   "execution_count": 20,
   "id": "599f14a5",
   "metadata": {},
   "outputs": [],
   "source": [
    "import pandas as pd"
   ]
  },
  {
   "cell_type": "code",
   "execution_count": 21,
   "id": "50ce819c",
   "metadata": {},
   "outputs": [],
   "source": [
    "df = pd.read_csv('../DATA/2017_Building_Energy_Benchmarking.csv')"
   ]
  },
  {
   "cell_type": "code",
   "execution_count": 22,
   "id": "9be5c04e",
   "metadata": {},
   "outputs": [],
   "source": [
    "new_df = pd.DataFrame()"
   ]
  },
  {
   "cell_type": "code",
   "execution_count": 23,
   "id": "e0a4e39e",
   "metadata": {},
   "outputs": [],
   "source": [
    "new_df['age'] = df['DataYear'] - df['YearBuilt']"
   ]
  },
  {
   "cell_type": "code",
   "execution_count": 24,
   "id": "eabd463d",
   "metadata": {},
   "outputs": [],
   "source": [
    "new_df['BuildingType'] = df['BuildingType']"
   ]
  },
  {
   "cell_type": "code",
   "execution_count": 25,
   "id": "c45af049",
   "metadata": {},
   "outputs": [],
   "source": [
    "new_df['Neighborhood'] = df['Neighborhood']"
   ]
  },
  {
   "cell_type": "code",
   "execution_count": 26,
   "id": "1d7e42a1",
   "metadata": {},
   "outputs": [],
   "source": [
    "new_df['NumberofBuildings'] = df['NumberofBuildings']"
   ]
  },
  {
   "cell_type": "code",
   "execution_count": 27,
   "id": "3d8886cc",
   "metadata": {},
   "outputs": [],
   "source": [
    "new_df['PropertyGFATotal'] = df['PropertyGFATotal']"
   ]
  },
  {
   "cell_type": "code",
   "execution_count": 28,
   "id": "4033d191",
   "metadata": {},
   "outputs": [],
   "source": [
    "new_df['SiteEnergyUse(kBtu)'] = df['SiteEnergyUse(kBtu)']"
   ]
  },
  {
   "cell_type": "code",
   "execution_count": 29,
   "id": "21e9b3e9",
   "metadata": {},
   "outputs": [],
   "source": [
    "new_df['SteamUse(kBtu)'] = df['SteamUse(kBtu)']"
   ]
  },
  {
   "cell_type": "code",
   "execution_count": 30,
   "id": "c46064fc",
   "metadata": {},
   "outputs": [],
   "source": [
    "new_df['Electricity(kBtu)'] = df['Electricity(kBtu)']"
   ]
  },
  {
   "cell_type": "code",
   "execution_count": 31,
   "id": "6d20c8eb",
   "metadata": {},
   "outputs": [],
   "source": [
    "new_df['NaturalGas(kBtu)'] = df['NaturalGas(kBtu)']"
   ]
  },
  {
   "cell_type": "code",
   "execution_count": 32,
   "id": "ac2722c7",
   "metadata": {},
   "outputs": [],
   "source": [
    "new_df['TotalGHGEmissions'] = df['TotalGHGEmissions']"
   ]
  },
  {
   "cell_type": "code",
   "execution_count": 33,
   "id": "9503a6f8",
   "metadata": {},
   "outputs": [
    {
     "data": {
      "text/html": [
       "<div>\n",
       "<style scoped>\n",
       "    .dataframe tbody tr th:only-of-type {\n",
       "        vertical-align: middle;\n",
       "    }\n",
       "\n",
       "    .dataframe tbody tr th {\n",
       "        vertical-align: top;\n",
       "    }\n",
       "\n",
       "    .dataframe thead th {\n",
       "        text-align: right;\n",
       "    }\n",
       "</style>\n",
       "<table border=\"1\" class=\"dataframe\">\n",
       "  <thead>\n",
       "    <tr style=\"text-align: right;\">\n",
       "      <th></th>\n",
       "      <th>age</th>\n",
       "      <th>BuildingType</th>\n",
       "      <th>Neighborhood</th>\n",
       "      <th>NumberofBuildings</th>\n",
       "      <th>PropertyGFATotal</th>\n",
       "      <th>SiteEnergyUse(kBtu)</th>\n",
       "      <th>SteamUse(kBtu)</th>\n",
       "      <th>Electricity(kBtu)</th>\n",
       "      <th>NaturalGas(kBtu)</th>\n",
       "      <th>TotalGHGEmissions</th>\n",
       "    </tr>\n",
       "  </thead>\n",
       "  <tbody>\n",
       "    <tr>\n",
       "      <th>0</th>\n",
       "      <td>90.0</td>\n",
       "      <td>NonResidential</td>\n",
       "      <td>DOWNTOWN</td>\n",
       "      <td>1.0</td>\n",
       "      <td>88434</td>\n",
       "      <td>7.361655e+06</td>\n",
       "      <td>2122835.75</td>\n",
       "      <td>3.950356e+06</td>\n",
       "      <td>1288462.99</td>\n",
       "      <td>197.63</td>\n",
       "    </tr>\n",
       "    <tr>\n",
       "      <th>1</th>\n",
       "      <td>21.0</td>\n",
       "      <td>NonResidential</td>\n",
       "      <td>DOWNTOWN</td>\n",
       "      <td>1.0</td>\n",
       "      <td>103566</td>\n",
       "      <td>7.804844e+06</td>\n",
       "      <td>NaN</td>\n",
       "      <td>3.016757e+06</td>\n",
       "      <td>4788086.72</td>\n",
       "      <td>266.78</td>\n",
       "    </tr>\n",
       "    <tr>\n",
       "      <th>2</th>\n",
       "      <td>48.0</td>\n",
       "      <td>Campus</td>\n",
       "      <td>DOWNTOWN</td>\n",
       "      <td>1.0</td>\n",
       "      <td>956110</td>\n",
       "      <td>7.447033e+07</td>\n",
       "      <td>24313482.00</td>\n",
       "      <td>4.871284e+07</td>\n",
       "      <td>1444000.10</td>\n",
       "      <td>1570.75</td>\n",
       "    </tr>\n",
       "    <tr>\n",
       "      <th>3</th>\n",
       "      <td>91.0</td>\n",
       "      <td>NonResidential</td>\n",
       "      <td>DOWNTOWN</td>\n",
       "      <td>1.0</td>\n",
       "      <td>61320</td>\n",
       "      <td>7.372222e+06</td>\n",
       "      <td>2228119.50</td>\n",
       "      <td>3.008514e+06</td>\n",
       "      <td>2135587.89</td>\n",
       "      <td>244.32</td>\n",
       "    </tr>\n",
       "    <tr>\n",
       "      <th>4</th>\n",
       "      <td>37.0</td>\n",
       "      <td>NonResidential</td>\n",
       "      <td>DOWNTOWN</td>\n",
       "      <td>1.0</td>\n",
       "      <td>175580</td>\n",
       "      <td>1.433578e+07</td>\n",
       "      <td>NaN</td>\n",
       "      <td>5.198202e+06</td>\n",
       "      <td>9137575.78</td>\n",
       "      <td>506.80</td>\n",
       "    </tr>\n",
       "    <tr>\n",
       "      <th>...</th>\n",
       "      <td>...</td>\n",
       "      <td>...</td>\n",
       "      <td>...</td>\n",
       "      <td>...</td>\n",
       "      <td>...</td>\n",
       "      <td>...</td>\n",
       "      <td>...</td>\n",
       "      <td>...</td>\n",
       "      <td>...</td>\n",
       "      <td>...</td>\n",
       "    </tr>\n",
       "    <tr>\n",
       "      <th>3456</th>\n",
       "      <td>111.0</td>\n",
       "      <td>Multifamily LR (1-4)</td>\n",
       "      <td>EAST</td>\n",
       "      <td>NaN</td>\n",
       "      <td>39984</td>\n",
       "      <td>NaN</td>\n",
       "      <td>NaN</td>\n",
       "      <td>NaN</td>\n",
       "      <td>NaN</td>\n",
       "      <td>0.00</td>\n",
       "    </tr>\n",
       "    <tr>\n",
       "      <th>3457</th>\n",
       "      <td>1.0</td>\n",
       "      <td>Multifamily MR (5-9)</td>\n",
       "      <td>EAST</td>\n",
       "      <td>1.0</td>\n",
       "      <td>69656</td>\n",
       "      <td>1.349080e+06</td>\n",
       "      <td>NaN</td>\n",
       "      <td>5.740574e+05</td>\n",
       "      <td>775022.95</td>\n",
       "      <td>43.54</td>\n",
       "    </tr>\n",
       "    <tr>\n",
       "      <th>3458</th>\n",
       "      <td>2.0</td>\n",
       "      <td>Multifamily MR (5-9)</td>\n",
       "      <td>CENTRAL</td>\n",
       "      <td>1.0</td>\n",
       "      <td>20838</td>\n",
       "      <td>9.024829e+05</td>\n",
       "      <td>NaN</td>\n",
       "      <td>5.024859e+05</td>\n",
       "      <td>399997.00</td>\n",
       "      <td>23.32</td>\n",
       "    </tr>\n",
       "    <tr>\n",
       "      <th>3459</th>\n",
       "      <td>2.0</td>\n",
       "      <td>Multifamily MR (5-9)</td>\n",
       "      <td>BALLARD</td>\n",
       "      <td>1.0</td>\n",
       "      <td>67505</td>\n",
       "      <td>1.837727e+06</td>\n",
       "      <td>NaN</td>\n",
       "      <td>1.823499e+06</td>\n",
       "      <td>NaN</td>\n",
       "      <td>7.54</td>\n",
       "    </tr>\n",
       "    <tr>\n",
       "      <th>3460</th>\n",
       "      <td>17.0</td>\n",
       "      <td>Multifamily MR (5-9)</td>\n",
       "      <td>DOWNTOWN</td>\n",
       "      <td>1.0</td>\n",
       "      <td>63928</td>\n",
       "      <td>3.569798e+06</td>\n",
       "      <td>NaN</td>\n",
       "      <td>1.598505e+06</td>\n",
       "      <td>1971292.77</td>\n",
       "      <td>111.31</td>\n",
       "    </tr>\n",
       "  </tbody>\n",
       "</table>\n",
       "<p>3461 rows × 10 columns</p>\n",
       "</div>"
      ],
      "text/plain": [
       "        age          BuildingType Neighborhood  NumberofBuildings  \\\n",
       "0      90.0        NonResidential     DOWNTOWN                1.0   \n",
       "1      21.0        NonResidential     DOWNTOWN                1.0   \n",
       "2      48.0                Campus     DOWNTOWN                1.0   \n",
       "3      91.0        NonResidential     DOWNTOWN                1.0   \n",
       "4      37.0        NonResidential     DOWNTOWN                1.0   \n",
       "...     ...                   ...          ...                ...   \n",
       "3456  111.0  Multifamily LR (1-4)         EAST                NaN   \n",
       "3457    1.0  Multifamily MR (5-9)         EAST                1.0   \n",
       "3458    2.0  Multifamily MR (5-9)      CENTRAL                1.0   \n",
       "3459    2.0  Multifamily MR (5-9)      BALLARD                1.0   \n",
       "3460   17.0  Multifamily MR (5-9)     DOWNTOWN                1.0   \n",
       "\n",
       "      PropertyGFATotal  SiteEnergyUse(kBtu)  SteamUse(kBtu)  \\\n",
       "0                88434         7.361655e+06      2122835.75   \n",
       "1               103566         7.804844e+06             NaN   \n",
       "2               956110         7.447033e+07     24313482.00   \n",
       "3                61320         7.372222e+06      2228119.50   \n",
       "4               175580         1.433578e+07             NaN   \n",
       "...                ...                  ...             ...   \n",
       "3456             39984                  NaN             NaN   \n",
       "3457             69656         1.349080e+06             NaN   \n",
       "3458             20838         9.024829e+05             NaN   \n",
       "3459             67505         1.837727e+06             NaN   \n",
       "3460             63928         3.569798e+06             NaN   \n",
       "\n",
       "      Electricity(kBtu)  NaturalGas(kBtu)  TotalGHGEmissions  \n",
       "0          3.950356e+06        1288462.99             197.63  \n",
       "1          3.016757e+06        4788086.72             266.78  \n",
       "2          4.871284e+07        1444000.10            1570.75  \n",
       "3          3.008514e+06        2135587.89             244.32  \n",
       "4          5.198202e+06        9137575.78             506.80  \n",
       "...                 ...               ...                ...  \n",
       "3456                NaN               NaN               0.00  \n",
       "3457       5.740574e+05         775022.95              43.54  \n",
       "3458       5.024859e+05         399997.00              23.32  \n",
       "3459       1.823499e+06               NaN               7.54  \n",
       "3460       1.598505e+06        1971292.77             111.31  \n",
       "\n",
       "[3461 rows x 10 columns]"
      ]
     },
     "execution_count": 33,
     "metadata": {},
     "output_type": "execute_result"
    }
   ],
   "source": [
    "new_df"
   ]
  },
  {
   "cell_type": "code",
   "execution_count": 34,
   "id": "23ee1448",
   "metadata": {},
   "outputs": [],
   "source": [
    "new_df.to_csv('export_2017.csv')"
   ]
  }
 ],
 "metadata": {
  "kernelspec": {
   "display_name": "Python 3 (ipykernel)",
   "language": "python",
   "name": "python3"
  },
  "language_info": {
   "codemirror_mode": {
    "name": "ipython",
    "version": 3
   },
   "file_extension": ".py",
   "mimetype": "text/x-python",
   "name": "python",
   "nbconvert_exporter": "python",
   "pygments_lexer": "ipython3",
   "version": "3.9.12"
  }
 },
 "nbformat": 4,
 "nbformat_minor": 5
}
