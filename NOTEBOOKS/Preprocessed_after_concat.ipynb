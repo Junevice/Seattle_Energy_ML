{
 "cells": [
  {
   "cell_type": "code",
   "execution_count": 24,
   "id": "7b9d6b21",
   "metadata": {},
   "outputs": [],
   "source": [
    "import pandas as pd\n",
    "from sklearn.model_selection import train_test_split"
   ]
  },
  {
   "cell_type": "code",
   "execution_count": 25,
   "id": "dd7645b2",
   "metadata": {},
   "outputs": [],
   "source": [
    "df = pd.read_csv('concat_datasets.csv')"
   ]
  },
  {
   "cell_type": "code",
   "execution_count": 26,
   "id": "2041840e",
   "metadata": {},
   "outputs": [],
   "source": [
    "df = df.drop('Unnamed: 0', axis=1)"
   ]
  },
  {
   "cell_type": "code",
   "execution_count": 27,
   "id": "b07dd8c8",
   "metadata": {},
   "outputs": [
    {
     "data": {
      "text/html": [
       "<div>\n",
       "<style scoped>\n",
       "    .dataframe tbody tr th:only-of-type {\n",
       "        vertical-align: middle;\n",
       "    }\n",
       "\n",
       "    .dataframe tbody tr th {\n",
       "        vertical-align: top;\n",
       "    }\n",
       "\n",
       "    .dataframe thead th {\n",
       "        text-align: right;\n",
       "    }\n",
       "</style>\n",
       "<table border=\"1\" class=\"dataframe\">\n",
       "  <thead>\n",
       "    <tr style=\"text-align: right;\">\n",
       "      <th></th>\n",
       "      <th>age</th>\n",
       "      <th>BuildingType</th>\n",
       "      <th>Neighborhood</th>\n",
       "      <th>PropertyGFATotal</th>\n",
       "      <th>SiteEnergyUse(kBtu)</th>\n",
       "      <th>SteamUse(kBtu)</th>\n",
       "      <th>Electricity(kBtu)</th>\n",
       "      <th>NaturalGas(kBtu)</th>\n",
       "      <th>TotalGHGEmissions</th>\n",
       "    </tr>\n",
       "  </thead>\n",
       "  <tbody>\n",
       "    <tr>\n",
       "      <th>0</th>\n",
       "      <td>48.0</td>\n",
       "      <td>Multifamily LR (1-4)</td>\n",
       "      <td>MAGNOLIA / QUEEN ANNE</td>\n",
       "      <td>40086</td>\n",
       "      <td>NaN</td>\n",
       "      <td>NaN</td>\n",
       "      <td>NaN</td>\n",
       "      <td>NaN</td>\n",
       "      <td>NaN</td>\n",
       "    </tr>\n",
       "    <tr>\n",
       "      <th>1</th>\n",
       "      <td>23.0</td>\n",
       "      <td>NonResidential</td>\n",
       "      <td>GREATER DUWAMISH</td>\n",
       "      <td>22452</td>\n",
       "      <td>1354219.0</td>\n",
       "      <td>0.0</td>\n",
       "      <td>589893.0</td>\n",
       "      <td>764350.0</td>\n",
       "      <td>44.71</td>\n",
       "    </tr>\n",
       "    <tr>\n",
       "      <th>2</th>\n",
       "      <td>8.0</td>\n",
       "      <td>Multifamily HR (10+)</td>\n",
       "      <td>DOWNTOWN</td>\n",
       "      <td>90959</td>\n",
       "      <td>4361755.0</td>\n",
       "      <td>0.0</td>\n",
       "      <td>2829904.0</td>\n",
       "      <td>1531968.0</td>\n",
       "      <td>101.09</td>\n",
       "    </tr>\n",
       "    <tr>\n",
       "      <th>3</th>\n",
       "      <td>25.0</td>\n",
       "      <td>NonResidential</td>\n",
       "      <td>LAKE UNION</td>\n",
       "      <td>282863</td>\n",
       "      <td>18829136.0</td>\n",
       "      <td>0.0</td>\n",
       "      <td>10638785.0</td>\n",
       "      <td>8190794.0</td>\n",
       "      <td>509.18</td>\n",
       "    </tr>\n",
       "    <tr>\n",
       "      <th>4</th>\n",
       "      <td>7.0</td>\n",
       "      <td>NonResidential</td>\n",
       "      <td>GREATER DUWAMISH</td>\n",
       "      <td>63225</td>\n",
       "      <td>6619941.0</td>\n",
       "      <td>0.0</td>\n",
       "      <td>6620217.0</td>\n",
       "      <td>0.0</td>\n",
       "      <td>46.15</td>\n",
       "    </tr>\n",
       "    <tr>\n",
       "      <th>...</th>\n",
       "      <td>...</td>\n",
       "      <td>...</td>\n",
       "      <td>...</td>\n",
       "      <td>...</td>\n",
       "      <td>...</td>\n",
       "      <td>...</td>\n",
       "      <td>...</td>\n",
       "      <td>...</td>\n",
       "      <td>...</td>\n",
       "    </tr>\n",
       "    <tr>\n",
       "      <th>20919</th>\n",
       "      <td>1.0</td>\n",
       "      <td>NonResidential</td>\n",
       "      <td>NORTHWEST</td>\n",
       "      <td>213065</td>\n",
       "      <td>NaN</td>\n",
       "      <td>0.0</td>\n",
       "      <td>NaN</td>\n",
       "      <td>NaN</td>\n",
       "      <td>NaN</td>\n",
       "    </tr>\n",
       "    <tr>\n",
       "      <th>20920</th>\n",
       "      <td>2.0</td>\n",
       "      <td>Multifamily MR (5-9)</td>\n",
       "      <td>MAGNOLIA / QUEEN ANNE</td>\n",
       "      <td>182411</td>\n",
       "      <td>3250235.0</td>\n",
       "      <td>0.0</td>\n",
       "      <td>2796535.0</td>\n",
       "      <td>415123.0</td>\n",
       "      <td>36.90</td>\n",
       "    </tr>\n",
       "    <tr>\n",
       "      <th>20921</th>\n",
       "      <td>60.0</td>\n",
       "      <td>NonResidential</td>\n",
       "      <td>MAGNOLIA / QUEEN ANNE</td>\n",
       "      <td>20289</td>\n",
       "      <td>2211138.0</td>\n",
       "      <td>0.0</td>\n",
       "      <td>914426.0</td>\n",
       "      <td>1196883.0</td>\n",
       "      <td>68.40</td>\n",
       "    </tr>\n",
       "    <tr>\n",
       "      <th>20922</th>\n",
       "      <td>18.0</td>\n",
       "      <td>Multifamily MR (5-9)</td>\n",
       "      <td>CENTRAL</td>\n",
       "      <td>183379</td>\n",
       "      <td>6643564.0</td>\n",
       "      <td>0.0</td>\n",
       "      <td>2733787.0</td>\n",
       "      <td>3809275.0</td>\n",
       "      <td>216.80</td>\n",
       "    </tr>\n",
       "    <tr>\n",
       "      <th>20923</th>\n",
       "      <td>2.0</td>\n",
       "      <td>Multifamily MR (5-9)</td>\n",
       "      <td>BALLARD</td>\n",
       "      <td>189044</td>\n",
       "      <td>4056120.0</td>\n",
       "      <td>0.0</td>\n",
       "      <td>2639858.0</td>\n",
       "      <td>1416262.0</td>\n",
       "      <td>89.30</td>\n",
       "    </tr>\n",
       "  </tbody>\n",
       "</table>\n",
       "<p>20924 rows × 9 columns</p>\n",
       "</div>"
      ],
      "text/plain": [
       "        age          BuildingType           Neighborhood  PropertyGFATotal  \\\n",
       "0      48.0  Multifamily LR (1-4)  MAGNOLIA / QUEEN ANNE             40086   \n",
       "1      23.0        NonResidential       GREATER DUWAMISH             22452   \n",
       "2       8.0  Multifamily HR (10+)               DOWNTOWN             90959   \n",
       "3      25.0        NonResidential             LAKE UNION            282863   \n",
       "4       7.0        NonResidential       GREATER DUWAMISH             63225   \n",
       "...     ...                   ...                    ...               ...   \n",
       "20919   1.0        NonResidential              NORTHWEST            213065   \n",
       "20920   2.0  Multifamily MR (5-9)  MAGNOLIA / QUEEN ANNE            182411   \n",
       "20921  60.0        NonResidential  MAGNOLIA / QUEEN ANNE             20289   \n",
       "20922  18.0  Multifamily MR (5-9)                CENTRAL            183379   \n",
       "20923   2.0  Multifamily MR (5-9)                BALLARD            189044   \n",
       "\n",
       "       SiteEnergyUse(kBtu)  SteamUse(kBtu)  Electricity(kBtu)  \\\n",
       "0                      NaN             NaN                NaN   \n",
       "1                1354219.0             0.0           589893.0   \n",
       "2                4361755.0             0.0          2829904.0   \n",
       "3               18829136.0             0.0         10638785.0   \n",
       "4                6619941.0             0.0          6620217.0   \n",
       "...                    ...             ...                ...   \n",
       "20919                  NaN             0.0                NaN   \n",
       "20920            3250235.0             0.0          2796535.0   \n",
       "20921            2211138.0             0.0           914426.0   \n",
       "20922            6643564.0             0.0          2733787.0   \n",
       "20923            4056120.0             0.0          2639858.0   \n",
       "\n",
       "       NaturalGas(kBtu)  TotalGHGEmissions  \n",
       "0                   NaN                NaN  \n",
       "1              764350.0              44.71  \n",
       "2             1531968.0             101.09  \n",
       "3             8190794.0             509.18  \n",
       "4                   0.0              46.15  \n",
       "...                 ...                ...  \n",
       "20919               NaN                NaN  \n",
       "20920          415123.0              36.90  \n",
       "20921         1196883.0              68.40  \n",
       "20922         3809275.0             216.80  \n",
       "20923         1416262.0              89.30  \n",
       "\n",
       "[20924 rows x 9 columns]"
      ]
     },
     "execution_count": 27,
     "metadata": {},
     "output_type": "execute_result"
    }
   ],
   "source": [
    "df"
   ]
  },
  {
   "cell_type": "code",
   "execution_count": 28,
   "id": "27fb3341",
   "metadata": {},
   "outputs": [
    {
     "data": {
      "text/plain": [
       "array(['Multifamily LR (1-4)', 'NonResidential', 'Multifamily HR (10+)',\n",
       "       'SPS-District K-12', 'Multifamily MR (5-9)', 'Campus',\n",
       "       'Nonresidential COS', 'Nonresidential WA'], dtype=object)"
      ]
     },
     "execution_count": 28,
     "metadata": {},
     "output_type": "execute_result"
    }
   ],
   "source": [
    "df['BuildingType'].unique()"
   ]
  },
  {
   "cell_type": "code",
   "execution_count": 29,
   "id": "389b87ff",
   "metadata": {},
   "outputs": [],
   "source": [
    "df_non_residentiel = df[df[\"BuildingType\"].isin(['NonResidential', 'Nonresidential COS', 'Nonresidential WA'])]"
   ]
  },
  {
   "cell_type": "code",
   "execution_count": 30,
   "id": "6e17909f",
   "metadata": {},
   "outputs": [
    {
     "name": "stderr",
     "output_type": "stream",
     "text": [
      "C:\\Users\\remyl\\miniconda3\\lib\\site-packages\\statsmodels\\base\\model.py:1871: ValueWarning: covariance of constraints does not have full rank. The number of constraints is 25, but rank is 2\n",
      "  warnings.warn('covariance of constraints does not have full '\n",
      "C:\\Users\\remyl\\miniconda3\\lib\\site-packages\\statsmodels\\base\\model.py:1871: ValueWarning: covariance of constraints does not have full rank. The number of constraints is 2, but rank is 0\n",
      "  warnings.warn('covariance of constraints does not have full '\n",
      "C:\\Users\\remyl\\miniconda3\\lib\\site-packages\\statsmodels\\base\\model.py:1900: RuntimeWarning: invalid value encountered in divide\n",
      "  F /= J\n",
      "C:\\Users\\remyl\\miniconda3\\lib\\site-packages\\statsmodels\\base\\model.py:1871: ValueWarning: covariance of constraints does not have full rank. The number of constraints is 50, but rank is 16\n",
      "  warnings.warn('covariance of constraints does not have full '\n"
     ]
    },
    {
     "data": {
      "text/html": [
       "<div>\n",
       "<style scoped>\n",
       "    .dataframe tbody tr th:only-of-type {\n",
       "        vertical-align: middle;\n",
       "    }\n",
       "\n",
       "    .dataframe tbody tr th {\n",
       "        vertical-align: top;\n",
       "    }\n",
       "\n",
       "    .dataframe thead th {\n",
       "        text-align: right;\n",
       "    }\n",
       "</style>\n",
       "<table border=\"1\" class=\"dataframe\">\n",
       "  <thead>\n",
       "    <tr style=\"text-align: right;\">\n",
       "      <th></th>\n",
       "      <th>sum_sq</th>\n",
       "      <th>df</th>\n",
       "      <th>F</th>\n",
       "      <th>PR(&gt;F)</th>\n",
       "    </tr>\n",
       "  </thead>\n",
       "  <tbody>\n",
       "    <tr>\n",
       "      <th>Neighborhood</th>\n",
       "      <td>3.948829e+05</td>\n",
       "      <td>25.0</td>\n",
       "      <td>0.001480</td>\n",
       "      <td>0.998521</td>\n",
       "    </tr>\n",
       "    <tr>\n",
       "      <th>BuildingType</th>\n",
       "      <td>NaN</td>\n",
       "      <td>2.0</td>\n",
       "      <td>NaN</td>\n",
       "      <td>NaN</td>\n",
       "    </tr>\n",
       "    <tr>\n",
       "      <th>Neighborhood:BuildingType</th>\n",
       "      <td>9.631294e+06</td>\n",
       "      <td>50.0</td>\n",
       "      <td>0.018046</td>\n",
       "      <td>1.000000</td>\n",
       "    </tr>\n",
       "    <tr>\n",
       "      <th>Residual</th>\n",
       "      <td>9.812784e+10</td>\n",
       "      <td>9193.0</td>\n",
       "      <td>NaN</td>\n",
       "      <td>NaN</td>\n",
       "    </tr>\n",
       "  </tbody>\n",
       "</table>\n",
       "</div>"
      ],
      "text/plain": [
       "                                 sum_sq      df         F    PR(>F)\n",
       "Neighborhood               3.948829e+05    25.0  0.001480  0.998521\n",
       "BuildingType                        NaN     2.0       NaN       NaN\n",
       "Neighborhood:BuildingType  9.631294e+06    50.0  0.018046  1.000000\n",
       "Residual                   9.812784e+10  9193.0       NaN       NaN"
      ]
     },
     "execution_count": 30,
     "metadata": {},
     "output_type": "execute_result"
    }
   ],
   "source": [
    "import statsmodels.api as sm\n",
    "from statsmodels.formula.api import ols\n",
    "\n",
    "model = ols('TotalGHGEmissions~ Neighborhood * BuildingType', data = df_non_residentiel).fit()\n",
    "anova_result = sm.stats.anova_lm(model, typ=2)\n",
    "anova_result"
   ]
  },
  {
   "cell_type": "code",
   "execution_count": 31,
   "id": "3dfeddcd",
   "metadata": {},
   "outputs": [
    {
     "data": {
      "text/html": [
       "<div>\n",
       "<style scoped>\n",
       "    .dataframe tbody tr th:only-of-type {\n",
       "        vertical-align: middle;\n",
       "    }\n",
       "\n",
       "    .dataframe tbody tr th {\n",
       "        vertical-align: top;\n",
       "    }\n",
       "\n",
       "    .dataframe thead th {\n",
       "        text-align: right;\n",
       "    }\n",
       "</style>\n",
       "<table border=\"1\" class=\"dataframe\">\n",
       "  <thead>\n",
       "    <tr style=\"text-align: right;\">\n",
       "      <th></th>\n",
       "      <th>age</th>\n",
       "      <th>PropertyGFATotal</th>\n",
       "      <th>SiteEnergyUse(kBtu)</th>\n",
       "      <th>SteamUse(kBtu)</th>\n",
       "      <th>Electricity(kBtu)</th>\n",
       "      <th>NaturalGas(kBtu)</th>\n",
       "      <th>TotalGHGEmissions</th>\n",
       "    </tr>\n",
       "  </thead>\n",
       "  <tbody>\n",
       "    <tr>\n",
       "      <th>age</th>\n",
       "      <td>1.000000</td>\n",
       "      <td>-0.247829</td>\n",
       "      <td>-0.011610</td>\n",
       "      <td>0.011392</td>\n",
       "      <td>-0.176310</td>\n",
       "      <td>-0.103422</td>\n",
       "      <td>-0.000731</td>\n",
       "    </tr>\n",
       "    <tr>\n",
       "      <th>PropertyGFATotal</th>\n",
       "      <td>-0.247829</td>\n",
       "      <td>1.000000</td>\n",
       "      <td>0.012535</td>\n",
       "      <td>0.031707</td>\n",
       "      <td>0.619406</td>\n",
       "      <td>0.259445</td>\n",
       "      <td>0.067347</td>\n",
       "    </tr>\n",
       "    <tr>\n",
       "      <th>SiteEnergyUse(kBtu)</th>\n",
       "      <td>-0.011610</td>\n",
       "      <td>0.012535</td>\n",
       "      <td>1.000000</td>\n",
       "      <td>0.051254</td>\n",
       "      <td>0.024787</td>\n",
       "      <td>0.117689</td>\n",
       "      <td>0.051554</td>\n",
       "    </tr>\n",
       "    <tr>\n",
       "      <th>SteamUse(kBtu)</th>\n",
       "      <td>0.011392</td>\n",
       "      <td>0.031707</td>\n",
       "      <td>0.051254</td>\n",
       "      <td>1.000000</td>\n",
       "      <td>0.032576</td>\n",
       "      <td>-0.002956</td>\n",
       "      <td>0.996437</td>\n",
       "    </tr>\n",
       "    <tr>\n",
       "      <th>Electricity(kBtu)</th>\n",
       "      <td>-0.176310</td>\n",
       "      <td>0.619406</td>\n",
       "      <td>0.024787</td>\n",
       "      <td>0.032576</td>\n",
       "      <td>1.000000</td>\n",
       "      <td>0.265023</td>\n",
       "      <td>0.077484</td>\n",
       "    </tr>\n",
       "    <tr>\n",
       "      <th>NaturalGas(kBtu)</th>\n",
       "      <td>-0.103422</td>\n",
       "      <td>0.259445</td>\n",
       "      <td>0.117689</td>\n",
       "      <td>-0.002956</td>\n",
       "      <td>0.265023</td>\n",
       "      <td>1.000000</td>\n",
       "      <td>0.074767</td>\n",
       "    </tr>\n",
       "    <tr>\n",
       "      <th>TotalGHGEmissions</th>\n",
       "      <td>-0.000731</td>\n",
       "      <td>0.067347</td>\n",
       "      <td>0.051554</td>\n",
       "      <td>0.996437</td>\n",
       "      <td>0.077484</td>\n",
       "      <td>0.074767</td>\n",
       "      <td>1.000000</td>\n",
       "    </tr>\n",
       "  </tbody>\n",
       "</table>\n",
       "</div>"
      ],
      "text/plain": [
       "                          age  PropertyGFATotal  SiteEnergyUse(kBtu)  \\\n",
       "age                  1.000000         -0.247829            -0.011610   \n",
       "PropertyGFATotal    -0.247829          1.000000             0.012535   \n",
       "SiteEnergyUse(kBtu) -0.011610          0.012535             1.000000   \n",
       "SteamUse(kBtu)       0.011392          0.031707             0.051254   \n",
       "Electricity(kBtu)   -0.176310          0.619406             0.024787   \n",
       "NaturalGas(kBtu)    -0.103422          0.259445             0.117689   \n",
       "TotalGHGEmissions   -0.000731          0.067347             0.051554   \n",
       "\n",
       "                     SteamUse(kBtu)  Electricity(kBtu)  NaturalGas(kBtu)  \\\n",
       "age                        0.011392          -0.176310         -0.103422   \n",
       "PropertyGFATotal           0.031707           0.619406          0.259445   \n",
       "SiteEnergyUse(kBtu)        0.051254           0.024787          0.117689   \n",
       "SteamUse(kBtu)             1.000000           0.032576         -0.002956   \n",
       "Electricity(kBtu)          0.032576           1.000000          0.265023   \n",
       "NaturalGas(kBtu)          -0.002956           0.265023          1.000000   \n",
       "TotalGHGEmissions          0.996437           0.077484          0.074767   \n",
       "\n",
       "                     TotalGHGEmissions  \n",
       "age                          -0.000731  \n",
       "PropertyGFATotal              0.067347  \n",
       "SiteEnergyUse(kBtu)           0.051554  \n",
       "SteamUse(kBtu)                0.996437  \n",
       "Electricity(kBtu)             0.077484  \n",
       "NaturalGas(kBtu)              0.074767  \n",
       "TotalGHGEmissions             1.000000  "
      ]
     },
     "execution_count": 31,
     "metadata": {},
     "output_type": "execute_result"
    }
   ],
   "source": [
    "df_non_residentiel.corr()"
   ]
  },
  {
   "cell_type": "code",
   "execution_count": 32,
   "id": "67ed198b",
   "metadata": {},
   "outputs": [
    {
     "data": {
      "text/html": [
       "<div>\n",
       "<style scoped>\n",
       "    .dataframe tbody tr th:only-of-type {\n",
       "        vertical-align: middle;\n",
       "    }\n",
       "\n",
       "    .dataframe tbody tr th {\n",
       "        vertical-align: top;\n",
       "    }\n",
       "\n",
       "    .dataframe thead th {\n",
       "        text-align: right;\n",
       "    }\n",
       "</style>\n",
       "<table border=\"1\" class=\"dataframe\">\n",
       "  <thead>\n",
       "    <tr style=\"text-align: right;\">\n",
       "      <th></th>\n",
       "      <th>age</th>\n",
       "      <th>BuildingType</th>\n",
       "      <th>Neighborhood</th>\n",
       "      <th>PropertyGFATotal</th>\n",
       "      <th>SiteEnergyUse(kBtu)</th>\n",
       "      <th>SteamUse(kBtu)</th>\n",
       "      <th>Electricity(kBtu)</th>\n",
       "      <th>NaturalGas(kBtu)</th>\n",
       "      <th>TotalGHGEmissions</th>\n",
       "    </tr>\n",
       "  </thead>\n",
       "  <tbody>\n",
       "    <tr>\n",
       "      <th>1</th>\n",
       "      <td>23.0</td>\n",
       "      <td>NonResidential</td>\n",
       "      <td>GREATER DUWAMISH</td>\n",
       "      <td>22452</td>\n",
       "      <td>1354219.0</td>\n",
       "      <td>0.0</td>\n",
       "      <td>589893.0</td>\n",
       "      <td>764350.0</td>\n",
       "      <td>44.71</td>\n",
       "    </tr>\n",
       "    <tr>\n",
       "      <th>3</th>\n",
       "      <td>25.0</td>\n",
       "      <td>NonResidential</td>\n",
       "      <td>LAKE UNION</td>\n",
       "      <td>282863</td>\n",
       "      <td>18829136.0</td>\n",
       "      <td>0.0</td>\n",
       "      <td>10638785.0</td>\n",
       "      <td>8190794.0</td>\n",
       "      <td>509.18</td>\n",
       "    </tr>\n",
       "    <tr>\n",
       "      <th>4</th>\n",
       "      <td>7.0</td>\n",
       "      <td>NonResidential</td>\n",
       "      <td>GREATER DUWAMISH</td>\n",
       "      <td>63225</td>\n",
       "      <td>6619941.0</td>\n",
       "      <td>0.0</td>\n",
       "      <td>6620217.0</td>\n",
       "      <td>0.0</td>\n",
       "      <td>46.15</td>\n",
       "    </tr>\n",
       "    <tr>\n",
       "      <th>7</th>\n",
       "      <td>101.0</td>\n",
       "      <td>NonResidential</td>\n",
       "      <td>GREATER DUWAMISH</td>\n",
       "      <td>64512</td>\n",
       "      <td>6155789.0</td>\n",
       "      <td>0.0</td>\n",
       "      <td>3128812.0</td>\n",
       "      <td>3027106.0</td>\n",
       "      <td>182.58</td>\n",
       "    </tr>\n",
       "    <tr>\n",
       "      <th>8</th>\n",
       "      <td>9.0</td>\n",
       "      <td>NonResidential</td>\n",
       "      <td>LAKE UNION</td>\n",
       "      <td>209816</td>\n",
       "      <td>7380088.0</td>\n",
       "      <td>0.0</td>\n",
       "      <td>5725946.0</td>\n",
       "      <td>1654379.0</td>\n",
       "      <td>127.78</td>\n",
       "    </tr>\n",
       "    <tr>\n",
       "      <th>...</th>\n",
       "      <td>...</td>\n",
       "      <td>...</td>\n",
       "      <td>...</td>\n",
       "      <td>...</td>\n",
       "      <td>...</td>\n",
       "      <td>...</td>\n",
       "      <td>...</td>\n",
       "      <td>...</td>\n",
       "      <td>...</td>\n",
       "    </tr>\n",
       "    <tr>\n",
       "      <th>20907</th>\n",
       "      <td>1.0</td>\n",
       "      <td>NonResidential</td>\n",
       "      <td>NORTHWEST</td>\n",
       "      <td>150138</td>\n",
       "      <td>1082878.0</td>\n",
       "      <td>0.0</td>\n",
       "      <td>303144.0</td>\n",
       "      <td>779734.0</td>\n",
       "      <td>43.00</td>\n",
       "    </tr>\n",
       "    <tr>\n",
       "      <th>20914</th>\n",
       "      <td>2.0</td>\n",
       "      <td>NonResidential</td>\n",
       "      <td>BALLARD</td>\n",
       "      <td>52100</td>\n",
       "      <td>NaN</td>\n",
       "      <td>0.0</td>\n",
       "      <td>0.0</td>\n",
       "      <td>0.0</td>\n",
       "      <td>0.00</td>\n",
       "    </tr>\n",
       "    <tr>\n",
       "      <th>20916</th>\n",
       "      <td>2.0</td>\n",
       "      <td>NonResidential</td>\n",
       "      <td>MAGNOLIA / QUEEN ANNE</td>\n",
       "      <td>270000</td>\n",
       "      <td>2593545.0</td>\n",
       "      <td>0.0</td>\n",
       "      <td>720795.0</td>\n",
       "      <td>1735619.0</td>\n",
       "      <td>96.00</td>\n",
       "    </tr>\n",
       "    <tr>\n",
       "      <th>20919</th>\n",
       "      <td>1.0</td>\n",
       "      <td>NonResidential</td>\n",
       "      <td>NORTHWEST</td>\n",
       "      <td>213065</td>\n",
       "      <td>NaN</td>\n",
       "      <td>0.0</td>\n",
       "      <td>NaN</td>\n",
       "      <td>NaN</td>\n",
       "      <td>NaN</td>\n",
       "    </tr>\n",
       "    <tr>\n",
       "      <th>20921</th>\n",
       "      <td>60.0</td>\n",
       "      <td>NonResidential</td>\n",
       "      <td>MAGNOLIA / QUEEN ANNE</td>\n",
       "      <td>20289</td>\n",
       "      <td>2211138.0</td>\n",
       "      <td>0.0</td>\n",
       "      <td>914426.0</td>\n",
       "      <td>1196883.0</td>\n",
       "      <td>68.40</td>\n",
       "    </tr>\n",
       "  </tbody>\n",
       "</table>\n",
       "<p>9279 rows × 9 columns</p>\n",
       "</div>"
      ],
      "text/plain": [
       "         age    BuildingType           Neighborhood  PropertyGFATotal  \\\n",
       "1       23.0  NonResidential       GREATER DUWAMISH             22452   \n",
       "3       25.0  NonResidential             LAKE UNION            282863   \n",
       "4        7.0  NonResidential       GREATER DUWAMISH             63225   \n",
       "7      101.0  NonResidential       GREATER DUWAMISH             64512   \n",
       "8        9.0  NonResidential             LAKE UNION            209816   \n",
       "...      ...             ...                    ...               ...   \n",
       "20907    1.0  NonResidential              NORTHWEST            150138   \n",
       "20914    2.0  NonResidential                BALLARD             52100   \n",
       "20916    2.0  NonResidential  MAGNOLIA / QUEEN ANNE            270000   \n",
       "20919    1.0  NonResidential              NORTHWEST            213065   \n",
       "20921   60.0  NonResidential  MAGNOLIA / QUEEN ANNE             20289   \n",
       "\n",
       "       SiteEnergyUse(kBtu)  SteamUse(kBtu)  Electricity(kBtu)  \\\n",
       "1                1354219.0             0.0           589893.0   \n",
       "3               18829136.0             0.0         10638785.0   \n",
       "4                6619941.0             0.0          6620217.0   \n",
       "7                6155789.0             0.0          3128812.0   \n",
       "8                7380088.0             0.0          5725946.0   \n",
       "...                    ...             ...                ...   \n",
       "20907            1082878.0             0.0           303144.0   \n",
       "20914                  NaN             0.0                0.0   \n",
       "20916            2593545.0             0.0           720795.0   \n",
       "20919                  NaN             0.0                NaN   \n",
       "20921            2211138.0             0.0           914426.0   \n",
       "\n",
       "       NaturalGas(kBtu)  TotalGHGEmissions  \n",
       "1              764350.0              44.71  \n",
       "3             8190794.0             509.18  \n",
       "4                   0.0              46.15  \n",
       "7             3027106.0             182.58  \n",
       "8             1654379.0             127.78  \n",
       "...                 ...                ...  \n",
       "20907          779734.0              43.00  \n",
       "20914               0.0               0.00  \n",
       "20916         1735619.0              96.00  \n",
       "20919               NaN                NaN  \n",
       "20921         1196883.0              68.40  \n",
       "\n",
       "[9279 rows x 9 columns]"
      ]
     },
     "execution_count": 32,
     "metadata": {},
     "output_type": "execute_result"
    }
   ],
   "source": [
    "df_non_residentiel"
   ]
  },
  {
   "cell_type": "code",
   "execution_count": 33,
   "id": "e189c827",
   "metadata": {},
   "outputs": [],
   "source": [
    "df_non_residentiel = df_non_residentiel.drop(['age', 'BuildingType', 'Neighborhood'], axis=1)"
   ]
  },
  {
   "cell_type": "code",
   "execution_count": 34,
   "id": "72516f79",
   "metadata": {},
   "outputs": [
    {
     "data": {
      "text/plain": [
       "PropertyGFATotal          0\n",
       "SiteEnergyUse(kBtu)     232\n",
       "SteamUse(kBtu)         1436\n",
       "Electricity(kBtu)        44\n",
       "NaturalGas(kBtu)        485\n",
       "TotalGHGEmissions        31\n",
       "dtype: int64"
      ]
     },
     "execution_count": 34,
     "metadata": {},
     "output_type": "execute_result"
    }
   ],
   "source": [
    "df_non_residentiel.isna().sum()"
   ]
  },
  {
   "cell_type": "code",
   "execution_count": 35,
   "id": "7e82f22e",
   "metadata": {},
   "outputs": [],
   "source": [
    "df_non_residentiel = df_non_residentiel.dropna()"
   ]
  },
  {
   "cell_type": "code",
   "execution_count": 36,
   "id": "3df0b202",
   "metadata": {},
   "outputs": [
    {
     "data": {
      "text/plain": [
       "PropertyGFATotal       0\n",
       "SiteEnergyUse(kBtu)    0\n",
       "SteamUse(kBtu)         0\n",
       "Electricity(kBtu)      0\n",
       "NaturalGas(kBtu)       0\n",
       "TotalGHGEmissions      0\n",
       "dtype: int64"
      ]
     },
     "execution_count": 36,
     "metadata": {},
     "output_type": "execute_result"
    }
   ],
   "source": [
    "df_non_residentiel.isna().sum()"
   ]
  },
  {
   "cell_type": "code",
   "execution_count": 37,
   "id": "8e335b45",
   "metadata": {},
   "outputs": [],
   "source": [
    "# df_non_residentiel[df_non_residentiel['TotalGHGEmissions']>0]\n",
    "# df_non_residentiel"
   ]
  },
  {
   "cell_type": "markdown",
   "id": "a8926ca7",
   "metadata": {},
   "source": [
    "# Model"
   ]
  },
  {
   "cell_type": "code",
   "execution_count": 38,
   "id": "8a834bd5",
   "metadata": {},
   "outputs": [],
   "source": [
    "# df_non_residentiel = df_non_residentiel.sample(n=5000)"
   ]
  },
  {
   "cell_type": "code",
   "execution_count": 39,
   "id": "4780d098",
   "metadata": {},
   "outputs": [],
   "source": [
    "y = df_non_residentiel['TotalGHGEmissions']\n",
    "X = df_non_residentiel.drop(['TotalGHGEmissions'],axis=1)"
   ]
  },
  {
   "cell_type": "code",
   "execution_count": 40,
   "id": "59b48c89",
   "metadata": {},
   "outputs": [],
   "source": [
    "X_train, X_test, y_train, y_test = train_test_split(X, y, test_size=0.2, random_state=42)"
   ]
  },
  {
   "cell_type": "code",
   "execution_count": 41,
   "id": "bd7baac2",
   "metadata": {},
   "outputs": [
    {
     "name": "stdout",
     "output_type": "stream",
     "text": [
      "(6058, 5) (1515, 5) (6058,) (1515,)\n"
     ]
    }
   ],
   "source": [
    "print(X_train.shape, X_test.shape, y_train.shape, y_test.shape)"
   ]
  },
  {
   "cell_type": "code",
   "execution_count": 42,
   "id": "32be19d8",
   "metadata": {},
   "outputs": [],
   "source": [
    "# from lazypredict.Supervised import LazyRegressor\n",
    "\n",
    "# reg = LazyRegressor(verbose=0, ignore_warnings=False, custom_metric=None)\n",
    "# models, predictions = reg.fit(X_train, X_test, y_train, y_test)\n",
    "\n",
    "# print(models)"
   ]
  },
  {
   "cell_type": "code",
   "execution_count": 49,
   "id": "ac3aaa45",
   "metadata": {},
   "outputs": [
    {
     "name": "stderr",
     "output_type": "stream",
     "text": [
      "C:\\Users\\remyl\\miniconda3\\lib\\site-packages\\sklearn\\linear_model\\_coordinate_descent.py:648: ConvergenceWarning: Objective did not converge. You might want to increase the number of iterations, check the scale of the features or consider increasing regularisation. Duality gap: 4.327e+07, tolerance: 9.788e+06\n",
      "  model = cd_fast.enet_coordinate_descent(\n"
     ]
    },
    {
     "data": {
      "text/html": [
       "<style>#sk-container-id-5 {color: black;background-color: white;}#sk-container-id-5 pre{padding: 0;}#sk-container-id-5 div.sk-toggleable {background-color: white;}#sk-container-id-5 label.sk-toggleable__label {cursor: pointer;display: block;width: 100%;margin-bottom: 0;padding: 0.3em;box-sizing: border-box;text-align: center;}#sk-container-id-5 label.sk-toggleable__label-arrow:before {content: \"▸\";float: left;margin-right: 0.25em;color: #696969;}#sk-container-id-5 label.sk-toggleable__label-arrow:hover:before {color: black;}#sk-container-id-5 div.sk-estimator:hover label.sk-toggleable__label-arrow:before {color: black;}#sk-container-id-5 div.sk-toggleable__content {max-height: 0;max-width: 0;overflow: hidden;text-align: left;background-color: #f0f8ff;}#sk-container-id-5 div.sk-toggleable__content pre {margin: 0.2em;color: black;border-radius: 0.25em;background-color: #f0f8ff;}#sk-container-id-5 input.sk-toggleable__control:checked~div.sk-toggleable__content {max-height: 200px;max-width: 100%;overflow: auto;}#sk-container-id-5 input.sk-toggleable__control:checked~label.sk-toggleable__label-arrow:before {content: \"▾\";}#sk-container-id-5 div.sk-estimator input.sk-toggleable__control:checked~label.sk-toggleable__label {background-color: #d4ebff;}#sk-container-id-5 div.sk-label input.sk-toggleable__control:checked~label.sk-toggleable__label {background-color: #d4ebff;}#sk-container-id-5 input.sk-hidden--visually {border: 0;clip: rect(1px 1px 1px 1px);clip: rect(1px, 1px, 1px, 1px);height: 1px;margin: -1px;overflow: hidden;padding: 0;position: absolute;width: 1px;}#sk-container-id-5 div.sk-estimator {font-family: monospace;background-color: #f0f8ff;border: 1px dotted black;border-radius: 0.25em;box-sizing: border-box;margin-bottom: 0.5em;}#sk-container-id-5 div.sk-estimator:hover {background-color: #d4ebff;}#sk-container-id-5 div.sk-parallel-item::after {content: \"\";width: 100%;border-bottom: 1px solid gray;flex-grow: 1;}#sk-container-id-5 div.sk-label:hover label.sk-toggleable__label {background-color: #d4ebff;}#sk-container-id-5 div.sk-serial::before {content: \"\";position: absolute;border-left: 1px solid gray;box-sizing: border-box;top: 0;bottom: 0;left: 50%;z-index: 0;}#sk-container-id-5 div.sk-serial {display: flex;flex-direction: column;align-items: center;background-color: white;padding-right: 0.2em;padding-left: 0.2em;position: relative;}#sk-container-id-5 div.sk-item {position: relative;z-index: 1;}#sk-container-id-5 div.sk-parallel {display: flex;align-items: stretch;justify-content: center;background-color: white;position: relative;}#sk-container-id-5 div.sk-item::before, #sk-container-id-5 div.sk-parallel-item::before {content: \"\";position: absolute;border-left: 1px solid gray;box-sizing: border-box;top: 0;bottom: 0;left: 50%;z-index: -1;}#sk-container-id-5 div.sk-parallel-item {display: flex;flex-direction: column;z-index: 1;position: relative;background-color: white;}#sk-container-id-5 div.sk-parallel-item:first-child::after {align-self: flex-end;width: 50%;}#sk-container-id-5 div.sk-parallel-item:last-child::after {align-self: flex-start;width: 50%;}#sk-container-id-5 div.sk-parallel-item:only-child::after {width: 0;}#sk-container-id-5 div.sk-dashed-wrapped {border: 1px dashed gray;margin: 0 0.4em 0.5em 0.4em;box-sizing: border-box;padding-bottom: 0.4em;background-color: white;}#sk-container-id-5 div.sk-label label {font-family: monospace;font-weight: bold;display: inline-block;line-height: 1.2em;}#sk-container-id-5 div.sk-label-container {text-align: center;}#sk-container-id-5 div.sk-container {/* jupyter's `normalize.less` sets `[hidden] { display: none; }` but bootstrap.min.css set `[hidden] { display: none !important; }` so we also need the `!important` here to be able to override the default hidden behavior on the sphinx rendered scikit-learn.org. See: https://github.com/scikit-learn/scikit-learn/issues/21755 */display: inline-block !important;position: relative;}#sk-container-id-5 div.sk-text-repr-fallback {display: none;}</style><div id=\"sk-container-id-5\" class=\"sk-top-container\"><div class=\"sk-text-repr-fallback\"><pre>Lasso(alpha=0.1)</pre><b>In a Jupyter environment, please rerun this cell to show the HTML representation or trust the notebook. <br />On GitHub, the HTML representation is unable to render, please try loading this page with nbviewer.org.</b></div><div class=\"sk-container\" hidden><div class=\"sk-item\"><div class=\"sk-estimator sk-toggleable\"><input class=\"sk-toggleable__control sk-hidden--visually\" id=\"sk-estimator-id-5\" type=\"checkbox\" checked><label for=\"sk-estimator-id-5\" class=\"sk-toggleable__label sk-toggleable__label-arrow\">Lasso</label><div class=\"sk-toggleable__content\"><pre>Lasso(alpha=0.1)</pre></div></div></div></div></div>"
      ],
      "text/plain": [
       "Lasso(alpha=0.1)"
      ]
     },
     "execution_count": 49,
     "metadata": {},
     "output_type": "execute_result"
    }
   ],
   "source": [
    "from sklearn import linear_model\n",
    "clf = linear_model.Lasso(alpha=0.1)\n",
    "clf.fit(X_train, y_train)"
   ]
  },
  {
   "cell_type": "code",
   "execution_count": 50,
   "id": "2fe0312e",
   "metadata": {},
   "outputs": [
    {
     "data": {
      "text/plain": [
       "0.9505672500373632"
      ]
     },
     "execution_count": 50,
     "metadata": {},
     "output_type": "execute_result"
    }
   ],
   "source": [
    "clf.score(X_test, y_test)"
   ]
  },
  {
   "cell_type": "code",
   "execution_count": 51,
   "id": "e7dddc6f",
   "metadata": {},
   "outputs": [
    {
     "data": {
      "text/plain": [
       "0.999115894776761"
      ]
     },
     "execution_count": 51,
     "metadata": {},
     "output_type": "execute_result"
    }
   ],
   "source": [
    "clf.score(X_train, y_train)"
   ]
  },
  {
   "cell_type": "code",
   "execution_count": null,
   "id": "67a0f117",
   "metadata": {},
   "outputs": [],
   "source": []
  }
 ],
 "metadata": {
  "kernelspec": {
   "display_name": "Python 3 (ipykernel)",
   "language": "python",
   "name": "python3"
  },
  "language_info": {
   "codemirror_mode": {
    "name": "ipython",
    "version": 3
   },
   "file_extension": ".py",
   "mimetype": "text/x-python",
   "name": "python",
   "nbconvert_exporter": "python",
   "pygments_lexer": "ipython3",
   "version": "3.9.12"
  }
 },
 "nbformat": 4,
 "nbformat_minor": 5
}
