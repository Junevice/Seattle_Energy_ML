{
 "cells": [
  {
   "cell_type": "code",
   "execution_count": 32,
   "id": "4cac3704",
   "metadata": {},
   "outputs": [],
   "source": [
    "import pandas as pd\n",
    "import plotly.express as px"
   ]
  },
  {
   "cell_type": "code",
   "execution_count": 33,
   "id": "885f5d2d",
   "metadata": {},
   "outputs": [
    {
     "data": {
      "text/html": [
       "<div>\n",
       "<style scoped>\n",
       "    .dataframe tbody tr th:only-of-type {\n",
       "        vertical-align: middle;\n",
       "    }\n",
       "\n",
       "    .dataframe tbody tr th {\n",
       "        vertical-align: top;\n",
       "    }\n",
       "\n",
       "    .dataframe thead th {\n",
       "        text-align: right;\n",
       "    }\n",
       "</style>\n",
       "<table border=\"1\" class=\"dataframe\">\n",
       "  <thead>\n",
       "    <tr style=\"text-align: right;\">\n",
       "      <th></th>\n",
       "      <th>OSEBuildingID</th>\n",
       "      <th>DataYear</th>\n",
       "      <th>BuildingType</th>\n",
       "      <th>PrimaryPropertyType</th>\n",
       "      <th>PropertyName</th>\n",
       "      <th>Address</th>\n",
       "      <th>City</th>\n",
       "      <th>State</th>\n",
       "      <th>ZipCode</th>\n",
       "      <th>TaxParcelIdentificationNumber</th>\n",
       "      <th>...</th>\n",
       "      <th>Electricity(kWh)</th>\n",
       "      <th>Electricity(kBtu)</th>\n",
       "      <th>NaturalGas(therms)</th>\n",
       "      <th>NaturalGas(kBtu)</th>\n",
       "      <th>DefaultData</th>\n",
       "      <th>Comments</th>\n",
       "      <th>ComplianceStatus</th>\n",
       "      <th>Outlier</th>\n",
       "      <th>TotalGHGEmissions</th>\n",
       "      <th>GHGEmissionsIntensity</th>\n",
       "    </tr>\n",
       "  </thead>\n",
       "  <tbody>\n",
       "    <tr>\n",
       "      <th>0</th>\n",
       "      <td>1</td>\n",
       "      <td>2016</td>\n",
       "      <td>NonResidential</td>\n",
       "      <td>Hotel</td>\n",
       "      <td>Mayflower park hotel</td>\n",
       "      <td>405 Olive way</td>\n",
       "      <td>Seattle</td>\n",
       "      <td>WA</td>\n",
       "      <td>98101.0</td>\n",
       "      <td>0659000030</td>\n",
       "      <td>...</td>\n",
       "      <td>1.156514e+06</td>\n",
       "      <td>3.946027e+06</td>\n",
       "      <td>12764.529300</td>\n",
       "      <td>1.276453e+06</td>\n",
       "      <td>False</td>\n",
       "      <td>NaN</td>\n",
       "      <td>Compliant</td>\n",
       "      <td>NaN</td>\n",
       "      <td>249.98</td>\n",
       "      <td>2.83</td>\n",
       "    </tr>\n",
       "    <tr>\n",
       "      <th>1</th>\n",
       "      <td>2</td>\n",
       "      <td>2016</td>\n",
       "      <td>NonResidential</td>\n",
       "      <td>Hotel</td>\n",
       "      <td>Paramount Hotel</td>\n",
       "      <td>724 Pine street</td>\n",
       "      <td>Seattle</td>\n",
       "      <td>WA</td>\n",
       "      <td>98101.0</td>\n",
       "      <td>0659000220</td>\n",
       "      <td>...</td>\n",
       "      <td>9.504252e+05</td>\n",
       "      <td>3.242851e+06</td>\n",
       "      <td>51450.816410</td>\n",
       "      <td>5.145082e+06</td>\n",
       "      <td>False</td>\n",
       "      <td>NaN</td>\n",
       "      <td>Compliant</td>\n",
       "      <td>NaN</td>\n",
       "      <td>295.86</td>\n",
       "      <td>2.86</td>\n",
       "    </tr>\n",
       "    <tr>\n",
       "      <th>2</th>\n",
       "      <td>3</td>\n",
       "      <td>2016</td>\n",
       "      <td>NonResidential</td>\n",
       "      <td>Hotel</td>\n",
       "      <td>5673-The Westin Seattle</td>\n",
       "      <td>1900 5th Avenue</td>\n",
       "      <td>Seattle</td>\n",
       "      <td>WA</td>\n",
       "      <td>98101.0</td>\n",
       "      <td>0659000475</td>\n",
       "      <td>...</td>\n",
       "      <td>1.451544e+07</td>\n",
       "      <td>4.952666e+07</td>\n",
       "      <td>14938.000000</td>\n",
       "      <td>1.493800e+06</td>\n",
       "      <td>False</td>\n",
       "      <td>NaN</td>\n",
       "      <td>Compliant</td>\n",
       "      <td>NaN</td>\n",
       "      <td>2089.28</td>\n",
       "      <td>2.19</td>\n",
       "    </tr>\n",
       "    <tr>\n",
       "      <th>3</th>\n",
       "      <td>5</td>\n",
       "      <td>2016</td>\n",
       "      <td>NonResidential</td>\n",
       "      <td>Hotel</td>\n",
       "      <td>HOTEL MAX</td>\n",
       "      <td>620 STEWART ST</td>\n",
       "      <td>Seattle</td>\n",
       "      <td>WA</td>\n",
       "      <td>98101.0</td>\n",
       "      <td>0659000640</td>\n",
       "      <td>...</td>\n",
       "      <td>8.115253e+05</td>\n",
       "      <td>2.768924e+06</td>\n",
       "      <td>18112.130860</td>\n",
       "      <td>1.811213e+06</td>\n",
       "      <td>False</td>\n",
       "      <td>NaN</td>\n",
       "      <td>Compliant</td>\n",
       "      <td>NaN</td>\n",
       "      <td>286.43</td>\n",
       "      <td>4.67</td>\n",
       "    </tr>\n",
       "    <tr>\n",
       "      <th>4</th>\n",
       "      <td>8</td>\n",
       "      <td>2016</td>\n",
       "      <td>NonResidential</td>\n",
       "      <td>Hotel</td>\n",
       "      <td>WARWICK SEATTLE HOTEL (ID8)</td>\n",
       "      <td>401 LENORA ST</td>\n",
       "      <td>Seattle</td>\n",
       "      <td>WA</td>\n",
       "      <td>98121.0</td>\n",
       "      <td>0659000970</td>\n",
       "      <td>...</td>\n",
       "      <td>1.573449e+06</td>\n",
       "      <td>5.368607e+06</td>\n",
       "      <td>88039.984380</td>\n",
       "      <td>8.803998e+06</td>\n",
       "      <td>False</td>\n",
       "      <td>NaN</td>\n",
       "      <td>Compliant</td>\n",
       "      <td>NaN</td>\n",
       "      <td>505.01</td>\n",
       "      <td>2.88</td>\n",
       "    </tr>\n",
       "    <tr>\n",
       "      <th>...</th>\n",
       "      <td>...</td>\n",
       "      <td>...</td>\n",
       "      <td>...</td>\n",
       "      <td>...</td>\n",
       "      <td>...</td>\n",
       "      <td>...</td>\n",
       "      <td>...</td>\n",
       "      <td>...</td>\n",
       "      <td>...</td>\n",
       "      <td>...</td>\n",
       "      <td>...</td>\n",
       "      <td>...</td>\n",
       "      <td>...</td>\n",
       "      <td>...</td>\n",
       "      <td>...</td>\n",
       "      <td>...</td>\n",
       "      <td>...</td>\n",
       "      <td>...</td>\n",
       "      <td>...</td>\n",
       "      <td>...</td>\n",
       "      <td>...</td>\n",
       "    </tr>\n",
       "    <tr>\n",
       "      <th>3371</th>\n",
       "      <td>50222</td>\n",
       "      <td>2016</td>\n",
       "      <td>Nonresidential COS</td>\n",
       "      <td>Office</td>\n",
       "      <td>Horticulture building</td>\n",
       "      <td>1600 S Dakota St</td>\n",
       "      <td>Seattle</td>\n",
       "      <td>WA</td>\n",
       "      <td>NaN</td>\n",
       "      <td>1624049080</td>\n",
       "      <td>...</td>\n",
       "      <td>1.536550e+05</td>\n",
       "      <td>5.242709e+05</td>\n",
       "      <td>3254.750244</td>\n",
       "      <td>3.254750e+05</td>\n",
       "      <td>True</td>\n",
       "      <td>NaN</td>\n",
       "      <td>Error - Correct Default Data</td>\n",
       "      <td>NaN</td>\n",
       "      <td>20.94</td>\n",
       "      <td>1.70</td>\n",
       "    </tr>\n",
       "    <tr>\n",
       "      <th>3372</th>\n",
       "      <td>50223</td>\n",
       "      <td>2016</td>\n",
       "      <td>Nonresidential COS</td>\n",
       "      <td>Other</td>\n",
       "      <td>International district/Chinatown CC</td>\n",
       "      <td>719 8th Ave S</td>\n",
       "      <td>Seattle</td>\n",
       "      <td>WA</td>\n",
       "      <td>NaN</td>\n",
       "      <td>3558300000</td>\n",
       "      <td>...</td>\n",
       "      <td>1.162210e+05</td>\n",
       "      <td>3.965461e+05</td>\n",
       "      <td>5537.299805</td>\n",
       "      <td>5.537300e+05</td>\n",
       "      <td>False</td>\n",
       "      <td>NaN</td>\n",
       "      <td>Compliant</td>\n",
       "      <td>NaN</td>\n",
       "      <td>32.17</td>\n",
       "      <td>2.01</td>\n",
       "    </tr>\n",
       "    <tr>\n",
       "      <th>3373</th>\n",
       "      <td>50224</td>\n",
       "      <td>2016</td>\n",
       "      <td>Nonresidential COS</td>\n",
       "      <td>Other</td>\n",
       "      <td>Queen Anne Pool</td>\n",
       "      <td>1920 1st Ave W</td>\n",
       "      <td>Seattle</td>\n",
       "      <td>WA</td>\n",
       "      <td>NaN</td>\n",
       "      <td>1794501150</td>\n",
       "      <td>...</td>\n",
       "      <td>5.252517e+05</td>\n",
       "      <td>1.792159e+06</td>\n",
       "      <td>39737.390630</td>\n",
       "      <td>3.973739e+06</td>\n",
       "      <td>False</td>\n",
       "      <td>NaN</td>\n",
       "      <td>Compliant</td>\n",
       "      <td>NaN</td>\n",
       "      <td>223.54</td>\n",
       "      <td>16.99</td>\n",
       "    </tr>\n",
       "    <tr>\n",
       "      <th>3374</th>\n",
       "      <td>50225</td>\n",
       "      <td>2016</td>\n",
       "      <td>Nonresidential COS</td>\n",
       "      <td>Mixed Use Property</td>\n",
       "      <td>South Park Community Center</td>\n",
       "      <td>8319 8th Ave S</td>\n",
       "      <td>Seattle</td>\n",
       "      <td>WA</td>\n",
       "      <td>NaN</td>\n",
       "      <td>7883603155</td>\n",
       "      <td>...</td>\n",
       "      <td>1.022480e+05</td>\n",
       "      <td>3.488702e+05</td>\n",
       "      <td>3706.010010</td>\n",
       "      <td>3.706010e+05</td>\n",
       "      <td>False</td>\n",
       "      <td>NaN</td>\n",
       "      <td>Compliant</td>\n",
       "      <td>NaN</td>\n",
       "      <td>22.11</td>\n",
       "      <td>1.57</td>\n",
       "    </tr>\n",
       "    <tr>\n",
       "      <th>3375</th>\n",
       "      <td>50226</td>\n",
       "      <td>2016</td>\n",
       "      <td>Nonresidential COS</td>\n",
       "      <td>Mixed Use Property</td>\n",
       "      <td>Van Asselt Community Center</td>\n",
       "      <td>2820 S Myrtle St</td>\n",
       "      <td>Seattle</td>\n",
       "      <td>WA</td>\n",
       "      <td>NaN</td>\n",
       "      <td>7857002030</td>\n",
       "      <td>...</td>\n",
       "      <td>1.267744e+05</td>\n",
       "      <td>4.325542e+05</td>\n",
       "      <td>7203.419922</td>\n",
       "      <td>7.203420e+05</td>\n",
       "      <td>False</td>\n",
       "      <td>NaN</td>\n",
       "      <td>Compliant</td>\n",
       "      <td>NaN</td>\n",
       "      <td>41.27</td>\n",
       "      <td>2.26</td>\n",
       "    </tr>\n",
       "  </tbody>\n",
       "</table>\n",
       "<p>3376 rows × 46 columns</p>\n",
       "</div>"
      ],
      "text/plain": [
       "      OSEBuildingID  DataYear        BuildingType PrimaryPropertyType  \\\n",
       "0                 1      2016      NonResidential               Hotel   \n",
       "1                 2      2016      NonResidential               Hotel   \n",
       "2                 3      2016      NonResidential               Hotel   \n",
       "3                 5      2016      NonResidential               Hotel   \n",
       "4                 8      2016      NonResidential               Hotel   \n",
       "...             ...       ...                 ...                 ...   \n",
       "3371          50222      2016  Nonresidential COS              Office   \n",
       "3372          50223      2016  Nonresidential COS               Other   \n",
       "3373          50224      2016  Nonresidential COS               Other   \n",
       "3374          50225      2016  Nonresidential COS  Mixed Use Property   \n",
       "3375          50226      2016  Nonresidential COS  Mixed Use Property   \n",
       "\n",
       "                             PropertyName           Address     City State  \\\n",
       "0                    Mayflower park hotel     405 Olive way  Seattle    WA   \n",
       "1                         Paramount Hotel   724 Pine street  Seattle    WA   \n",
       "2                 5673-The Westin Seattle   1900 5th Avenue  Seattle    WA   \n",
       "3                               HOTEL MAX    620 STEWART ST  Seattle    WA   \n",
       "4             WARWICK SEATTLE HOTEL (ID8)     401 LENORA ST  Seattle    WA   \n",
       "...                                   ...               ...      ...   ...   \n",
       "3371                Horticulture building  1600 S Dakota St  Seattle    WA   \n",
       "3372  International district/Chinatown CC     719 8th Ave S  Seattle    WA   \n",
       "3373                      Queen Anne Pool    1920 1st Ave W  Seattle    WA   \n",
       "3374          South Park Community Center    8319 8th Ave S  Seattle    WA   \n",
       "3375          Van Asselt Community Center  2820 S Myrtle St  Seattle    WA   \n",
       "\n",
       "      ZipCode TaxParcelIdentificationNumber  ...  Electricity(kWh)  \\\n",
       "0     98101.0                    0659000030  ...      1.156514e+06   \n",
       "1     98101.0                    0659000220  ...      9.504252e+05   \n",
       "2     98101.0                    0659000475  ...      1.451544e+07   \n",
       "3     98101.0                    0659000640  ...      8.115253e+05   \n",
       "4     98121.0                    0659000970  ...      1.573449e+06   \n",
       "...       ...                           ...  ...               ...   \n",
       "3371      NaN                    1624049080  ...      1.536550e+05   \n",
       "3372      NaN                    3558300000  ...      1.162210e+05   \n",
       "3373      NaN                    1794501150  ...      5.252517e+05   \n",
       "3374      NaN                    7883603155  ...      1.022480e+05   \n",
       "3375      NaN                    7857002030  ...      1.267744e+05   \n",
       "\n",
       "     Electricity(kBtu)  NaturalGas(therms)  NaturalGas(kBtu)  DefaultData  \\\n",
       "0         3.946027e+06        12764.529300      1.276453e+06        False   \n",
       "1         3.242851e+06        51450.816410      5.145082e+06        False   \n",
       "2         4.952666e+07        14938.000000      1.493800e+06        False   \n",
       "3         2.768924e+06        18112.130860      1.811213e+06        False   \n",
       "4         5.368607e+06        88039.984380      8.803998e+06        False   \n",
       "...                ...                 ...               ...          ...   \n",
       "3371      5.242709e+05         3254.750244      3.254750e+05         True   \n",
       "3372      3.965461e+05         5537.299805      5.537300e+05        False   \n",
       "3373      1.792159e+06        39737.390630      3.973739e+06        False   \n",
       "3374      3.488702e+05         3706.010010      3.706010e+05        False   \n",
       "3375      4.325542e+05         7203.419922      7.203420e+05        False   \n",
       "\n",
       "      Comments              ComplianceStatus  Outlier  TotalGHGEmissions  \\\n",
       "0          NaN                     Compliant      NaN             249.98   \n",
       "1          NaN                     Compliant      NaN             295.86   \n",
       "2          NaN                     Compliant      NaN            2089.28   \n",
       "3          NaN                     Compliant      NaN             286.43   \n",
       "4          NaN                     Compliant      NaN             505.01   \n",
       "...        ...                           ...      ...                ...   \n",
       "3371       NaN  Error - Correct Default Data      NaN              20.94   \n",
       "3372       NaN                     Compliant      NaN              32.17   \n",
       "3373       NaN                     Compliant      NaN             223.54   \n",
       "3374       NaN                     Compliant      NaN              22.11   \n",
       "3375       NaN                     Compliant      NaN              41.27   \n",
       "\n",
       "      GHGEmissionsIntensity  \n",
       "0                      2.83  \n",
       "1                      2.86  \n",
       "2                      2.19  \n",
       "3                      4.67  \n",
       "4                      2.88  \n",
       "...                     ...  \n",
       "3371                   1.70  \n",
       "3372                   2.01  \n",
       "3373                  16.99  \n",
       "3374                   1.57  \n",
       "3375                   2.26  \n",
       "\n",
       "[3376 rows x 46 columns]"
      ]
     },
     "execution_count": 33,
     "metadata": {},
     "output_type": "execute_result"
    }
   ],
   "source": [
    "df = pd.read_csv('../DATA/2016_Building_Energy_Benchmarking.csv')\n",
    "df"
   ]
  },
  {
   "cell_type": "code",
   "execution_count": 34,
   "id": "eca43371",
   "metadata": {},
   "outputs": [
    {
     "data": {
      "text/html": [
       "<div>\n",
       "<style scoped>\n",
       "    .dataframe tbody tr th:only-of-type {\n",
       "        vertical-align: middle;\n",
       "    }\n",
       "\n",
       "    .dataframe tbody tr th {\n",
       "        vertical-align: top;\n",
       "    }\n",
       "\n",
       "    .dataframe thead th {\n",
       "        text-align: right;\n",
       "    }\n",
       "</style>\n",
       "<table border=\"1\" class=\"dataframe\">\n",
       "  <thead>\n",
       "    <tr style=\"text-align: right;\">\n",
       "      <th></th>\n",
       "      <th>OSEBuildingID</th>\n",
       "      <th>DataYear</th>\n",
       "      <th>ZipCode</th>\n",
       "      <th>CouncilDistrictCode</th>\n",
       "      <th>Latitude</th>\n",
       "      <th>Longitude</th>\n",
       "      <th>YearBuilt</th>\n",
       "      <th>NumberofBuildings</th>\n",
       "      <th>NumberofFloors</th>\n",
       "      <th>PropertyGFATotal</th>\n",
       "      <th>...</th>\n",
       "      <th>SiteEnergyUseWN(kBtu)</th>\n",
       "      <th>SteamUse(kBtu)</th>\n",
       "      <th>Electricity(kWh)</th>\n",
       "      <th>Electricity(kBtu)</th>\n",
       "      <th>NaturalGas(therms)</th>\n",
       "      <th>NaturalGas(kBtu)</th>\n",
       "      <th>DefaultData</th>\n",
       "      <th>Comments</th>\n",
       "      <th>TotalGHGEmissions</th>\n",
       "      <th>GHGEmissionsIntensity</th>\n",
       "    </tr>\n",
       "  </thead>\n",
       "  <tbody>\n",
       "    <tr>\n",
       "      <th>OSEBuildingID</th>\n",
       "      <td>1.000000</td>\n",
       "      <td>NaN</td>\n",
       "      <td>0.084625</td>\n",
       "      <td>-0.089295</td>\n",
       "      <td>0.092736</td>\n",
       "      <td>0.040473</td>\n",
       "      <td>0.177302</td>\n",
       "      <td>0.025608</td>\n",
       "      <td>-0.103456</td>\n",
       "      <td>-0.136508</td>\n",
       "      <td>...</td>\n",
       "      <td>-0.203420</td>\n",
       "      <td>-0.033588</td>\n",
       "      <td>-0.130168</td>\n",
       "      <td>-0.130168</td>\n",
       "      <td>-0.085620</td>\n",
       "      <td>-0.085620</td>\n",
       "      <td>-0.067432</td>\n",
       "      <td>NaN</td>\n",
       "      <td>-0.100458</td>\n",
       "      <td>-0.034985</td>\n",
       "    </tr>\n",
       "    <tr>\n",
       "      <th>DataYear</th>\n",
       "      <td>NaN</td>\n",
       "      <td>NaN</td>\n",
       "      <td>NaN</td>\n",
       "      <td>NaN</td>\n",
       "      <td>NaN</td>\n",
       "      <td>NaN</td>\n",
       "      <td>NaN</td>\n",
       "      <td>NaN</td>\n",
       "      <td>NaN</td>\n",
       "      <td>NaN</td>\n",
       "      <td>...</td>\n",
       "      <td>NaN</td>\n",
       "      <td>NaN</td>\n",
       "      <td>NaN</td>\n",
       "      <td>NaN</td>\n",
       "      <td>NaN</td>\n",
       "      <td>NaN</td>\n",
       "      <td>NaN</td>\n",
       "      <td>NaN</td>\n",
       "      <td>NaN</td>\n",
       "      <td>NaN</td>\n",
       "    </tr>\n",
       "    <tr>\n",
       "      <th>ZipCode</th>\n",
       "      <td>0.084625</td>\n",
       "      <td>NaN</td>\n",
       "      <td>1.000000</td>\n",
       "      <td>-0.063154</td>\n",
       "      <td>0.030536</td>\n",
       "      <td>-0.120893</td>\n",
       "      <td>0.094818</td>\n",
       "      <td>-0.009582</td>\n",
       "      <td>-0.117719</td>\n",
       "      <td>-0.052669</td>\n",
       "      <td>...</td>\n",
       "      <td>-0.050046</td>\n",
       "      <td>-0.038624</td>\n",
       "      <td>-0.036909</td>\n",
       "      <td>-0.036909</td>\n",
       "      <td>-0.028650</td>\n",
       "      <td>-0.028650</td>\n",
       "      <td>0.016678</td>\n",
       "      <td>NaN</td>\n",
       "      <td>-0.047686</td>\n",
       "      <td>-0.083394</td>\n",
       "    </tr>\n",
       "    <tr>\n",
       "      <th>CouncilDistrictCode</th>\n",
       "      <td>-0.089295</td>\n",
       "      <td>NaN</td>\n",
       "      <td>-0.063154</td>\n",
       "      <td>1.000000</td>\n",
       "      <td>0.489348</td>\n",
       "      <td>-0.265482</td>\n",
       "      <td>-0.020560</td>\n",
       "      <td>-0.013174</td>\n",
       "      <td>0.249549</td>\n",
       "      <td>0.098110</td>\n",
       "      <td>...</td>\n",
       "      <td>0.056832</td>\n",
       "      <td>0.007771</td>\n",
       "      <td>0.056176</td>\n",
       "      <td>0.056176</td>\n",
       "      <td>0.003467</td>\n",
       "      <td>0.003467</td>\n",
       "      <td>-0.084379</td>\n",
       "      <td>NaN</td>\n",
       "      <td>0.017442</td>\n",
       "      <td>0.003274</td>\n",
       "    </tr>\n",
       "    <tr>\n",
       "      <th>Latitude</th>\n",
       "      <td>0.092736</td>\n",
       "      <td>NaN</td>\n",
       "      <td>0.030536</td>\n",
       "      <td>0.489348</td>\n",
       "      <td>1.000000</td>\n",
       "      <td>0.005250</td>\n",
       "      <td>0.117239</td>\n",
       "      <td>0.020646</td>\n",
       "      <td>-0.023980</td>\n",
       "      <td>-0.018162</td>\n",
       "      <td>...</td>\n",
       "      <td>-0.041985</td>\n",
       "      <td>-0.015448</td>\n",
       "      <td>-0.018924</td>\n",
       "      <td>-0.018924</td>\n",
       "      <td>-0.020860</td>\n",
       "      <td>-0.020860</td>\n",
       "      <td>-0.047652</td>\n",
       "      <td>NaN</td>\n",
       "      <td>-0.026089</td>\n",
       "      <td>-0.040727</td>\n",
       "    </tr>\n",
       "    <tr>\n",
       "      <th>Longitude</th>\n",
       "      <td>0.040473</td>\n",
       "      <td>NaN</td>\n",
       "      <td>-0.120893</td>\n",
       "      <td>-0.265482</td>\n",
       "      <td>0.005250</td>\n",
       "      <td>1.000000</td>\n",
       "      <td>-0.051111</td>\n",
       "      <td>0.017858</td>\n",
       "      <td>-0.026054</td>\n",
       "      <td>0.025383</td>\n",
       "      <td>...</td>\n",
       "      <td>0.032156</td>\n",
       "      <td>0.018502</td>\n",
       "      <td>0.026537</td>\n",
       "      <td>0.026537</td>\n",
       "      <td>0.033180</td>\n",
       "      <td>0.033180</td>\n",
       "      <td>0.077219</td>\n",
       "      <td>NaN</td>\n",
       "      <td>0.037411</td>\n",
       "      <td>0.039365</td>\n",
       "    </tr>\n",
       "    <tr>\n",
       "      <th>YearBuilt</th>\n",
       "      <td>0.177302</td>\n",
       "      <td>NaN</td>\n",
       "      <td>0.094818</td>\n",
       "      <td>-0.020560</td>\n",
       "      <td>0.117239</td>\n",
       "      <td>-0.051111</td>\n",
       "      <td>1.000000</td>\n",
       "      <td>-0.023712</td>\n",
       "      <td>0.146214</td>\n",
       "      <td>0.100417</td>\n",
       "      <td>...</td>\n",
       "      <td>0.069277</td>\n",
       "      <td>-0.018234</td>\n",
       "      <td>0.039849</td>\n",
       "      <td>0.039849</td>\n",
       "      <td>0.023275</td>\n",
       "      <td>0.023275</td>\n",
       "      <td>0.001704</td>\n",
       "      <td>NaN</td>\n",
       "      <td>0.012831</td>\n",
       "      <td>-0.146212</td>\n",
       "    </tr>\n",
       "    <tr>\n",
       "      <th>NumberofBuildings</th>\n",
       "      <td>0.025608</td>\n",
       "      <td>NaN</td>\n",
       "      <td>-0.009582</td>\n",
       "      <td>-0.013174</td>\n",
       "      <td>0.020646</td>\n",
       "      <td>0.017858</td>\n",
       "      <td>-0.023712</td>\n",
       "      <td>1.000000</td>\n",
       "      <td>-0.026386</td>\n",
       "      <td>0.693412</td>\n",
       "      <td>...</td>\n",
       "      <td>0.090486</td>\n",
       "      <td>0.397588</td>\n",
       "      <td>0.735028</td>\n",
       "      <td>0.735028</td>\n",
       "      <td>0.062324</td>\n",
       "      <td>0.062324</td>\n",
       "      <td>-0.010229</td>\n",
       "      <td>NaN</td>\n",
       "      <td>0.405261</td>\n",
       "      <td>0.027564</td>\n",
       "    </tr>\n",
       "    <tr>\n",
       "      <th>NumberofFloors</th>\n",
       "      <td>-0.103456</td>\n",
       "      <td>NaN</td>\n",
       "      <td>-0.117719</td>\n",
       "      <td>0.249549</td>\n",
       "      <td>-0.023980</td>\n",
       "      <td>-0.026054</td>\n",
       "      <td>0.146214</td>\n",
       "      <td>-0.026386</td>\n",
       "      <td>1.000000</td>\n",
       "      <td>0.400488</td>\n",
       "      <td>...</td>\n",
       "      <td>0.293096</td>\n",
       "      <td>0.079497</td>\n",
       "      <td>0.251514</td>\n",
       "      <td>0.251514</td>\n",
       "      <td>0.065226</td>\n",
       "      <td>0.065226</td>\n",
       "      <td>-0.073783</td>\n",
       "      <td>NaN</td>\n",
       "      <td>0.136014</td>\n",
       "      <td>-0.042445</td>\n",
       "    </tr>\n",
       "    <tr>\n",
       "      <th>PropertyGFATotal</th>\n",
       "      <td>-0.136508</td>\n",
       "      <td>NaN</td>\n",
       "      <td>-0.052669</td>\n",
       "      <td>0.098110</td>\n",
       "      <td>-0.018162</td>\n",
       "      <td>0.025383</td>\n",
       "      <td>0.100417</td>\n",
       "      <td>0.693412</td>\n",
       "      <td>0.400488</td>\n",
       "      <td>1.000000</td>\n",
       "      <td>...</td>\n",
       "      <td>0.400813</td>\n",
       "      <td>0.440568</td>\n",
       "      <td>0.849576</td>\n",
       "      <td>0.849576</td>\n",
       "      <td>0.183408</td>\n",
       "      <td>0.183408</td>\n",
       "      <td>-0.018976</td>\n",
       "      <td>NaN</td>\n",
       "      <td>0.531436</td>\n",
       "      <td>0.020105</td>\n",
       "    </tr>\n",
       "    <tr>\n",
       "      <th>PropertyGFAParking</th>\n",
       "      <td>-0.213901</td>\n",
       "      <td>NaN</td>\n",
       "      <td>-0.076657</td>\n",
       "      <td>0.133227</td>\n",
       "      <td>-0.001167</td>\n",
       "      <td>-0.003374</td>\n",
       "      <td>0.183176</td>\n",
       "      <td>-0.004774</td>\n",
       "      <td>0.420489</td>\n",
       "      <td>0.402580</td>\n",
       "      <td>...</td>\n",
       "      <td>0.238464</td>\n",
       "      <td>0.013501</td>\n",
       "      <td>0.220356</td>\n",
       "      <td>0.220356</td>\n",
       "      <td>0.058547</td>\n",
       "      <td>0.058547</td>\n",
       "      <td>-0.042630</td>\n",
       "      <td>NaN</td>\n",
       "      <td>0.088625</td>\n",
       "      <td>-0.043160</td>\n",
       "    </tr>\n",
       "    <tr>\n",
       "      <th>PropertyGFABuilding(s)</th>\n",
       "      <td>-0.110409</td>\n",
       "      <td>NaN</td>\n",
       "      <td>-0.043509</td>\n",
       "      <td>0.082540</td>\n",
       "      <td>-0.018932</td>\n",
       "      <td>0.027237</td>\n",
       "      <td>0.077203</td>\n",
       "      <td>0.730487</td>\n",
       "      <td>0.356107</td>\n",
       "      <td>0.989823</td>\n",
       "      <td>...</td>\n",
       "      <td>0.384778</td>\n",
       "      <td>0.461554</td>\n",
       "      <td>0.859833</td>\n",
       "      <td>0.859833</td>\n",
       "      <td>0.183916</td>\n",
       "      <td>0.183916</td>\n",
       "      <td>-0.013344</td>\n",
       "      <td>NaN</td>\n",
       "      <td>0.545503</td>\n",
       "      <td>0.027868</td>\n",
       "    </tr>\n",
       "    <tr>\n",
       "      <th>LargestPropertyUseTypeGFA</th>\n",
       "      <td>-0.106054</td>\n",
       "      <td>NaN</td>\n",
       "      <td>-0.036931</td>\n",
       "      <td>0.067790</td>\n",
       "      <td>-0.015277</td>\n",
       "      <td>0.029323</td>\n",
       "      <td>0.070187</td>\n",
       "      <td>0.758749</td>\n",
       "      <td>0.339212</td>\n",
       "      <td>0.974113</td>\n",
       "      <td>...</td>\n",
       "      <td>0.393574</td>\n",
       "      <td>0.497636</td>\n",
       "      <td>0.875059</td>\n",
       "      <td>0.875059</td>\n",
       "      <td>0.198753</td>\n",
       "      <td>0.198753</td>\n",
       "      <td>-0.006798</td>\n",
       "      <td>NaN</td>\n",
       "      <td>0.578487</td>\n",
       "      <td>0.053555</td>\n",
       "    </tr>\n",
       "    <tr>\n",
       "      <th>SecondLargestPropertyUseTypeGFA</th>\n",
       "      <td>-0.192988</td>\n",
       "      <td>NaN</td>\n",
       "      <td>-0.059226</td>\n",
       "      <td>0.141919</td>\n",
       "      <td>-0.052773</td>\n",
       "      <td>0.018545</td>\n",
       "      <td>0.197447</td>\n",
       "      <td>0.112821</td>\n",
       "      <td>0.469908</td>\n",
       "      <td>0.807411</td>\n",
       "      <td>...</td>\n",
       "      <td>0.626631</td>\n",
       "      <td>0.263866</td>\n",
       "      <td>0.634493</td>\n",
       "      <td>0.634493</td>\n",
       "      <td>0.387937</td>\n",
       "      <td>0.387937</td>\n",
       "      <td>-0.014502</td>\n",
       "      <td>NaN</td>\n",
       "      <td>0.506537</td>\n",
       "      <td>0.105724</td>\n",
       "    </tr>\n",
       "    <tr>\n",
       "      <th>ThirdLargestPropertyUseTypeGFA</th>\n",
       "      <td>-0.174970</td>\n",
       "      <td>NaN</td>\n",
       "      <td>-0.037778</td>\n",
       "      <td>0.017799</td>\n",
       "      <td>-0.107349</td>\n",
       "      <td>0.027265</td>\n",
       "      <td>0.091195</td>\n",
       "      <td>0.000981</td>\n",
       "      <td>0.223787</td>\n",
       "      <td>0.519872</td>\n",
       "      <td>...</td>\n",
       "      <td>0.753857</td>\n",
       "      <td>0.042148</td>\n",
       "      <td>0.683477</td>\n",
       "      <td>0.683477</td>\n",
       "      <td>0.647532</td>\n",
       "      <td>0.647532</td>\n",
       "      <td>-0.016841</td>\n",
       "      <td>NaN</td>\n",
       "      <td>0.677722</td>\n",
       "      <td>0.334259</td>\n",
       "    </tr>\n",
       "    <tr>\n",
       "      <th>ENERGYSTARScore</th>\n",
       "      <td>0.076736</td>\n",
       "      <td>NaN</td>\n",
       "      <td>0.002822</td>\n",
       "      <td>0.059524</td>\n",
       "      <td>0.079948</td>\n",
       "      <td>-0.026404</td>\n",
       "      <td>0.028813</td>\n",
       "      <td>-0.004900</td>\n",
       "      <td>0.023540</td>\n",
       "      <td>0.067342</td>\n",
       "      <td>...</td>\n",
       "      <td>-0.090163</td>\n",
       "      <td>-0.040441</td>\n",
       "      <td>-0.057299</td>\n",
       "      <td>-0.057299</td>\n",
       "      <td>-0.102422</td>\n",
       "      <td>-0.102422</td>\n",
       "      <td>0.102290</td>\n",
       "      <td>NaN</td>\n",
       "      <td>-0.101633</td>\n",
       "      <td>-0.269263</td>\n",
       "    </tr>\n",
       "    <tr>\n",
       "      <th>SiteEUI(kBtu/sf)</th>\n",
       "      <td>-0.126495</td>\n",
       "      <td>NaN</td>\n",
       "      <td>-0.070757</td>\n",
       "      <td>0.052058</td>\n",
       "      <td>-0.012730</td>\n",
       "      <td>0.027695</td>\n",
       "      <td>-0.019642</td>\n",
       "      <td>0.033003</td>\n",
       "      <td>0.009351</td>\n",
       "      <td>0.071020</td>\n",
       "      <td>...</td>\n",
       "      <td>0.397474</td>\n",
       "      <td>0.106617</td>\n",
       "      <td>0.285053</td>\n",
       "      <td>0.285053</td>\n",
       "      <td>0.260207</td>\n",
       "      <td>0.260207</td>\n",
       "      <td>-0.064126</td>\n",
       "      <td>NaN</td>\n",
       "      <td>0.286608</td>\n",
       "      <td>0.730897</td>\n",
       "    </tr>\n",
       "    <tr>\n",
       "      <th>SiteEUIWN(kBtu/sf)</th>\n",
       "      <td>-0.125784</td>\n",
       "      <td>NaN</td>\n",
       "      <td>-0.076659</td>\n",
       "      <td>0.046414</td>\n",
       "      <td>-0.016918</td>\n",
       "      <td>0.027467</td>\n",
       "      <td>-0.030900</td>\n",
       "      <td>0.007034</td>\n",
       "      <td>-0.000857</td>\n",
       "      <td>0.040080</td>\n",
       "      <td>...</td>\n",
       "      <td>0.394437</td>\n",
       "      <td>0.093233</td>\n",
       "      <td>0.253013</td>\n",
       "      <td>0.253013</td>\n",
       "      <td>0.262725</td>\n",
       "      <td>0.262725</td>\n",
       "      <td>-0.060551</td>\n",
       "      <td>NaN</td>\n",
       "      <td>0.274616</td>\n",
       "      <td>0.745573</td>\n",
       "    </tr>\n",
       "    <tr>\n",
       "      <th>SourceEUI(kBtu/sf)</th>\n",
       "      <td>-0.149676</td>\n",
       "      <td>NaN</td>\n",
       "      <td>-0.050815</td>\n",
       "      <td>0.066462</td>\n",
       "      <td>-0.001273</td>\n",
       "      <td>0.019153</td>\n",
       "      <td>0.043394</td>\n",
       "      <td>0.031599</td>\n",
       "      <td>0.037679</td>\n",
       "      <td>0.083315</td>\n",
       "      <td>...</td>\n",
       "      <td>0.388278</td>\n",
       "      <td>0.090563</td>\n",
       "      <td>0.323180</td>\n",
       "      <td>0.323180</td>\n",
       "      <td>0.177507</td>\n",
       "      <td>0.177507</td>\n",
       "      <td>-0.066921</td>\n",
       "      <td>NaN</td>\n",
       "      <td>0.230243</td>\n",
       "      <td>0.524232</td>\n",
       "    </tr>\n",
       "    <tr>\n",
       "      <th>SourceEUIWN(kBtu/sf)</th>\n",
       "      <td>-0.148555</td>\n",
       "      <td>NaN</td>\n",
       "      <td>-0.055920</td>\n",
       "      <td>0.063379</td>\n",
       "      <td>-0.002326</td>\n",
       "      <td>0.018590</td>\n",
       "      <td>0.039066</td>\n",
       "      <td>0.003896</td>\n",
       "      <td>0.031666</td>\n",
       "      <td>0.054662</td>\n",
       "      <td>...</td>\n",
       "      <td>0.387075</td>\n",
       "      <td>0.076800</td>\n",
       "      <td>0.293289</td>\n",
       "      <td>0.293289</td>\n",
       "      <td>0.176670</td>\n",
       "      <td>0.176670</td>\n",
       "      <td>-0.065013</td>\n",
       "      <td>NaN</td>\n",
       "      <td>0.216232</td>\n",
       "      <td>0.529583</td>\n",
       "    </tr>\n",
       "    <tr>\n",
       "      <th>SiteEnergyUse(kBtu)</th>\n",
       "      <td>-0.118090</td>\n",
       "      <td>NaN</td>\n",
       "      <td>-0.041811</td>\n",
       "      <td>0.040391</td>\n",
       "      <td>-0.021314</td>\n",
       "      <td>0.033803</td>\n",
       "      <td>0.027251</td>\n",
       "      <td>0.690712</td>\n",
       "      <td>0.205864</td>\n",
       "      <td>0.796781</td>\n",
       "      <td>...</td>\n",
       "      <td>0.715149</td>\n",
       "      <td>0.604323</td>\n",
       "      <td>0.956556</td>\n",
       "      <td>0.956556</td>\n",
       "      <td>0.514408</td>\n",
       "      <td>0.514408</td>\n",
       "      <td>-0.022796</td>\n",
       "      <td>NaN</td>\n",
       "      <td>0.862668</td>\n",
       "      <td>0.310729</td>\n",
       "    </tr>\n",
       "    <tr>\n",
       "      <th>SiteEnergyUseWN(kBtu)</th>\n",
       "      <td>-0.203420</td>\n",
       "      <td>NaN</td>\n",
       "      <td>-0.050046</td>\n",
       "      <td>0.056832</td>\n",
       "      <td>-0.041985</td>\n",
       "      <td>0.032156</td>\n",
       "      <td>0.069277</td>\n",
       "      <td>0.090486</td>\n",
       "      <td>0.293096</td>\n",
       "      <td>0.400813</td>\n",
       "      <td>...</td>\n",
       "      <td>1.000000</td>\n",
       "      <td>0.472701</td>\n",
       "      <td>0.587712</td>\n",
       "      <td>0.587712</td>\n",
       "      <td>0.727617</td>\n",
       "      <td>0.727617</td>\n",
       "      <td>-0.026590</td>\n",
       "      <td>NaN</td>\n",
       "      <td>0.859042</td>\n",
       "      <td>0.434785</td>\n",
       "    </tr>\n",
       "    <tr>\n",
       "      <th>SteamUse(kBtu)</th>\n",
       "      <td>-0.033588</td>\n",
       "      <td>NaN</td>\n",
       "      <td>-0.038624</td>\n",
       "      <td>0.007771</td>\n",
       "      <td>-0.015448</td>\n",
       "      <td>0.018502</td>\n",
       "      <td>-0.018234</td>\n",
       "      <td>0.397588</td>\n",
       "      <td>0.079497</td>\n",
       "      <td>0.440568</td>\n",
       "      <td>...</td>\n",
       "      <td>0.472701</td>\n",
       "      <td>1.000000</td>\n",
       "      <td>0.546965</td>\n",
       "      <td>0.546965</td>\n",
       "      <td>0.026827</td>\n",
       "      <td>0.026827</td>\n",
       "      <td>-0.012781</td>\n",
       "      <td>NaN</td>\n",
       "      <td>0.683254</td>\n",
       "      <td>0.194053</td>\n",
       "    </tr>\n",
       "    <tr>\n",
       "      <th>Electricity(kWh)</th>\n",
       "      <td>-0.130168</td>\n",
       "      <td>NaN</td>\n",
       "      <td>-0.036909</td>\n",
       "      <td>0.056176</td>\n",
       "      <td>-0.018924</td>\n",
       "      <td>0.026537</td>\n",
       "      <td>0.039849</td>\n",
       "      <td>0.735028</td>\n",
       "      <td>0.251514</td>\n",
       "      <td>0.849576</td>\n",
       "      <td>...</td>\n",
       "      <td>0.587712</td>\n",
       "      <td>0.546965</td>\n",
       "      <td>1.000000</td>\n",
       "      <td>1.000000</td>\n",
       "      <td>0.290987</td>\n",
       "      <td>0.290987</td>\n",
       "      <td>-0.025533</td>\n",
       "      <td>NaN</td>\n",
       "      <td>0.691111</td>\n",
       "      <td>0.177903</td>\n",
       "    </tr>\n",
       "    <tr>\n",
       "      <th>Electricity(kBtu)</th>\n",
       "      <td>-0.130168</td>\n",
       "      <td>NaN</td>\n",
       "      <td>-0.036909</td>\n",
       "      <td>0.056176</td>\n",
       "      <td>-0.018924</td>\n",
       "      <td>0.026537</td>\n",
       "      <td>0.039849</td>\n",
       "      <td>0.735028</td>\n",
       "      <td>0.251514</td>\n",
       "      <td>0.849576</td>\n",
       "      <td>...</td>\n",
       "      <td>0.587712</td>\n",
       "      <td>0.546965</td>\n",
       "      <td>1.000000</td>\n",
       "      <td>1.000000</td>\n",
       "      <td>0.290987</td>\n",
       "      <td>0.290987</td>\n",
       "      <td>-0.025533</td>\n",
       "      <td>NaN</td>\n",
       "      <td>0.691111</td>\n",
       "      <td>0.177903</td>\n",
       "    </tr>\n",
       "    <tr>\n",
       "      <th>NaturalGas(therms)</th>\n",
       "      <td>-0.085620</td>\n",
       "      <td>NaN</td>\n",
       "      <td>-0.028650</td>\n",
       "      <td>0.003467</td>\n",
       "      <td>-0.020860</td>\n",
       "      <td>0.033180</td>\n",
       "      <td>0.023275</td>\n",
       "      <td>0.062324</td>\n",
       "      <td>0.065226</td>\n",
       "      <td>0.183408</td>\n",
       "      <td>...</td>\n",
       "      <td>0.727617</td>\n",
       "      <td>0.026827</td>\n",
       "      <td>0.290987</td>\n",
       "      <td>0.290987</td>\n",
       "      <td>1.000000</td>\n",
       "      <td>1.000000</td>\n",
       "      <td>-0.008037</td>\n",
       "      <td>NaN</td>\n",
       "      <td>0.732294</td>\n",
       "      <td>0.494864</td>\n",
       "    </tr>\n",
       "    <tr>\n",
       "      <th>NaturalGas(kBtu)</th>\n",
       "      <td>-0.085620</td>\n",
       "      <td>NaN</td>\n",
       "      <td>-0.028650</td>\n",
       "      <td>0.003467</td>\n",
       "      <td>-0.020860</td>\n",
       "      <td>0.033180</td>\n",
       "      <td>0.023275</td>\n",
       "      <td>0.062324</td>\n",
       "      <td>0.065226</td>\n",
       "      <td>0.183408</td>\n",
       "      <td>...</td>\n",
       "      <td>0.727617</td>\n",
       "      <td>0.026827</td>\n",
       "      <td>0.290987</td>\n",
       "      <td>0.290987</td>\n",
       "      <td>1.000000</td>\n",
       "      <td>1.000000</td>\n",
       "      <td>-0.008037</td>\n",
       "      <td>NaN</td>\n",
       "      <td>0.732294</td>\n",
       "      <td>0.494864</td>\n",
       "    </tr>\n",
       "    <tr>\n",
       "      <th>DefaultData</th>\n",
       "      <td>-0.067432</td>\n",
       "      <td>NaN</td>\n",
       "      <td>0.016678</td>\n",
       "      <td>-0.084379</td>\n",
       "      <td>-0.047652</td>\n",
       "      <td>0.077219</td>\n",
       "      <td>0.001704</td>\n",
       "      <td>-0.010229</td>\n",
       "      <td>-0.073783</td>\n",
       "      <td>-0.018976</td>\n",
       "      <td>...</td>\n",
       "      <td>-0.026590</td>\n",
       "      <td>-0.012781</td>\n",
       "      <td>-0.025533</td>\n",
       "      <td>-0.025533</td>\n",
       "      <td>-0.008037</td>\n",
       "      <td>-0.008037</td>\n",
       "      <td>1.000000</td>\n",
       "      <td>NaN</td>\n",
       "      <td>-0.017384</td>\n",
       "      <td>-0.031792</td>\n",
       "    </tr>\n",
       "    <tr>\n",
       "      <th>Comments</th>\n",
       "      <td>NaN</td>\n",
       "      <td>NaN</td>\n",
       "      <td>NaN</td>\n",
       "      <td>NaN</td>\n",
       "      <td>NaN</td>\n",
       "      <td>NaN</td>\n",
       "      <td>NaN</td>\n",
       "      <td>NaN</td>\n",
       "      <td>NaN</td>\n",
       "      <td>NaN</td>\n",
       "      <td>...</td>\n",
       "      <td>NaN</td>\n",
       "      <td>NaN</td>\n",
       "      <td>NaN</td>\n",
       "      <td>NaN</td>\n",
       "      <td>NaN</td>\n",
       "      <td>NaN</td>\n",
       "      <td>NaN</td>\n",
       "      <td>NaN</td>\n",
       "      <td>NaN</td>\n",
       "      <td>NaN</td>\n",
       "    </tr>\n",
       "    <tr>\n",
       "      <th>TotalGHGEmissions</th>\n",
       "      <td>-0.100458</td>\n",
       "      <td>NaN</td>\n",
       "      <td>-0.047686</td>\n",
       "      <td>0.017442</td>\n",
       "      <td>-0.026089</td>\n",
       "      <td>0.037411</td>\n",
       "      <td>0.012831</td>\n",
       "      <td>0.405261</td>\n",
       "      <td>0.136014</td>\n",
       "      <td>0.531436</td>\n",
       "      <td>...</td>\n",
       "      <td>0.859042</td>\n",
       "      <td>0.683254</td>\n",
       "      <td>0.691111</td>\n",
       "      <td>0.691111</td>\n",
       "      <td>0.732294</td>\n",
       "      <td>0.732294</td>\n",
       "      <td>-0.017384</td>\n",
       "      <td>NaN</td>\n",
       "      <td>1.000000</td>\n",
       "      <td>0.470212</td>\n",
       "    </tr>\n",
       "    <tr>\n",
       "      <th>GHGEmissionsIntensity</th>\n",
       "      <td>-0.034985</td>\n",
       "      <td>NaN</td>\n",
       "      <td>-0.083394</td>\n",
       "      <td>0.003274</td>\n",
       "      <td>-0.040727</td>\n",
       "      <td>0.039365</td>\n",
       "      <td>-0.146212</td>\n",
       "      <td>0.027564</td>\n",
       "      <td>-0.042445</td>\n",
       "      <td>0.020105</td>\n",
       "      <td>...</td>\n",
       "      <td>0.434785</td>\n",
       "      <td>0.194053</td>\n",
       "      <td>0.177903</td>\n",
       "      <td>0.177903</td>\n",
       "      <td>0.494864</td>\n",
       "      <td>0.494864</td>\n",
       "      <td>-0.031792</td>\n",
       "      <td>NaN</td>\n",
       "      <td>0.470212</td>\n",
       "      <td>1.000000</td>\n",
       "    </tr>\n",
       "  </tbody>\n",
       "</table>\n",
       "<p>31 rows × 31 columns</p>\n",
       "</div>"
      ],
      "text/plain": [
       "                                 OSEBuildingID  DataYear   ZipCode  \\\n",
       "OSEBuildingID                         1.000000       NaN  0.084625   \n",
       "DataYear                                   NaN       NaN       NaN   \n",
       "ZipCode                               0.084625       NaN  1.000000   \n",
       "CouncilDistrictCode                  -0.089295       NaN -0.063154   \n",
       "Latitude                              0.092736       NaN  0.030536   \n",
       "Longitude                             0.040473       NaN -0.120893   \n",
       "YearBuilt                             0.177302       NaN  0.094818   \n",
       "NumberofBuildings                     0.025608       NaN -0.009582   \n",
       "NumberofFloors                       -0.103456       NaN -0.117719   \n",
       "PropertyGFATotal                     -0.136508       NaN -0.052669   \n",
       "PropertyGFAParking                   -0.213901       NaN -0.076657   \n",
       "PropertyGFABuilding(s)               -0.110409       NaN -0.043509   \n",
       "LargestPropertyUseTypeGFA            -0.106054       NaN -0.036931   \n",
       "SecondLargestPropertyUseTypeGFA      -0.192988       NaN -0.059226   \n",
       "ThirdLargestPropertyUseTypeGFA       -0.174970       NaN -0.037778   \n",
       "ENERGYSTARScore                       0.076736       NaN  0.002822   \n",
       "SiteEUI(kBtu/sf)                     -0.126495       NaN -0.070757   \n",
       "SiteEUIWN(kBtu/sf)                   -0.125784       NaN -0.076659   \n",
       "SourceEUI(kBtu/sf)                   -0.149676       NaN -0.050815   \n",
       "SourceEUIWN(kBtu/sf)                 -0.148555       NaN -0.055920   \n",
       "SiteEnergyUse(kBtu)                  -0.118090       NaN -0.041811   \n",
       "SiteEnergyUseWN(kBtu)                -0.203420       NaN -0.050046   \n",
       "SteamUse(kBtu)                       -0.033588       NaN -0.038624   \n",
       "Electricity(kWh)                     -0.130168       NaN -0.036909   \n",
       "Electricity(kBtu)                    -0.130168       NaN -0.036909   \n",
       "NaturalGas(therms)                   -0.085620       NaN -0.028650   \n",
       "NaturalGas(kBtu)                     -0.085620       NaN -0.028650   \n",
       "DefaultData                          -0.067432       NaN  0.016678   \n",
       "Comments                                   NaN       NaN       NaN   \n",
       "TotalGHGEmissions                    -0.100458       NaN -0.047686   \n",
       "GHGEmissionsIntensity                -0.034985       NaN -0.083394   \n",
       "\n",
       "                                 CouncilDistrictCode  Latitude  Longitude  \\\n",
       "OSEBuildingID                              -0.089295  0.092736   0.040473   \n",
       "DataYear                                         NaN       NaN        NaN   \n",
       "ZipCode                                    -0.063154  0.030536  -0.120893   \n",
       "CouncilDistrictCode                         1.000000  0.489348  -0.265482   \n",
       "Latitude                                    0.489348  1.000000   0.005250   \n",
       "Longitude                                  -0.265482  0.005250   1.000000   \n",
       "YearBuilt                                  -0.020560  0.117239  -0.051111   \n",
       "NumberofBuildings                          -0.013174  0.020646   0.017858   \n",
       "NumberofFloors                              0.249549 -0.023980  -0.026054   \n",
       "PropertyGFATotal                            0.098110 -0.018162   0.025383   \n",
       "PropertyGFAParking                          0.133227 -0.001167  -0.003374   \n",
       "PropertyGFABuilding(s)                      0.082540 -0.018932   0.027237   \n",
       "LargestPropertyUseTypeGFA                   0.067790 -0.015277   0.029323   \n",
       "SecondLargestPropertyUseTypeGFA             0.141919 -0.052773   0.018545   \n",
       "ThirdLargestPropertyUseTypeGFA              0.017799 -0.107349   0.027265   \n",
       "ENERGYSTARScore                             0.059524  0.079948  -0.026404   \n",
       "SiteEUI(kBtu/sf)                            0.052058 -0.012730   0.027695   \n",
       "SiteEUIWN(kBtu/sf)                          0.046414 -0.016918   0.027467   \n",
       "SourceEUI(kBtu/sf)                          0.066462 -0.001273   0.019153   \n",
       "SourceEUIWN(kBtu/sf)                        0.063379 -0.002326   0.018590   \n",
       "SiteEnergyUse(kBtu)                         0.040391 -0.021314   0.033803   \n",
       "SiteEnergyUseWN(kBtu)                       0.056832 -0.041985   0.032156   \n",
       "SteamUse(kBtu)                              0.007771 -0.015448   0.018502   \n",
       "Electricity(kWh)                            0.056176 -0.018924   0.026537   \n",
       "Electricity(kBtu)                           0.056176 -0.018924   0.026537   \n",
       "NaturalGas(therms)                          0.003467 -0.020860   0.033180   \n",
       "NaturalGas(kBtu)                            0.003467 -0.020860   0.033180   \n",
       "DefaultData                                -0.084379 -0.047652   0.077219   \n",
       "Comments                                         NaN       NaN        NaN   \n",
       "TotalGHGEmissions                           0.017442 -0.026089   0.037411   \n",
       "GHGEmissionsIntensity                       0.003274 -0.040727   0.039365   \n",
       "\n",
       "                                 YearBuilt  NumberofBuildings  NumberofFloors  \\\n",
       "OSEBuildingID                     0.177302           0.025608       -0.103456   \n",
       "DataYear                               NaN                NaN             NaN   \n",
       "ZipCode                           0.094818          -0.009582       -0.117719   \n",
       "CouncilDistrictCode              -0.020560          -0.013174        0.249549   \n",
       "Latitude                          0.117239           0.020646       -0.023980   \n",
       "Longitude                        -0.051111           0.017858       -0.026054   \n",
       "YearBuilt                         1.000000          -0.023712        0.146214   \n",
       "NumberofBuildings                -0.023712           1.000000       -0.026386   \n",
       "NumberofFloors                    0.146214          -0.026386        1.000000   \n",
       "PropertyGFATotal                  0.100417           0.693412        0.400488   \n",
       "PropertyGFAParking                0.183176          -0.004774        0.420489   \n",
       "PropertyGFABuilding(s)            0.077203           0.730487        0.356107   \n",
       "LargestPropertyUseTypeGFA         0.070187           0.758749        0.339212   \n",
       "SecondLargestPropertyUseTypeGFA   0.197447           0.112821        0.469908   \n",
       "ThirdLargestPropertyUseTypeGFA    0.091195           0.000981        0.223787   \n",
       "ENERGYSTARScore                   0.028813          -0.004900        0.023540   \n",
       "SiteEUI(kBtu/sf)                 -0.019642           0.033003        0.009351   \n",
       "SiteEUIWN(kBtu/sf)               -0.030900           0.007034       -0.000857   \n",
       "SourceEUI(kBtu/sf)                0.043394           0.031599        0.037679   \n",
       "SourceEUIWN(kBtu/sf)              0.039066           0.003896        0.031666   \n",
       "SiteEnergyUse(kBtu)               0.027251           0.690712        0.205864   \n",
       "SiteEnergyUseWN(kBtu)             0.069277           0.090486        0.293096   \n",
       "SteamUse(kBtu)                   -0.018234           0.397588        0.079497   \n",
       "Electricity(kWh)                  0.039849           0.735028        0.251514   \n",
       "Electricity(kBtu)                 0.039849           0.735028        0.251514   \n",
       "NaturalGas(therms)                0.023275           0.062324        0.065226   \n",
       "NaturalGas(kBtu)                  0.023275           0.062324        0.065226   \n",
       "DefaultData                       0.001704          -0.010229       -0.073783   \n",
       "Comments                               NaN                NaN             NaN   \n",
       "TotalGHGEmissions                 0.012831           0.405261        0.136014   \n",
       "GHGEmissionsIntensity            -0.146212           0.027564       -0.042445   \n",
       "\n",
       "                                 PropertyGFATotal  ...  SiteEnergyUseWN(kBtu)  \\\n",
       "OSEBuildingID                           -0.136508  ...              -0.203420   \n",
       "DataYear                                      NaN  ...                    NaN   \n",
       "ZipCode                                 -0.052669  ...              -0.050046   \n",
       "CouncilDistrictCode                      0.098110  ...               0.056832   \n",
       "Latitude                                -0.018162  ...              -0.041985   \n",
       "Longitude                                0.025383  ...               0.032156   \n",
       "YearBuilt                                0.100417  ...               0.069277   \n",
       "NumberofBuildings                        0.693412  ...               0.090486   \n",
       "NumberofFloors                           0.400488  ...               0.293096   \n",
       "PropertyGFATotal                         1.000000  ...               0.400813   \n",
       "PropertyGFAParking                       0.402580  ...               0.238464   \n",
       "PropertyGFABuilding(s)                   0.989823  ...               0.384778   \n",
       "LargestPropertyUseTypeGFA                0.974113  ...               0.393574   \n",
       "SecondLargestPropertyUseTypeGFA          0.807411  ...               0.626631   \n",
       "ThirdLargestPropertyUseTypeGFA           0.519872  ...               0.753857   \n",
       "ENERGYSTARScore                          0.067342  ...              -0.090163   \n",
       "SiteEUI(kBtu/sf)                         0.071020  ...               0.397474   \n",
       "SiteEUIWN(kBtu/sf)                       0.040080  ...               0.394437   \n",
       "SourceEUI(kBtu/sf)                       0.083315  ...               0.388278   \n",
       "SourceEUIWN(kBtu/sf)                     0.054662  ...               0.387075   \n",
       "SiteEnergyUse(kBtu)                      0.796781  ...               0.715149   \n",
       "SiteEnergyUseWN(kBtu)                    0.400813  ...               1.000000   \n",
       "SteamUse(kBtu)                           0.440568  ...               0.472701   \n",
       "Electricity(kWh)                         0.849576  ...               0.587712   \n",
       "Electricity(kBtu)                        0.849576  ...               0.587712   \n",
       "NaturalGas(therms)                       0.183408  ...               0.727617   \n",
       "NaturalGas(kBtu)                         0.183408  ...               0.727617   \n",
       "DefaultData                             -0.018976  ...              -0.026590   \n",
       "Comments                                      NaN  ...                    NaN   \n",
       "TotalGHGEmissions                        0.531436  ...               0.859042   \n",
       "GHGEmissionsIntensity                    0.020105  ...               0.434785   \n",
       "\n",
       "                                 SteamUse(kBtu)  Electricity(kWh)  \\\n",
       "OSEBuildingID                         -0.033588         -0.130168   \n",
       "DataYear                                    NaN               NaN   \n",
       "ZipCode                               -0.038624         -0.036909   \n",
       "CouncilDistrictCode                    0.007771          0.056176   \n",
       "Latitude                              -0.015448         -0.018924   \n",
       "Longitude                              0.018502          0.026537   \n",
       "YearBuilt                             -0.018234          0.039849   \n",
       "NumberofBuildings                      0.397588          0.735028   \n",
       "NumberofFloors                         0.079497          0.251514   \n",
       "PropertyGFATotal                       0.440568          0.849576   \n",
       "PropertyGFAParking                     0.013501          0.220356   \n",
       "PropertyGFABuilding(s)                 0.461554          0.859833   \n",
       "LargestPropertyUseTypeGFA              0.497636          0.875059   \n",
       "SecondLargestPropertyUseTypeGFA        0.263866          0.634493   \n",
       "ThirdLargestPropertyUseTypeGFA         0.042148          0.683477   \n",
       "ENERGYSTARScore                       -0.040441         -0.057299   \n",
       "SiteEUI(kBtu/sf)                       0.106617          0.285053   \n",
       "SiteEUIWN(kBtu/sf)                     0.093233          0.253013   \n",
       "SourceEUI(kBtu/sf)                     0.090563          0.323180   \n",
       "SourceEUIWN(kBtu/sf)                   0.076800          0.293289   \n",
       "SiteEnergyUse(kBtu)                    0.604323          0.956556   \n",
       "SiteEnergyUseWN(kBtu)                  0.472701          0.587712   \n",
       "SteamUse(kBtu)                         1.000000          0.546965   \n",
       "Electricity(kWh)                       0.546965          1.000000   \n",
       "Electricity(kBtu)                      0.546965          1.000000   \n",
       "NaturalGas(therms)                     0.026827          0.290987   \n",
       "NaturalGas(kBtu)                       0.026827          0.290987   \n",
       "DefaultData                           -0.012781         -0.025533   \n",
       "Comments                                    NaN               NaN   \n",
       "TotalGHGEmissions                      0.683254          0.691111   \n",
       "GHGEmissionsIntensity                  0.194053          0.177903   \n",
       "\n",
       "                                 Electricity(kBtu)  NaturalGas(therms)  \\\n",
       "OSEBuildingID                            -0.130168           -0.085620   \n",
       "DataYear                                       NaN                 NaN   \n",
       "ZipCode                                  -0.036909           -0.028650   \n",
       "CouncilDistrictCode                       0.056176            0.003467   \n",
       "Latitude                                 -0.018924           -0.020860   \n",
       "Longitude                                 0.026537            0.033180   \n",
       "YearBuilt                                 0.039849            0.023275   \n",
       "NumberofBuildings                         0.735028            0.062324   \n",
       "NumberofFloors                            0.251514            0.065226   \n",
       "PropertyGFATotal                          0.849576            0.183408   \n",
       "PropertyGFAParking                        0.220356            0.058547   \n",
       "PropertyGFABuilding(s)                    0.859833            0.183916   \n",
       "LargestPropertyUseTypeGFA                 0.875059            0.198753   \n",
       "SecondLargestPropertyUseTypeGFA           0.634493            0.387937   \n",
       "ThirdLargestPropertyUseTypeGFA            0.683477            0.647532   \n",
       "ENERGYSTARScore                          -0.057299           -0.102422   \n",
       "SiteEUI(kBtu/sf)                          0.285053            0.260207   \n",
       "SiteEUIWN(kBtu/sf)                        0.253013            0.262725   \n",
       "SourceEUI(kBtu/sf)                        0.323180            0.177507   \n",
       "SourceEUIWN(kBtu/sf)                      0.293289            0.176670   \n",
       "SiteEnergyUse(kBtu)                       0.956556            0.514408   \n",
       "SiteEnergyUseWN(kBtu)                     0.587712            0.727617   \n",
       "SteamUse(kBtu)                            0.546965            0.026827   \n",
       "Electricity(kWh)                          1.000000            0.290987   \n",
       "Electricity(kBtu)                         1.000000            0.290987   \n",
       "NaturalGas(therms)                        0.290987            1.000000   \n",
       "NaturalGas(kBtu)                          0.290987            1.000000   \n",
       "DefaultData                              -0.025533           -0.008037   \n",
       "Comments                                       NaN                 NaN   \n",
       "TotalGHGEmissions                         0.691111            0.732294   \n",
       "GHGEmissionsIntensity                     0.177903            0.494864   \n",
       "\n",
       "                                 NaturalGas(kBtu)  DefaultData  Comments  \\\n",
       "OSEBuildingID                           -0.085620    -0.067432       NaN   \n",
       "DataYear                                      NaN          NaN       NaN   \n",
       "ZipCode                                 -0.028650     0.016678       NaN   \n",
       "CouncilDistrictCode                      0.003467    -0.084379       NaN   \n",
       "Latitude                                -0.020860    -0.047652       NaN   \n",
       "Longitude                                0.033180     0.077219       NaN   \n",
       "YearBuilt                                0.023275     0.001704       NaN   \n",
       "NumberofBuildings                        0.062324    -0.010229       NaN   \n",
       "NumberofFloors                           0.065226    -0.073783       NaN   \n",
       "PropertyGFATotal                         0.183408    -0.018976       NaN   \n",
       "PropertyGFAParking                       0.058547    -0.042630       NaN   \n",
       "PropertyGFABuilding(s)                   0.183916    -0.013344       NaN   \n",
       "LargestPropertyUseTypeGFA                0.198753    -0.006798       NaN   \n",
       "SecondLargestPropertyUseTypeGFA          0.387937    -0.014502       NaN   \n",
       "ThirdLargestPropertyUseTypeGFA           0.647532    -0.016841       NaN   \n",
       "ENERGYSTARScore                         -0.102422     0.102290       NaN   \n",
       "SiteEUI(kBtu/sf)                         0.260207    -0.064126       NaN   \n",
       "SiteEUIWN(kBtu/sf)                       0.262725    -0.060551       NaN   \n",
       "SourceEUI(kBtu/sf)                       0.177507    -0.066921       NaN   \n",
       "SourceEUIWN(kBtu/sf)                     0.176670    -0.065013       NaN   \n",
       "SiteEnergyUse(kBtu)                      0.514408    -0.022796       NaN   \n",
       "SiteEnergyUseWN(kBtu)                    0.727617    -0.026590       NaN   \n",
       "SteamUse(kBtu)                           0.026827    -0.012781       NaN   \n",
       "Electricity(kWh)                         0.290987    -0.025533       NaN   \n",
       "Electricity(kBtu)                        0.290987    -0.025533       NaN   \n",
       "NaturalGas(therms)                       1.000000    -0.008037       NaN   \n",
       "NaturalGas(kBtu)                         1.000000    -0.008037       NaN   \n",
       "DefaultData                             -0.008037     1.000000       NaN   \n",
       "Comments                                      NaN          NaN       NaN   \n",
       "TotalGHGEmissions                        0.732294    -0.017384       NaN   \n",
       "GHGEmissionsIntensity                    0.494864    -0.031792       NaN   \n",
       "\n",
       "                                 TotalGHGEmissions  GHGEmissionsIntensity  \n",
       "OSEBuildingID                            -0.100458              -0.034985  \n",
       "DataYear                                       NaN                    NaN  \n",
       "ZipCode                                  -0.047686              -0.083394  \n",
       "CouncilDistrictCode                       0.017442               0.003274  \n",
       "Latitude                                 -0.026089              -0.040727  \n",
       "Longitude                                 0.037411               0.039365  \n",
       "YearBuilt                                 0.012831              -0.146212  \n",
       "NumberofBuildings                         0.405261               0.027564  \n",
       "NumberofFloors                            0.136014              -0.042445  \n",
       "PropertyGFATotal                          0.531436               0.020105  \n",
       "PropertyGFAParking                        0.088625              -0.043160  \n",
       "PropertyGFABuilding(s)                    0.545503               0.027868  \n",
       "LargestPropertyUseTypeGFA                 0.578487               0.053555  \n",
       "SecondLargestPropertyUseTypeGFA           0.506537               0.105724  \n",
       "ThirdLargestPropertyUseTypeGFA            0.677722               0.334259  \n",
       "ENERGYSTARScore                          -0.101633              -0.269263  \n",
       "SiteEUI(kBtu/sf)                          0.286608               0.730897  \n",
       "SiteEUIWN(kBtu/sf)                        0.274616               0.745573  \n",
       "SourceEUI(kBtu/sf)                        0.230243               0.524232  \n",
       "SourceEUIWN(kBtu/sf)                      0.216232               0.529583  \n",
       "SiteEnergyUse(kBtu)                       0.862668               0.310729  \n",
       "SiteEnergyUseWN(kBtu)                     0.859042               0.434785  \n",
       "SteamUse(kBtu)                            0.683254               0.194053  \n",
       "Electricity(kWh)                          0.691111               0.177903  \n",
       "Electricity(kBtu)                         0.691111               0.177903  \n",
       "NaturalGas(therms)                        0.732294               0.494864  \n",
       "NaturalGas(kBtu)                          0.732294               0.494864  \n",
       "DefaultData                              -0.017384              -0.031792  \n",
       "Comments                                       NaN                    NaN  \n",
       "TotalGHGEmissions                         1.000000               0.470212  \n",
       "GHGEmissionsIntensity                     0.470212               1.000000  \n",
       "\n",
       "[31 rows x 31 columns]"
      ]
     },
     "execution_count": 34,
     "metadata": {},
     "output_type": "execute_result"
    }
   ],
   "source": [
    "df.corr()"
   ]
  },
  {
   "cell_type": "code",
   "execution_count": 35,
   "id": "59715df5",
   "metadata": {},
   "outputs": [],
   "source": [
    "df = df.drop(['ZipCode', 'PrimaryPropertyType', 'PropertyName', 'Address',  'City', 'State', 'TaxParcelIdentificationNumber', 'Latitude', 'Longitude', 'PropertyGFAParking', 'PropertyGFABuilding(s)', 'ListOfAllPropertyUseTypes', 'SecondLargestPropertyUseType', 'SecondLargestPropertyUseTypeGFA', 'ThirdLargestPropertyUseType', 'ThirdLargestPropertyUseTypeGFA', 'YearsENERGYSTARCertified', 'SiteEUIWN(kBtu/sf)', 'SourceEUIWN(kBtu/sf)', 'SiteEnergyUseWN(kBtu)', 'Electricity(kWh)', 'NaturalGas(therms)', 'DefaultData', 'Comments', 'ComplianceStatus',  'Outlier', 'GHGEmissionsIntensity', 'LargestPropertyUseTypeGFA', 'SiteEUI(kBtu/sf)','LargestPropertyUseType', 'OSEBuildingID','CouncilDistrictCode', 'ENERGYSTARScore', 'SourceEUI(kBtu/sf)','NumberofFloors' ], axis=1)"
   ]
  },
  {
   "cell_type": "code",
   "execution_count": 36,
   "id": "07aa430b",
   "metadata": {},
   "outputs": [
    {
     "data": {
      "text/html": [
       "<div>\n",
       "<style scoped>\n",
       "    .dataframe tbody tr th:only-of-type {\n",
       "        vertical-align: middle;\n",
       "    }\n",
       "\n",
       "    .dataframe tbody tr th {\n",
       "        vertical-align: top;\n",
       "    }\n",
       "\n",
       "    .dataframe thead th {\n",
       "        text-align: right;\n",
       "    }\n",
       "</style>\n",
       "<table border=\"1\" class=\"dataframe\">\n",
       "  <thead>\n",
       "    <tr style=\"text-align: right;\">\n",
       "      <th></th>\n",
       "      <th>DataYear</th>\n",
       "      <th>BuildingType</th>\n",
       "      <th>Neighborhood</th>\n",
       "      <th>YearBuilt</th>\n",
       "      <th>NumberofBuildings</th>\n",
       "      <th>PropertyGFATotal</th>\n",
       "      <th>SiteEnergyUse(kBtu)</th>\n",
       "      <th>SteamUse(kBtu)</th>\n",
       "      <th>Electricity(kBtu)</th>\n",
       "      <th>NaturalGas(kBtu)</th>\n",
       "      <th>TotalGHGEmissions</th>\n",
       "    </tr>\n",
       "  </thead>\n",
       "  <tbody>\n",
       "    <tr>\n",
       "      <th>0</th>\n",
       "      <td>2016</td>\n",
       "      <td>NonResidential</td>\n",
       "      <td>DOWNTOWN</td>\n",
       "      <td>1927</td>\n",
       "      <td>1.0</td>\n",
       "      <td>88434</td>\n",
       "      <td>7.226362e+06</td>\n",
       "      <td>2003882.00</td>\n",
       "      <td>3.946027e+06</td>\n",
       "      <td>1.276453e+06</td>\n",
       "      <td>249.98</td>\n",
       "    </tr>\n",
       "    <tr>\n",
       "      <th>1</th>\n",
       "      <td>2016</td>\n",
       "      <td>NonResidential</td>\n",
       "      <td>DOWNTOWN</td>\n",
       "      <td>1996</td>\n",
       "      <td>1.0</td>\n",
       "      <td>103566</td>\n",
       "      <td>8.387933e+06</td>\n",
       "      <td>0.00</td>\n",
       "      <td>3.242851e+06</td>\n",
       "      <td>5.145082e+06</td>\n",
       "      <td>295.86</td>\n",
       "    </tr>\n",
       "    <tr>\n",
       "      <th>2</th>\n",
       "      <td>2016</td>\n",
       "      <td>NonResidential</td>\n",
       "      <td>DOWNTOWN</td>\n",
       "      <td>1969</td>\n",
       "      <td>1.0</td>\n",
       "      <td>956110</td>\n",
       "      <td>7.258702e+07</td>\n",
       "      <td>21566554.00</td>\n",
       "      <td>4.952666e+07</td>\n",
       "      <td>1.493800e+06</td>\n",
       "      <td>2089.28</td>\n",
       "    </tr>\n",
       "    <tr>\n",
       "      <th>3</th>\n",
       "      <td>2016</td>\n",
       "      <td>NonResidential</td>\n",
       "      <td>DOWNTOWN</td>\n",
       "      <td>1926</td>\n",
       "      <td>1.0</td>\n",
       "      <td>61320</td>\n",
       "      <td>6.794584e+06</td>\n",
       "      <td>2214446.25</td>\n",
       "      <td>2.768924e+06</td>\n",
       "      <td>1.811213e+06</td>\n",
       "      <td>286.43</td>\n",
       "    </tr>\n",
       "    <tr>\n",
       "      <th>4</th>\n",
       "      <td>2016</td>\n",
       "      <td>NonResidential</td>\n",
       "      <td>DOWNTOWN</td>\n",
       "      <td>1980</td>\n",
       "      <td>1.0</td>\n",
       "      <td>175580</td>\n",
       "      <td>1.417261e+07</td>\n",
       "      <td>0.00</td>\n",
       "      <td>5.368607e+06</td>\n",
       "      <td>8.803998e+06</td>\n",
       "      <td>505.01</td>\n",
       "    </tr>\n",
       "    <tr>\n",
       "      <th>...</th>\n",
       "      <td>...</td>\n",
       "      <td>...</td>\n",
       "      <td>...</td>\n",
       "      <td>...</td>\n",
       "      <td>...</td>\n",
       "      <td>...</td>\n",
       "      <td>...</td>\n",
       "      <td>...</td>\n",
       "      <td>...</td>\n",
       "      <td>...</td>\n",
       "      <td>...</td>\n",
       "    </tr>\n",
       "    <tr>\n",
       "      <th>3371</th>\n",
       "      <td>2016</td>\n",
       "      <td>Nonresidential COS</td>\n",
       "      <td>GREATER DUWAMISH</td>\n",
       "      <td>1990</td>\n",
       "      <td>1.0</td>\n",
       "      <td>12294</td>\n",
       "      <td>8.497457e+05</td>\n",
       "      <td>0.00</td>\n",
       "      <td>5.242709e+05</td>\n",
       "      <td>3.254750e+05</td>\n",
       "      <td>20.94</td>\n",
       "    </tr>\n",
       "    <tr>\n",
       "      <th>3372</th>\n",
       "      <td>2016</td>\n",
       "      <td>Nonresidential COS</td>\n",
       "      <td>DOWNTOWN</td>\n",
       "      <td>2004</td>\n",
       "      <td>1.0</td>\n",
       "      <td>16000</td>\n",
       "      <td>9.502762e+05</td>\n",
       "      <td>0.00</td>\n",
       "      <td>3.965461e+05</td>\n",
       "      <td>5.537300e+05</td>\n",
       "      <td>32.17</td>\n",
       "    </tr>\n",
       "    <tr>\n",
       "      <th>3373</th>\n",
       "      <td>2016</td>\n",
       "      <td>Nonresidential COS</td>\n",
       "      <td>MAGNOLIA / QUEEN ANNE</td>\n",
       "      <td>1974</td>\n",
       "      <td>1.0</td>\n",
       "      <td>13157</td>\n",
       "      <td>5.765898e+06</td>\n",
       "      <td>0.00</td>\n",
       "      <td>1.792159e+06</td>\n",
       "      <td>3.973739e+06</td>\n",
       "      <td>223.54</td>\n",
       "    </tr>\n",
       "    <tr>\n",
       "      <th>3374</th>\n",
       "      <td>2016</td>\n",
       "      <td>Nonresidential COS</td>\n",
       "      <td>GREATER DUWAMISH</td>\n",
       "      <td>1989</td>\n",
       "      <td>1.0</td>\n",
       "      <td>14101</td>\n",
       "      <td>7.194712e+05</td>\n",
       "      <td>0.00</td>\n",
       "      <td>3.488702e+05</td>\n",
       "      <td>3.706010e+05</td>\n",
       "      <td>22.11</td>\n",
       "    </tr>\n",
       "    <tr>\n",
       "      <th>3375</th>\n",
       "      <td>2016</td>\n",
       "      <td>Nonresidential COS</td>\n",
       "      <td>GREATER DUWAMISH</td>\n",
       "      <td>1938</td>\n",
       "      <td>1.0</td>\n",
       "      <td>18258</td>\n",
       "      <td>1.152896e+06</td>\n",
       "      <td>0.00</td>\n",
       "      <td>4.325542e+05</td>\n",
       "      <td>7.203420e+05</td>\n",
       "      <td>41.27</td>\n",
       "    </tr>\n",
       "  </tbody>\n",
       "</table>\n",
       "<p>3376 rows × 11 columns</p>\n",
       "</div>"
      ],
      "text/plain": [
       "      DataYear        BuildingType           Neighborhood  YearBuilt  \\\n",
       "0         2016      NonResidential               DOWNTOWN       1927   \n",
       "1         2016      NonResidential               DOWNTOWN       1996   \n",
       "2         2016      NonResidential               DOWNTOWN       1969   \n",
       "3         2016      NonResidential               DOWNTOWN       1926   \n",
       "4         2016      NonResidential               DOWNTOWN       1980   \n",
       "...        ...                 ...                    ...        ...   \n",
       "3371      2016  Nonresidential COS       GREATER DUWAMISH       1990   \n",
       "3372      2016  Nonresidential COS               DOWNTOWN       2004   \n",
       "3373      2016  Nonresidential COS  MAGNOLIA / QUEEN ANNE       1974   \n",
       "3374      2016  Nonresidential COS       GREATER DUWAMISH       1989   \n",
       "3375      2016  Nonresidential COS       GREATER DUWAMISH       1938   \n",
       "\n",
       "      NumberofBuildings  PropertyGFATotal  SiteEnergyUse(kBtu)  \\\n",
       "0                   1.0             88434         7.226362e+06   \n",
       "1                   1.0            103566         8.387933e+06   \n",
       "2                   1.0            956110         7.258702e+07   \n",
       "3                   1.0             61320         6.794584e+06   \n",
       "4                   1.0            175580         1.417261e+07   \n",
       "...                 ...               ...                  ...   \n",
       "3371                1.0             12294         8.497457e+05   \n",
       "3372                1.0             16000         9.502762e+05   \n",
       "3373                1.0             13157         5.765898e+06   \n",
       "3374                1.0             14101         7.194712e+05   \n",
       "3375                1.0             18258         1.152896e+06   \n",
       "\n",
       "      SteamUse(kBtu)  Electricity(kBtu)  NaturalGas(kBtu)  TotalGHGEmissions  \n",
       "0         2003882.00       3.946027e+06      1.276453e+06             249.98  \n",
       "1               0.00       3.242851e+06      5.145082e+06             295.86  \n",
       "2        21566554.00       4.952666e+07      1.493800e+06            2089.28  \n",
       "3         2214446.25       2.768924e+06      1.811213e+06             286.43  \n",
       "4               0.00       5.368607e+06      8.803998e+06             505.01  \n",
       "...              ...                ...               ...                ...  \n",
       "3371            0.00       5.242709e+05      3.254750e+05              20.94  \n",
       "3372            0.00       3.965461e+05      5.537300e+05              32.17  \n",
       "3373            0.00       1.792159e+06      3.973739e+06             223.54  \n",
       "3374            0.00       3.488702e+05      3.706010e+05              22.11  \n",
       "3375            0.00       4.325542e+05      7.203420e+05              41.27  \n",
       "\n",
       "[3376 rows x 11 columns]"
      ]
     },
     "execution_count": 36,
     "metadata": {},
     "output_type": "execute_result"
    }
   ],
   "source": [
    "df"
   ]
  },
  {
   "cell_type": "code",
   "execution_count": 37,
   "id": "57102539",
   "metadata": {},
   "outputs": [
    {
     "data": {
      "text/html": [
       "<div>\n",
       "<style scoped>\n",
       "    .dataframe tbody tr th:only-of-type {\n",
       "        vertical-align: middle;\n",
       "    }\n",
       "\n",
       "    .dataframe tbody tr th {\n",
       "        vertical-align: top;\n",
       "    }\n",
       "\n",
       "    .dataframe thead th {\n",
       "        text-align: right;\n",
       "    }\n",
       "</style>\n",
       "<table border=\"1\" class=\"dataframe\">\n",
       "  <thead>\n",
       "    <tr style=\"text-align: right;\">\n",
       "      <th></th>\n",
       "      <th>DataYear</th>\n",
       "      <th>YearBuilt</th>\n",
       "      <th>NumberofBuildings</th>\n",
       "      <th>PropertyGFATotal</th>\n",
       "      <th>SiteEnergyUse(kBtu)</th>\n",
       "      <th>SteamUse(kBtu)</th>\n",
       "      <th>Electricity(kBtu)</th>\n",
       "      <th>NaturalGas(kBtu)</th>\n",
       "      <th>TotalGHGEmissions</th>\n",
       "    </tr>\n",
       "  </thead>\n",
       "  <tbody>\n",
       "    <tr>\n",
       "      <th>DataYear</th>\n",
       "      <td>NaN</td>\n",
       "      <td>NaN</td>\n",
       "      <td>NaN</td>\n",
       "      <td>NaN</td>\n",
       "      <td>NaN</td>\n",
       "      <td>NaN</td>\n",
       "      <td>NaN</td>\n",
       "      <td>NaN</td>\n",
       "      <td>NaN</td>\n",
       "    </tr>\n",
       "    <tr>\n",
       "      <th>YearBuilt</th>\n",
       "      <td>NaN</td>\n",
       "      <td>1.000000</td>\n",
       "      <td>-0.023712</td>\n",
       "      <td>0.100417</td>\n",
       "      <td>0.027251</td>\n",
       "      <td>-0.018234</td>\n",
       "      <td>0.039849</td>\n",
       "      <td>0.023275</td>\n",
       "      <td>0.012831</td>\n",
       "    </tr>\n",
       "    <tr>\n",
       "      <th>NumberofBuildings</th>\n",
       "      <td>NaN</td>\n",
       "      <td>-0.023712</td>\n",
       "      <td>1.000000</td>\n",
       "      <td>0.693412</td>\n",
       "      <td>0.690712</td>\n",
       "      <td>0.397588</td>\n",
       "      <td>0.735028</td>\n",
       "      <td>0.062324</td>\n",
       "      <td>0.405261</td>\n",
       "    </tr>\n",
       "    <tr>\n",
       "      <th>PropertyGFATotal</th>\n",
       "      <td>NaN</td>\n",
       "      <td>0.100417</td>\n",
       "      <td>0.693412</td>\n",
       "      <td>1.000000</td>\n",
       "      <td>0.796781</td>\n",
       "      <td>0.440568</td>\n",
       "      <td>0.849576</td>\n",
       "      <td>0.183408</td>\n",
       "      <td>0.531436</td>\n",
       "    </tr>\n",
       "    <tr>\n",
       "      <th>SiteEnergyUse(kBtu)</th>\n",
       "      <td>NaN</td>\n",
       "      <td>0.027251</td>\n",
       "      <td>0.690712</td>\n",
       "      <td>0.796781</td>\n",
       "      <td>1.000000</td>\n",
       "      <td>0.604323</td>\n",
       "      <td>0.956556</td>\n",
       "      <td>0.514408</td>\n",
       "      <td>0.862668</td>\n",
       "    </tr>\n",
       "    <tr>\n",
       "      <th>SteamUse(kBtu)</th>\n",
       "      <td>NaN</td>\n",
       "      <td>-0.018234</td>\n",
       "      <td>0.397588</td>\n",
       "      <td>0.440568</td>\n",
       "      <td>0.604323</td>\n",
       "      <td>1.000000</td>\n",
       "      <td>0.546965</td>\n",
       "      <td>0.026827</td>\n",
       "      <td>0.683254</td>\n",
       "    </tr>\n",
       "    <tr>\n",
       "      <th>Electricity(kBtu)</th>\n",
       "      <td>NaN</td>\n",
       "      <td>0.039849</td>\n",
       "      <td>0.735028</td>\n",
       "      <td>0.849576</td>\n",
       "      <td>0.956556</td>\n",
       "      <td>0.546965</td>\n",
       "      <td>1.000000</td>\n",
       "      <td>0.290987</td>\n",
       "      <td>0.691111</td>\n",
       "    </tr>\n",
       "    <tr>\n",
       "      <th>NaturalGas(kBtu)</th>\n",
       "      <td>NaN</td>\n",
       "      <td>0.023275</td>\n",
       "      <td>0.062324</td>\n",
       "      <td>0.183408</td>\n",
       "      <td>0.514408</td>\n",
       "      <td>0.026827</td>\n",
       "      <td>0.290987</td>\n",
       "      <td>1.000000</td>\n",
       "      <td>0.732294</td>\n",
       "    </tr>\n",
       "    <tr>\n",
       "      <th>TotalGHGEmissions</th>\n",
       "      <td>NaN</td>\n",
       "      <td>0.012831</td>\n",
       "      <td>0.405261</td>\n",
       "      <td>0.531436</td>\n",
       "      <td>0.862668</td>\n",
       "      <td>0.683254</td>\n",
       "      <td>0.691111</td>\n",
       "      <td>0.732294</td>\n",
       "      <td>1.000000</td>\n",
       "    </tr>\n",
       "  </tbody>\n",
       "</table>\n",
       "</div>"
      ],
      "text/plain": [
       "                     DataYear  YearBuilt  NumberofBuildings  PropertyGFATotal  \\\n",
       "DataYear                  NaN        NaN                NaN               NaN   \n",
       "YearBuilt                 NaN   1.000000          -0.023712          0.100417   \n",
       "NumberofBuildings         NaN  -0.023712           1.000000          0.693412   \n",
       "PropertyGFATotal          NaN   0.100417           0.693412          1.000000   \n",
       "SiteEnergyUse(kBtu)       NaN   0.027251           0.690712          0.796781   \n",
       "SteamUse(kBtu)            NaN  -0.018234           0.397588          0.440568   \n",
       "Electricity(kBtu)         NaN   0.039849           0.735028          0.849576   \n",
       "NaturalGas(kBtu)          NaN   0.023275           0.062324          0.183408   \n",
       "TotalGHGEmissions         NaN   0.012831           0.405261          0.531436   \n",
       "\n",
       "                     SiteEnergyUse(kBtu)  SteamUse(kBtu)  Electricity(kBtu)  \\\n",
       "DataYear                             NaN             NaN                NaN   \n",
       "YearBuilt                       0.027251       -0.018234           0.039849   \n",
       "NumberofBuildings               0.690712        0.397588           0.735028   \n",
       "PropertyGFATotal                0.796781        0.440568           0.849576   \n",
       "SiteEnergyUse(kBtu)             1.000000        0.604323           0.956556   \n",
       "SteamUse(kBtu)                  0.604323        1.000000           0.546965   \n",
       "Electricity(kBtu)               0.956556        0.546965           1.000000   \n",
       "NaturalGas(kBtu)                0.514408        0.026827           0.290987   \n",
       "TotalGHGEmissions               0.862668        0.683254           0.691111   \n",
       "\n",
       "                     NaturalGas(kBtu)  TotalGHGEmissions  \n",
       "DataYear                          NaN                NaN  \n",
       "YearBuilt                    0.023275           0.012831  \n",
       "NumberofBuildings            0.062324           0.405261  \n",
       "PropertyGFATotal             0.183408           0.531436  \n",
       "SiteEnergyUse(kBtu)          0.514408           0.862668  \n",
       "SteamUse(kBtu)               0.026827           0.683254  \n",
       "Electricity(kBtu)            0.290987           0.691111  \n",
       "NaturalGas(kBtu)             1.000000           0.732294  \n",
       "TotalGHGEmissions            0.732294           1.000000  "
      ]
     },
     "execution_count": 37,
     "metadata": {},
     "output_type": "execute_result"
    }
   ],
   "source": [
    "df.corr()"
   ]
  },
  {
   "cell_type": "code",
   "execution_count": 38,
   "id": "10056633",
   "metadata": {},
   "outputs": [
    {
     "data": {
      "application/vnd.plotly.v1+json": {
       "config": {
        "plotlyServerURL": "https://plot.ly"
       },
       "data": [
        {
         "coloraxis": "coloraxis",
         "hovertemplate": "x: %{x}<br>y: %{y}<br>color: %{z}<extra></extra>",
         "name": "0",
         "type": "heatmap",
         "x": [
          "DataYear",
          "YearBuilt",
          "NumberofBuildings",
          "PropertyGFATotal",
          "SiteEnergyUse(kBtu)",
          "SteamUse(kBtu)",
          "Electricity(kBtu)",
          "NaturalGas(kBtu)",
          "TotalGHGEmissions"
         ],
         "xaxis": "x",
         "y": [
          "DataYear",
          "YearBuilt",
          "NumberofBuildings",
          "PropertyGFATotal",
          "SiteEnergyUse(kBtu)",
          "SteamUse(kBtu)",
          "Electricity(kBtu)",
          "NaturalGas(kBtu)",
          "TotalGHGEmissions"
         ],
         "yaxis": "y",
         "z": [
          [
           null,
           null,
           null,
           null,
           null,
           null,
           null,
           null,
           null
          ],
          [
           null,
           1,
           0.02371160278408777,
           0.10041699781676978,
           0.027251055624519366,
           0.018233513758250303,
           0.03984940142735781,
           0.023274982879934614,
           0.012830993470392942
          ],
          [
           null,
           0.02371160278408777,
           1,
           0.6934122476359409,
           0.6907124052782413,
           0.397587590541449,
           0.7350280993626422,
           0.06232448175918508,
           0.40526077302612185
          ],
          [
           null,
           0.10041699781676978,
           0.6934122476359409,
           1,
           0.7967814609726741,
           0.4405681902750468,
           0.8495757838467147,
           0.18340831813333075,
           0.5314356222907312
          ],
          [
           null,
           0.027251055624519366,
           0.6907124052782413,
           0.7967814609726741,
           1,
           0.6043231049358156,
           0.9565560496442488,
           0.5144077317611182,
           0.8626684111768885
          ],
          [
           null,
           0.018233513758250303,
           0.397587590541449,
           0.4405681902750468,
           0.6043231049358156,
           1,
           0.5469645239097727,
           0.026827034043560946,
           0.6832544876190477
          ],
          [
           null,
           0.03984940142735781,
           0.7350280993626422,
           0.8495757838467147,
           0.9565560496442488,
           0.5469645239097727,
           1,
           0.29098690907761027,
           0.6911114289624678
          ],
          [
           null,
           0.023274982879934614,
           0.06232448175918508,
           0.18340831813333075,
           0.5144077317611182,
           0.026827034043560946,
           0.29098690907761027,
           1,
           0.7322935482374103
          ],
          [
           null,
           0.012830993470392942,
           0.40526077302612185,
           0.5314356222907312,
           0.8626684111768885,
           0.6832544876190477,
           0.6911114289624678,
           0.7322935482374103,
           1
          ]
         ]
        }
       ],
       "layout": {
        "coloraxis": {
         "colorscale": [
          [
           0,
           "#0d0887"
          ],
          [
           0.1111111111111111,
           "#46039f"
          ],
          [
           0.2222222222222222,
           "#7201a8"
          ],
          [
           0.3333333333333333,
           "#9c179e"
          ],
          [
           0.4444444444444444,
           "#bd3786"
          ],
          [
           0.5555555555555556,
           "#d8576b"
          ],
          [
           0.6666666666666666,
           "#ed7953"
          ],
          [
           0.7777777777777778,
           "#fb9f3a"
          ],
          [
           0.8888888888888888,
           "#fdca26"
          ],
          [
           1,
           "#f0f921"
          ]
         ]
        },
        "margin": {
         "t": 60
        },
        "template": {
         "data": {
          "bar": [
           {
            "error_x": {
             "color": "#2a3f5f"
            },
            "error_y": {
             "color": "#2a3f5f"
            },
            "marker": {
             "line": {
              "color": "#E5ECF6",
              "width": 0.5
             },
             "pattern": {
              "fillmode": "overlay",
              "size": 10,
              "solidity": 0.2
             }
            },
            "type": "bar"
           }
          ],
          "barpolar": [
           {
            "marker": {
             "line": {
              "color": "#E5ECF6",
              "width": 0.5
             },
             "pattern": {
              "fillmode": "overlay",
              "size": 10,
              "solidity": 0.2
             }
            },
            "type": "barpolar"
           }
          ],
          "carpet": [
           {
            "aaxis": {
             "endlinecolor": "#2a3f5f",
             "gridcolor": "white",
             "linecolor": "white",
             "minorgridcolor": "white",
             "startlinecolor": "#2a3f5f"
            },
            "baxis": {
             "endlinecolor": "#2a3f5f",
             "gridcolor": "white",
             "linecolor": "white",
             "minorgridcolor": "white",
             "startlinecolor": "#2a3f5f"
            },
            "type": "carpet"
           }
          ],
          "choropleth": [
           {
            "colorbar": {
             "outlinewidth": 0,
             "ticks": ""
            },
            "type": "choropleth"
           }
          ],
          "contour": [
           {
            "colorbar": {
             "outlinewidth": 0,
             "ticks": ""
            },
            "colorscale": [
             [
              0,
              "#0d0887"
             ],
             [
              0.1111111111111111,
              "#46039f"
             ],
             [
              0.2222222222222222,
              "#7201a8"
             ],
             [
              0.3333333333333333,
              "#9c179e"
             ],
             [
              0.4444444444444444,
              "#bd3786"
             ],
             [
              0.5555555555555556,
              "#d8576b"
             ],
             [
              0.6666666666666666,
              "#ed7953"
             ],
             [
              0.7777777777777778,
              "#fb9f3a"
             ],
             [
              0.8888888888888888,
              "#fdca26"
             ],
             [
              1,
              "#f0f921"
             ]
            ],
            "type": "contour"
           }
          ],
          "contourcarpet": [
           {
            "colorbar": {
             "outlinewidth": 0,
             "ticks": ""
            },
            "type": "contourcarpet"
           }
          ],
          "heatmap": [
           {
            "colorbar": {
             "outlinewidth": 0,
             "ticks": ""
            },
            "colorscale": [
             [
              0,
              "#0d0887"
             ],
             [
              0.1111111111111111,
              "#46039f"
             ],
             [
              0.2222222222222222,
              "#7201a8"
             ],
             [
              0.3333333333333333,
              "#9c179e"
             ],
             [
              0.4444444444444444,
              "#bd3786"
             ],
             [
              0.5555555555555556,
              "#d8576b"
             ],
             [
              0.6666666666666666,
              "#ed7953"
             ],
             [
              0.7777777777777778,
              "#fb9f3a"
             ],
             [
              0.8888888888888888,
              "#fdca26"
             ],
             [
              1,
              "#f0f921"
             ]
            ],
            "type": "heatmap"
           }
          ],
          "heatmapgl": [
           {
            "colorbar": {
             "outlinewidth": 0,
             "ticks": ""
            },
            "colorscale": [
             [
              0,
              "#0d0887"
             ],
             [
              0.1111111111111111,
              "#46039f"
             ],
             [
              0.2222222222222222,
              "#7201a8"
             ],
             [
              0.3333333333333333,
              "#9c179e"
             ],
             [
              0.4444444444444444,
              "#bd3786"
             ],
             [
              0.5555555555555556,
              "#d8576b"
             ],
             [
              0.6666666666666666,
              "#ed7953"
             ],
             [
              0.7777777777777778,
              "#fb9f3a"
             ],
             [
              0.8888888888888888,
              "#fdca26"
             ],
             [
              1,
              "#f0f921"
             ]
            ],
            "type": "heatmapgl"
           }
          ],
          "histogram": [
           {
            "marker": {
             "pattern": {
              "fillmode": "overlay",
              "size": 10,
              "solidity": 0.2
             }
            },
            "type": "histogram"
           }
          ],
          "histogram2d": [
           {
            "colorbar": {
             "outlinewidth": 0,
             "ticks": ""
            },
            "colorscale": [
             [
              0,
              "#0d0887"
             ],
             [
              0.1111111111111111,
              "#46039f"
             ],
             [
              0.2222222222222222,
              "#7201a8"
             ],
             [
              0.3333333333333333,
              "#9c179e"
             ],
             [
              0.4444444444444444,
              "#bd3786"
             ],
             [
              0.5555555555555556,
              "#d8576b"
             ],
             [
              0.6666666666666666,
              "#ed7953"
             ],
             [
              0.7777777777777778,
              "#fb9f3a"
             ],
             [
              0.8888888888888888,
              "#fdca26"
             ],
             [
              1,
              "#f0f921"
             ]
            ],
            "type": "histogram2d"
           }
          ],
          "histogram2dcontour": [
           {
            "colorbar": {
             "outlinewidth": 0,
             "ticks": ""
            },
            "colorscale": [
             [
              0,
              "#0d0887"
             ],
             [
              0.1111111111111111,
              "#46039f"
             ],
             [
              0.2222222222222222,
              "#7201a8"
             ],
             [
              0.3333333333333333,
              "#9c179e"
             ],
             [
              0.4444444444444444,
              "#bd3786"
             ],
             [
              0.5555555555555556,
              "#d8576b"
             ],
             [
              0.6666666666666666,
              "#ed7953"
             ],
             [
              0.7777777777777778,
              "#fb9f3a"
             ],
             [
              0.8888888888888888,
              "#fdca26"
             ],
             [
              1,
              "#f0f921"
             ]
            ],
            "type": "histogram2dcontour"
           }
          ],
          "mesh3d": [
           {
            "colorbar": {
             "outlinewidth": 0,
             "ticks": ""
            },
            "type": "mesh3d"
           }
          ],
          "parcoords": [
           {
            "line": {
             "colorbar": {
              "outlinewidth": 0,
              "ticks": ""
             }
            },
            "type": "parcoords"
           }
          ],
          "pie": [
           {
            "automargin": true,
            "type": "pie"
           }
          ],
          "scatter": [
           {
            "fillpattern": {
             "fillmode": "overlay",
             "size": 10,
             "solidity": 0.2
            },
            "type": "scatter"
           }
          ],
          "scatter3d": [
           {
            "line": {
             "colorbar": {
              "outlinewidth": 0,
              "ticks": ""
             }
            },
            "marker": {
             "colorbar": {
              "outlinewidth": 0,
              "ticks": ""
             }
            },
            "type": "scatter3d"
           }
          ],
          "scattercarpet": [
           {
            "marker": {
             "colorbar": {
              "outlinewidth": 0,
              "ticks": ""
             }
            },
            "type": "scattercarpet"
           }
          ],
          "scattergeo": [
           {
            "marker": {
             "colorbar": {
              "outlinewidth": 0,
              "ticks": ""
             }
            },
            "type": "scattergeo"
           }
          ],
          "scattergl": [
           {
            "marker": {
             "colorbar": {
              "outlinewidth": 0,
              "ticks": ""
             }
            },
            "type": "scattergl"
           }
          ],
          "scattermapbox": [
           {
            "marker": {
             "colorbar": {
              "outlinewidth": 0,
              "ticks": ""
             }
            },
            "type": "scattermapbox"
           }
          ],
          "scatterpolar": [
           {
            "marker": {
             "colorbar": {
              "outlinewidth": 0,
              "ticks": ""
             }
            },
            "type": "scatterpolar"
           }
          ],
          "scatterpolargl": [
           {
            "marker": {
             "colorbar": {
              "outlinewidth": 0,
              "ticks": ""
             }
            },
            "type": "scatterpolargl"
           }
          ],
          "scatterternary": [
           {
            "marker": {
             "colorbar": {
              "outlinewidth": 0,
              "ticks": ""
             }
            },
            "type": "scatterternary"
           }
          ],
          "surface": [
           {
            "colorbar": {
             "outlinewidth": 0,
             "ticks": ""
            },
            "colorscale": [
             [
              0,
              "#0d0887"
             ],
             [
              0.1111111111111111,
              "#46039f"
             ],
             [
              0.2222222222222222,
              "#7201a8"
             ],
             [
              0.3333333333333333,
              "#9c179e"
             ],
             [
              0.4444444444444444,
              "#bd3786"
             ],
             [
              0.5555555555555556,
              "#d8576b"
             ],
             [
              0.6666666666666666,
              "#ed7953"
             ],
             [
              0.7777777777777778,
              "#fb9f3a"
             ],
             [
              0.8888888888888888,
              "#fdca26"
             ],
             [
              1,
              "#f0f921"
             ]
            ],
            "type": "surface"
           }
          ],
          "table": [
           {
            "cells": {
             "fill": {
              "color": "#EBF0F8"
             },
             "line": {
              "color": "white"
             }
            },
            "header": {
             "fill": {
              "color": "#C8D4E3"
             },
             "line": {
              "color": "white"
             }
            },
            "type": "table"
           }
          ]
         },
         "layout": {
          "annotationdefaults": {
           "arrowcolor": "#2a3f5f",
           "arrowhead": 0,
           "arrowwidth": 1
          },
          "autotypenumbers": "strict",
          "coloraxis": {
           "colorbar": {
            "outlinewidth": 0,
            "ticks": ""
           }
          },
          "colorscale": {
           "diverging": [
            [
             0,
             "#8e0152"
            ],
            [
             0.1,
             "#c51b7d"
            ],
            [
             0.2,
             "#de77ae"
            ],
            [
             0.3,
             "#f1b6da"
            ],
            [
             0.4,
             "#fde0ef"
            ],
            [
             0.5,
             "#f7f7f7"
            ],
            [
             0.6,
             "#e6f5d0"
            ],
            [
             0.7,
             "#b8e186"
            ],
            [
             0.8,
             "#7fbc41"
            ],
            [
             0.9,
             "#4d9221"
            ],
            [
             1,
             "#276419"
            ]
           ],
           "sequential": [
            [
             0,
             "#0d0887"
            ],
            [
             0.1111111111111111,
             "#46039f"
            ],
            [
             0.2222222222222222,
             "#7201a8"
            ],
            [
             0.3333333333333333,
             "#9c179e"
            ],
            [
             0.4444444444444444,
             "#bd3786"
            ],
            [
             0.5555555555555556,
             "#d8576b"
            ],
            [
             0.6666666666666666,
             "#ed7953"
            ],
            [
             0.7777777777777778,
             "#fb9f3a"
            ],
            [
             0.8888888888888888,
             "#fdca26"
            ],
            [
             1,
             "#f0f921"
            ]
           ],
           "sequentialminus": [
            [
             0,
             "#0d0887"
            ],
            [
             0.1111111111111111,
             "#46039f"
            ],
            [
             0.2222222222222222,
             "#7201a8"
            ],
            [
             0.3333333333333333,
             "#9c179e"
            ],
            [
             0.4444444444444444,
             "#bd3786"
            ],
            [
             0.5555555555555556,
             "#d8576b"
            ],
            [
             0.6666666666666666,
             "#ed7953"
            ],
            [
             0.7777777777777778,
             "#fb9f3a"
            ],
            [
             0.8888888888888888,
             "#fdca26"
            ],
            [
             1,
             "#f0f921"
            ]
           ]
          },
          "colorway": [
           "#636efa",
           "#EF553B",
           "#00cc96",
           "#ab63fa",
           "#FFA15A",
           "#19d3f3",
           "#FF6692",
           "#B6E880",
           "#FF97FF",
           "#FECB52"
          ],
          "font": {
           "color": "#2a3f5f"
          },
          "geo": {
           "bgcolor": "white",
           "lakecolor": "white",
           "landcolor": "#E5ECF6",
           "showlakes": true,
           "showland": true,
           "subunitcolor": "white"
          },
          "hoverlabel": {
           "align": "left"
          },
          "hovermode": "closest",
          "mapbox": {
           "style": "light"
          },
          "paper_bgcolor": "white",
          "plot_bgcolor": "#E5ECF6",
          "polar": {
           "angularaxis": {
            "gridcolor": "white",
            "linecolor": "white",
            "ticks": ""
           },
           "bgcolor": "#E5ECF6",
           "radialaxis": {
            "gridcolor": "white",
            "linecolor": "white",
            "ticks": ""
           }
          },
          "scene": {
           "xaxis": {
            "backgroundcolor": "#E5ECF6",
            "gridcolor": "white",
            "gridwidth": 2,
            "linecolor": "white",
            "showbackground": true,
            "ticks": "",
            "zerolinecolor": "white"
           },
           "yaxis": {
            "backgroundcolor": "#E5ECF6",
            "gridcolor": "white",
            "gridwidth": 2,
            "linecolor": "white",
            "showbackground": true,
            "ticks": "",
            "zerolinecolor": "white"
           },
           "zaxis": {
            "backgroundcolor": "#E5ECF6",
            "gridcolor": "white",
            "gridwidth": 2,
            "linecolor": "white",
            "showbackground": true,
            "ticks": "",
            "zerolinecolor": "white"
           }
          },
          "shapedefaults": {
           "line": {
            "color": "#2a3f5f"
           }
          },
          "ternary": {
           "aaxis": {
            "gridcolor": "white",
            "linecolor": "white",
            "ticks": ""
           },
           "baxis": {
            "gridcolor": "white",
            "linecolor": "white",
            "ticks": ""
           },
           "bgcolor": "#E5ECF6",
           "caxis": {
            "gridcolor": "white",
            "linecolor": "white",
            "ticks": ""
           }
          },
          "title": {
           "x": 0.05
          },
          "xaxis": {
           "automargin": true,
           "gridcolor": "white",
           "linecolor": "white",
           "ticks": "",
           "title": {
            "standoff": 15
           },
           "zerolinecolor": "white",
           "zerolinewidth": 2
          },
          "yaxis": {
           "automargin": true,
           "gridcolor": "white",
           "linecolor": "white",
           "ticks": "",
           "title": {
            "standoff": 15
           },
           "zerolinecolor": "white",
           "zerolinewidth": 2
          }
         }
        },
        "xaxis": {
         "anchor": "y",
         "constrain": "domain",
         "domain": [
          0,
          1
         ],
         "scaleanchor": "y"
        },
        "yaxis": {
         "anchor": "x",
         "autorange": "reversed",
         "constrain": "domain",
         "domain": [
          0,
          1
         ]
        }
       }
      },
      "text/html": [
       "<div>                            <div id=\"27b15d2e-c2cd-47b1-8d69-8f5676ba373c\" class=\"plotly-graph-div\" style=\"height:525px; width:100%;\"></div>            <script type=\"text/javascript\">                require([\"plotly\"], function(Plotly) {                    window.PLOTLYENV=window.PLOTLYENV || {};                                    if (document.getElementById(\"27b15d2e-c2cd-47b1-8d69-8f5676ba373c\")) {                    Plotly.newPlot(                        \"27b15d2e-c2cd-47b1-8d69-8f5676ba373c\",                        [{\"coloraxis\":\"coloraxis\",\"name\":\"0\",\"x\":[\"DataYear\",\"YearBuilt\",\"NumberofBuildings\",\"PropertyGFATotal\",\"SiteEnergyUse(kBtu)\",\"SteamUse(kBtu)\",\"Electricity(kBtu)\",\"NaturalGas(kBtu)\",\"TotalGHGEmissions\"],\"y\":[\"DataYear\",\"YearBuilt\",\"NumberofBuildings\",\"PropertyGFATotal\",\"SiteEnergyUse(kBtu)\",\"SteamUse(kBtu)\",\"Electricity(kBtu)\",\"NaturalGas(kBtu)\",\"TotalGHGEmissions\"],\"z\":[[null,null,null,null,null,null,null,null,null],[null,1.0,0.02371160278408777,0.10041699781676978,0.027251055624519366,0.018233513758250303,0.03984940142735781,0.023274982879934614,0.012830993470392942],[null,0.02371160278408777,1.0,0.6934122476359409,0.6907124052782413,0.397587590541449,0.7350280993626422,0.06232448175918508,0.40526077302612185],[null,0.10041699781676978,0.6934122476359409,1.0,0.7967814609726741,0.4405681902750468,0.8495757838467147,0.18340831813333075,0.5314356222907312],[null,0.027251055624519366,0.6907124052782413,0.7967814609726741,1.0,0.6043231049358156,0.9565560496442488,0.5144077317611182,0.8626684111768885],[null,0.018233513758250303,0.397587590541449,0.4405681902750468,0.6043231049358156,1.0,0.5469645239097727,0.026827034043560946,0.6832544876190477],[null,0.03984940142735781,0.7350280993626422,0.8495757838467147,0.9565560496442488,0.5469645239097727,1.0,0.29098690907761027,0.6911114289624678],[null,0.023274982879934614,0.06232448175918508,0.18340831813333075,0.5144077317611182,0.026827034043560946,0.29098690907761027,1.0,0.7322935482374103],[null,0.012830993470392942,0.40526077302612185,0.5314356222907312,0.8626684111768885,0.6832544876190477,0.6911114289624678,0.7322935482374103,1.0]],\"type\":\"heatmap\",\"xaxis\":\"x\",\"yaxis\":\"y\",\"hovertemplate\":\"x: %{x}<br>y: %{y}<br>color: %{z}<extra></extra>\"}],                        {\"template\":{\"data\":{\"histogram2dcontour\":[{\"type\":\"histogram2dcontour\",\"colorbar\":{\"outlinewidth\":0,\"ticks\":\"\"},\"colorscale\":[[0.0,\"#0d0887\"],[0.1111111111111111,\"#46039f\"],[0.2222222222222222,\"#7201a8\"],[0.3333333333333333,\"#9c179e\"],[0.4444444444444444,\"#bd3786\"],[0.5555555555555556,\"#d8576b\"],[0.6666666666666666,\"#ed7953\"],[0.7777777777777778,\"#fb9f3a\"],[0.8888888888888888,\"#fdca26\"],[1.0,\"#f0f921\"]]}],\"choropleth\":[{\"type\":\"choropleth\",\"colorbar\":{\"outlinewidth\":0,\"ticks\":\"\"}}],\"histogram2d\":[{\"type\":\"histogram2d\",\"colorbar\":{\"outlinewidth\":0,\"ticks\":\"\"},\"colorscale\":[[0.0,\"#0d0887\"],[0.1111111111111111,\"#46039f\"],[0.2222222222222222,\"#7201a8\"],[0.3333333333333333,\"#9c179e\"],[0.4444444444444444,\"#bd3786\"],[0.5555555555555556,\"#d8576b\"],[0.6666666666666666,\"#ed7953\"],[0.7777777777777778,\"#fb9f3a\"],[0.8888888888888888,\"#fdca26\"],[1.0,\"#f0f921\"]]}],\"heatmap\":[{\"type\":\"heatmap\",\"colorbar\":{\"outlinewidth\":0,\"ticks\":\"\"},\"colorscale\":[[0.0,\"#0d0887\"],[0.1111111111111111,\"#46039f\"],[0.2222222222222222,\"#7201a8\"],[0.3333333333333333,\"#9c179e\"],[0.4444444444444444,\"#bd3786\"],[0.5555555555555556,\"#d8576b\"],[0.6666666666666666,\"#ed7953\"],[0.7777777777777778,\"#fb9f3a\"],[0.8888888888888888,\"#fdca26\"],[1.0,\"#f0f921\"]]}],\"heatmapgl\":[{\"type\":\"heatmapgl\",\"colorbar\":{\"outlinewidth\":0,\"ticks\":\"\"},\"colorscale\":[[0.0,\"#0d0887\"],[0.1111111111111111,\"#46039f\"],[0.2222222222222222,\"#7201a8\"],[0.3333333333333333,\"#9c179e\"],[0.4444444444444444,\"#bd3786\"],[0.5555555555555556,\"#d8576b\"],[0.6666666666666666,\"#ed7953\"],[0.7777777777777778,\"#fb9f3a\"],[0.8888888888888888,\"#fdca26\"],[1.0,\"#f0f921\"]]}],\"contourcarpet\":[{\"type\":\"contourcarpet\",\"colorbar\":{\"outlinewidth\":0,\"ticks\":\"\"}}],\"contour\":[{\"type\":\"contour\",\"colorbar\":{\"outlinewidth\":0,\"ticks\":\"\"},\"colorscale\":[[0.0,\"#0d0887\"],[0.1111111111111111,\"#46039f\"],[0.2222222222222222,\"#7201a8\"],[0.3333333333333333,\"#9c179e\"],[0.4444444444444444,\"#bd3786\"],[0.5555555555555556,\"#d8576b\"],[0.6666666666666666,\"#ed7953\"],[0.7777777777777778,\"#fb9f3a\"],[0.8888888888888888,\"#fdca26\"],[1.0,\"#f0f921\"]]}],\"surface\":[{\"type\":\"surface\",\"colorbar\":{\"outlinewidth\":0,\"ticks\":\"\"},\"colorscale\":[[0.0,\"#0d0887\"],[0.1111111111111111,\"#46039f\"],[0.2222222222222222,\"#7201a8\"],[0.3333333333333333,\"#9c179e\"],[0.4444444444444444,\"#bd3786\"],[0.5555555555555556,\"#d8576b\"],[0.6666666666666666,\"#ed7953\"],[0.7777777777777778,\"#fb9f3a\"],[0.8888888888888888,\"#fdca26\"],[1.0,\"#f0f921\"]]}],\"mesh3d\":[{\"type\":\"mesh3d\",\"colorbar\":{\"outlinewidth\":0,\"ticks\":\"\"}}],\"scatter\":[{\"fillpattern\":{\"fillmode\":\"overlay\",\"size\":10,\"solidity\":0.2},\"type\":\"scatter\"}],\"parcoords\":[{\"type\":\"parcoords\",\"line\":{\"colorbar\":{\"outlinewidth\":0,\"ticks\":\"\"}}}],\"scatterpolargl\":[{\"type\":\"scatterpolargl\",\"marker\":{\"colorbar\":{\"outlinewidth\":0,\"ticks\":\"\"}}}],\"bar\":[{\"error_x\":{\"color\":\"#2a3f5f\"},\"error_y\":{\"color\":\"#2a3f5f\"},\"marker\":{\"line\":{\"color\":\"#E5ECF6\",\"width\":0.5},\"pattern\":{\"fillmode\":\"overlay\",\"size\":10,\"solidity\":0.2}},\"type\":\"bar\"}],\"scattergeo\":[{\"type\":\"scattergeo\",\"marker\":{\"colorbar\":{\"outlinewidth\":0,\"ticks\":\"\"}}}],\"scatterpolar\":[{\"type\":\"scatterpolar\",\"marker\":{\"colorbar\":{\"outlinewidth\":0,\"ticks\":\"\"}}}],\"histogram\":[{\"marker\":{\"pattern\":{\"fillmode\":\"overlay\",\"size\":10,\"solidity\":0.2}},\"type\":\"histogram\"}],\"scattergl\":[{\"type\":\"scattergl\",\"marker\":{\"colorbar\":{\"outlinewidth\":0,\"ticks\":\"\"}}}],\"scatter3d\":[{\"type\":\"scatter3d\",\"line\":{\"colorbar\":{\"outlinewidth\":0,\"ticks\":\"\"}},\"marker\":{\"colorbar\":{\"outlinewidth\":0,\"ticks\":\"\"}}}],\"scattermapbox\":[{\"type\":\"scattermapbox\",\"marker\":{\"colorbar\":{\"outlinewidth\":0,\"ticks\":\"\"}}}],\"scatterternary\":[{\"type\":\"scatterternary\",\"marker\":{\"colorbar\":{\"outlinewidth\":0,\"ticks\":\"\"}}}],\"scattercarpet\":[{\"type\":\"scattercarpet\",\"marker\":{\"colorbar\":{\"outlinewidth\":0,\"ticks\":\"\"}}}],\"carpet\":[{\"aaxis\":{\"endlinecolor\":\"#2a3f5f\",\"gridcolor\":\"white\",\"linecolor\":\"white\",\"minorgridcolor\":\"white\",\"startlinecolor\":\"#2a3f5f\"},\"baxis\":{\"endlinecolor\":\"#2a3f5f\",\"gridcolor\":\"white\",\"linecolor\":\"white\",\"minorgridcolor\":\"white\",\"startlinecolor\":\"#2a3f5f\"},\"type\":\"carpet\"}],\"table\":[{\"cells\":{\"fill\":{\"color\":\"#EBF0F8\"},\"line\":{\"color\":\"white\"}},\"header\":{\"fill\":{\"color\":\"#C8D4E3\"},\"line\":{\"color\":\"white\"}},\"type\":\"table\"}],\"barpolar\":[{\"marker\":{\"line\":{\"color\":\"#E5ECF6\",\"width\":0.5},\"pattern\":{\"fillmode\":\"overlay\",\"size\":10,\"solidity\":0.2}},\"type\":\"barpolar\"}],\"pie\":[{\"automargin\":true,\"type\":\"pie\"}]},\"layout\":{\"autotypenumbers\":\"strict\",\"colorway\":[\"#636efa\",\"#EF553B\",\"#00cc96\",\"#ab63fa\",\"#FFA15A\",\"#19d3f3\",\"#FF6692\",\"#B6E880\",\"#FF97FF\",\"#FECB52\"],\"font\":{\"color\":\"#2a3f5f\"},\"hovermode\":\"closest\",\"hoverlabel\":{\"align\":\"left\"},\"paper_bgcolor\":\"white\",\"plot_bgcolor\":\"#E5ECF6\",\"polar\":{\"bgcolor\":\"#E5ECF6\",\"angularaxis\":{\"gridcolor\":\"white\",\"linecolor\":\"white\",\"ticks\":\"\"},\"radialaxis\":{\"gridcolor\":\"white\",\"linecolor\":\"white\",\"ticks\":\"\"}},\"ternary\":{\"bgcolor\":\"#E5ECF6\",\"aaxis\":{\"gridcolor\":\"white\",\"linecolor\":\"white\",\"ticks\":\"\"},\"baxis\":{\"gridcolor\":\"white\",\"linecolor\":\"white\",\"ticks\":\"\"},\"caxis\":{\"gridcolor\":\"white\",\"linecolor\":\"white\",\"ticks\":\"\"}},\"coloraxis\":{\"colorbar\":{\"outlinewidth\":0,\"ticks\":\"\"}},\"colorscale\":{\"sequential\":[[0.0,\"#0d0887\"],[0.1111111111111111,\"#46039f\"],[0.2222222222222222,\"#7201a8\"],[0.3333333333333333,\"#9c179e\"],[0.4444444444444444,\"#bd3786\"],[0.5555555555555556,\"#d8576b\"],[0.6666666666666666,\"#ed7953\"],[0.7777777777777778,\"#fb9f3a\"],[0.8888888888888888,\"#fdca26\"],[1.0,\"#f0f921\"]],\"sequentialminus\":[[0.0,\"#0d0887\"],[0.1111111111111111,\"#46039f\"],[0.2222222222222222,\"#7201a8\"],[0.3333333333333333,\"#9c179e\"],[0.4444444444444444,\"#bd3786\"],[0.5555555555555556,\"#d8576b\"],[0.6666666666666666,\"#ed7953\"],[0.7777777777777778,\"#fb9f3a\"],[0.8888888888888888,\"#fdca26\"],[1.0,\"#f0f921\"]],\"diverging\":[[0,\"#8e0152\"],[0.1,\"#c51b7d\"],[0.2,\"#de77ae\"],[0.3,\"#f1b6da\"],[0.4,\"#fde0ef\"],[0.5,\"#f7f7f7\"],[0.6,\"#e6f5d0\"],[0.7,\"#b8e186\"],[0.8,\"#7fbc41\"],[0.9,\"#4d9221\"],[1,\"#276419\"]]},\"xaxis\":{\"gridcolor\":\"white\",\"linecolor\":\"white\",\"ticks\":\"\",\"title\":{\"standoff\":15},\"zerolinecolor\":\"white\",\"automargin\":true,\"zerolinewidth\":2},\"yaxis\":{\"gridcolor\":\"white\",\"linecolor\":\"white\",\"ticks\":\"\",\"title\":{\"standoff\":15},\"zerolinecolor\":\"white\",\"automargin\":true,\"zerolinewidth\":2},\"scene\":{\"xaxis\":{\"backgroundcolor\":\"#E5ECF6\",\"gridcolor\":\"white\",\"linecolor\":\"white\",\"showbackground\":true,\"ticks\":\"\",\"zerolinecolor\":\"white\",\"gridwidth\":2},\"yaxis\":{\"backgroundcolor\":\"#E5ECF6\",\"gridcolor\":\"white\",\"linecolor\":\"white\",\"showbackground\":true,\"ticks\":\"\",\"zerolinecolor\":\"white\",\"gridwidth\":2},\"zaxis\":{\"backgroundcolor\":\"#E5ECF6\",\"gridcolor\":\"white\",\"linecolor\":\"white\",\"showbackground\":true,\"ticks\":\"\",\"zerolinecolor\":\"white\",\"gridwidth\":2}},\"shapedefaults\":{\"line\":{\"color\":\"#2a3f5f\"}},\"annotationdefaults\":{\"arrowcolor\":\"#2a3f5f\",\"arrowhead\":0,\"arrowwidth\":1},\"geo\":{\"bgcolor\":\"white\",\"landcolor\":\"#E5ECF6\",\"subunitcolor\":\"white\",\"showland\":true,\"showlakes\":true,\"lakecolor\":\"white\"},\"title\":{\"x\":0.05},\"mapbox\":{\"style\":\"light\"}}},\"xaxis\":{\"anchor\":\"y\",\"domain\":[0.0,1.0],\"scaleanchor\":\"y\",\"constrain\":\"domain\"},\"yaxis\":{\"anchor\":\"x\",\"domain\":[0.0,1.0],\"autorange\":\"reversed\",\"constrain\":\"domain\"},\"coloraxis\":{\"colorscale\":[[0.0,\"#0d0887\"],[0.1111111111111111,\"#46039f\"],[0.2222222222222222,\"#7201a8\"],[0.3333333333333333,\"#9c179e\"],[0.4444444444444444,\"#bd3786\"],[0.5555555555555556,\"#d8576b\"],[0.6666666666666666,\"#ed7953\"],[0.7777777777777778,\"#fb9f3a\"],[0.8888888888888888,\"#fdca26\"],[1.0,\"#f0f921\"]]},\"margin\":{\"t\":60}},                        {\"responsive\": true}                    ).then(function(){\n",
       "                            \n",
       "var gd = document.getElementById('27b15d2e-c2cd-47b1-8d69-8f5676ba373c');\n",
       "var x = new MutationObserver(function (mutations, observer) {{\n",
       "        var display = window.getComputedStyle(gd).display;\n",
       "        if (!display || display === 'none') {{\n",
       "            console.log([gd, 'removed!']);\n",
       "            Plotly.purge(gd);\n",
       "            observer.disconnect();\n",
       "        }}\n",
       "}});\n",
       "\n",
       "// Listen for the removal of the full notebook cells\n",
       "var notebookContainer = gd.closest('#notebook-container');\n",
       "if (notebookContainer) {{\n",
       "    x.observe(notebookContainer, {childList: true});\n",
       "}}\n",
       "\n",
       "// Listen for the clearing of the current output cell\n",
       "var outputEl = gd.closest('.output');\n",
       "if (outputEl) {{\n",
       "    x.observe(outputEl, {childList: true});\n",
       "}}\n",
       "\n",
       "                        })                };                });            </script>        </div>"
      ]
     },
     "metadata": {},
     "output_type": "display_data"
    }
   ],
   "source": [
    "fig = px.imshow(abs(df.corr()))\n",
    "fig.show()"
   ]
  },
  {
   "cell_type": "code",
   "execution_count": 39,
   "id": "0b87e8c4",
   "metadata": {},
   "outputs": [],
   "source": [
    "df['age'] = df['DataYear'] - df['YearBuilt']"
   ]
  },
  {
   "cell_type": "code",
   "execution_count": 42,
   "id": "4b7f9e20",
   "metadata": {},
   "outputs": [
    {
     "data": {
      "text/plain": [
       "0"
      ]
     },
     "execution_count": 42,
     "metadata": {},
     "output_type": "execute_result"
    }
   ],
   "source": [
    "df['YearBuilt'].isna().sum()"
   ]
  }
 ],
 "metadata": {
  "kernelspec": {
   "display_name": "Python 3 (ipykernel)",
   "language": "python",
   "name": "python3"
  },
  "language_info": {
   "codemirror_mode": {
    "name": "ipython",
    "version": 3
   },
   "file_extension": ".py",
   "mimetype": "text/x-python",
   "name": "python",
   "nbconvert_exporter": "python",
   "pygments_lexer": "ipython3",
   "version": "3.9.12"
  }
 },
 "nbformat": 4,
 "nbformat_minor": 5
}
