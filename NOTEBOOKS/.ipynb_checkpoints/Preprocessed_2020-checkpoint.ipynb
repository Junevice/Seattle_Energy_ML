{
 "cells": [
  {
   "cell_type": "code",
   "execution_count": 1,
   "id": "599f14a5",
   "metadata": {},
   "outputs": [],
   "source": [
    "import pandas as pd"
   ]
  },
  {
   "cell_type": "code",
   "execution_count": 2,
   "id": "50ce819c",
   "metadata": {},
   "outputs": [],
   "source": [
    "df = pd.read_csv('../DATA/2020_Building_Energy_Benchmarking.csv')"
   ]
  },
  {
   "cell_type": "code",
   "execution_count": 3,
   "id": "9be5c04e",
   "metadata": {},
   "outputs": [],
   "source": [
    "new_df = pd.DataFrame()"
   ]
  },
  {
   "cell_type": "code",
   "execution_count": 4,
   "id": "e0a4e39e",
   "metadata": {},
   "outputs": [],
   "source": [
    "new_df['age'] = df['DataYear'] - df['YearBuilt']"
   ]
  },
  {
   "cell_type": "code",
   "execution_count": 5,
   "id": "eabd463d",
   "metadata": {},
   "outputs": [],
   "source": [
    "new_df['BuildingType'] = df['BuildingType']"
   ]
  },
  {
   "cell_type": "code",
   "execution_count": 6,
   "id": "c45af049",
   "metadata": {},
   "outputs": [],
   "source": [
    "new_df['Neighborhood'] = df['Neighborhood']"
   ]
  },
  {
   "cell_type": "code",
   "execution_count": 7,
   "id": "1d7e42a1",
   "metadata": {},
   "outputs": [],
   "source": [
    "new_df['NumberofBuildings'] = df['NumberofBuildings']"
   ]
  },
  {
   "cell_type": "code",
   "execution_count": 8,
   "id": "3d8886cc",
   "metadata": {},
   "outputs": [],
   "source": [
    "new_df['PropertyGFATotal'] = df['PropertyGFATotal']"
   ]
  },
  {
   "cell_type": "code",
   "execution_count": 9,
   "id": "4033d191",
   "metadata": {},
   "outputs": [],
   "source": [
    "new_df['SiteEnergyUse(kBtu)'] = df['SiteEnergyUse(kBtu)']"
   ]
  },
  {
   "cell_type": "code",
   "execution_count": 10,
   "id": "21e9b3e9",
   "metadata": {},
   "outputs": [],
   "source": [
    "new_df['SteamUse(kBtu)'] = df['SteamUse(kBtu)']"
   ]
  },
  {
   "cell_type": "code",
   "execution_count": 11,
   "id": "c46064fc",
   "metadata": {},
   "outputs": [],
   "source": [
    "new_df['Electricity(kBtu)'] = df['Electricity(kBtu)']"
   ]
  },
  {
   "cell_type": "code",
   "execution_count": 12,
   "id": "6d20c8eb",
   "metadata": {},
   "outputs": [],
   "source": [
    "new_df['NaturalGas(kBtu)'] = df['NaturalGas(kBtu)']"
   ]
  },
  {
   "cell_type": "code",
   "execution_count": 13,
   "id": "ac2722c7",
   "metadata": {},
   "outputs": [],
   "source": [
    "new_df['TotalGHGEmissions'] = df['TotalGHGEmissions']"
   ]
  },
  {
   "cell_type": "code",
   "execution_count": 14,
   "id": "9503a6f8",
   "metadata": {},
   "outputs": [
    {
     "data": {
      "text/html": [
       "<div>\n",
       "<style scoped>\n",
       "    .dataframe tbody tr th:only-of-type {\n",
       "        vertical-align: middle;\n",
       "    }\n",
       "\n",
       "    .dataframe tbody tr th {\n",
       "        vertical-align: top;\n",
       "    }\n",
       "\n",
       "    .dataframe thead th {\n",
       "        text-align: right;\n",
       "    }\n",
       "</style>\n",
       "<table border=\"1\" class=\"dataframe\">\n",
       "  <thead>\n",
       "    <tr style=\"text-align: right;\">\n",
       "      <th></th>\n",
       "      <th>age</th>\n",
       "      <th>BuildingType</th>\n",
       "      <th>Neighborhood</th>\n",
       "      <th>NumberofBuildings</th>\n",
       "      <th>PropertyGFATotal</th>\n",
       "      <th>SiteEnergyUse(kBtu)</th>\n",
       "      <th>SteamUse(kBtu)</th>\n",
       "      <th>Electricity(kBtu)</th>\n",
       "      <th>NaturalGas(kBtu)</th>\n",
       "      <th>TotalGHGEmissions</th>\n",
       "    </tr>\n",
       "  </thead>\n",
       "  <tbody>\n",
       "    <tr>\n",
       "      <th>0</th>\n",
       "      <td>93</td>\n",
       "      <td>NonResidential</td>\n",
       "      <td>DOWNTOWN</td>\n",
       "      <td>1</td>\n",
       "      <td>88434</td>\n",
       "      <td>4923562.0</td>\n",
       "      <td>1457837</td>\n",
       "      <td>2734351.0</td>\n",
       "      <td>632586.0</td>\n",
       "      <td>169.1</td>\n",
       "    </tr>\n",
       "    <tr>\n",
       "      <th>1</th>\n",
       "      <td>24</td>\n",
       "      <td>NonResidential</td>\n",
       "      <td>DOWNTOWN</td>\n",
       "      <td>1</td>\n",
       "      <td>103566</td>\n",
       "      <td>3601694.0</td>\n",
       "      <td>0</td>\n",
       "      <td>1940292.0</td>\n",
       "      <td>1661402.0</td>\n",
       "      <td>98.6</td>\n",
       "    </tr>\n",
       "    <tr>\n",
       "      <th>2</th>\n",
       "      <td>51</td>\n",
       "      <td>NonResidential</td>\n",
       "      <td>DOWNTOWN</td>\n",
       "      <td>3</td>\n",
       "      <td>956110</td>\n",
       "      <td>36772776.0</td>\n",
       "      <td>10359896</td>\n",
       "      <td>25517379.0</td>\n",
       "      <td>895500.0</td>\n",
       "      <td>1043.2</td>\n",
       "    </tr>\n",
       "    <tr>\n",
       "      <th>3</th>\n",
       "      <td>94</td>\n",
       "      <td>NonResidential</td>\n",
       "      <td>DOWNTOWN</td>\n",
       "      <td>1</td>\n",
       "      <td>61320</td>\n",
       "      <td>2982710.0</td>\n",
       "      <td>917724</td>\n",
       "      <td>1177927.0</td>\n",
       "      <td>887059.0</td>\n",
       "      <td>129.6</td>\n",
       "    </tr>\n",
       "    <tr>\n",
       "      <th>4</th>\n",
       "      <td>40</td>\n",
       "      <td>NonResidential</td>\n",
       "      <td>DOWNTOWN</td>\n",
       "      <td>1</td>\n",
       "      <td>175580</td>\n",
       "      <td>8364978.0</td>\n",
       "      <td>0</td>\n",
       "      <td>3761566.0</td>\n",
       "      <td>4603411.0</td>\n",
       "      <td>264.5</td>\n",
       "    </tr>\n",
       "    <tr>\n",
       "      <th>...</th>\n",
       "      <td>...</td>\n",
       "      <td>...</td>\n",
       "      <td>...</td>\n",
       "      <td>...</td>\n",
       "      <td>...</td>\n",
       "      <td>...</td>\n",
       "      <td>...</td>\n",
       "      <td>...</td>\n",
       "      <td>...</td>\n",
       "      <td>...</td>\n",
       "    </tr>\n",
       "    <tr>\n",
       "      <th>3623</th>\n",
       "      <td>1</td>\n",
       "      <td>NonResidential</td>\n",
       "      <td>NORTHWEST</td>\n",
       "      <td>1</td>\n",
       "      <td>213065</td>\n",
       "      <td>NaN</td>\n",
       "      <td>0</td>\n",
       "      <td>NaN</td>\n",
       "      <td>NaN</td>\n",
       "      <td>NaN</td>\n",
       "    </tr>\n",
       "    <tr>\n",
       "      <th>3624</th>\n",
       "      <td>2</td>\n",
       "      <td>Multifamily MR (5-9)</td>\n",
       "      <td>MAGNOLIA / QUEEN ANNE</td>\n",
       "      <td>1</td>\n",
       "      <td>182411</td>\n",
       "      <td>3250235.0</td>\n",
       "      <td>0</td>\n",
       "      <td>2796535.0</td>\n",
       "      <td>415123.0</td>\n",
       "      <td>36.9</td>\n",
       "    </tr>\n",
       "    <tr>\n",
       "      <th>3625</th>\n",
       "      <td>60</td>\n",
       "      <td>NonResidential</td>\n",
       "      <td>MAGNOLIA / QUEEN ANNE</td>\n",
       "      <td>1</td>\n",
       "      <td>20289</td>\n",
       "      <td>2211138.0</td>\n",
       "      <td>0</td>\n",
       "      <td>914426.0</td>\n",
       "      <td>1196883.0</td>\n",
       "      <td>68.4</td>\n",
       "    </tr>\n",
       "    <tr>\n",
       "      <th>3626</th>\n",
       "      <td>18</td>\n",
       "      <td>Multifamily MR (5-9)</td>\n",
       "      <td>CENTRAL</td>\n",
       "      <td>2</td>\n",
       "      <td>183379</td>\n",
       "      <td>6643564.0</td>\n",
       "      <td>0</td>\n",
       "      <td>2733787.0</td>\n",
       "      <td>3809275.0</td>\n",
       "      <td>216.8</td>\n",
       "    </tr>\n",
       "    <tr>\n",
       "      <th>3627</th>\n",
       "      <td>2</td>\n",
       "      <td>Multifamily MR (5-9)</td>\n",
       "      <td>BALLARD</td>\n",
       "      <td>1</td>\n",
       "      <td>189044</td>\n",
       "      <td>4056120.0</td>\n",
       "      <td>0</td>\n",
       "      <td>2639858.0</td>\n",
       "      <td>1416262.0</td>\n",
       "      <td>89.3</td>\n",
       "    </tr>\n",
       "  </tbody>\n",
       "</table>\n",
       "<p>3628 rows × 10 columns</p>\n",
       "</div>"
      ],
      "text/plain": [
       "      age          BuildingType           Neighborhood  NumberofBuildings  \\\n",
       "0      93        NonResidential               DOWNTOWN                  1   \n",
       "1      24        NonResidential               DOWNTOWN                  1   \n",
       "2      51        NonResidential               DOWNTOWN                  3   \n",
       "3      94        NonResidential               DOWNTOWN                  1   \n",
       "4      40        NonResidential               DOWNTOWN                  1   \n",
       "...   ...                   ...                    ...                ...   \n",
       "3623    1        NonResidential              NORTHWEST                  1   \n",
       "3624    2  Multifamily MR (5-9)  MAGNOLIA / QUEEN ANNE                  1   \n",
       "3625   60        NonResidential  MAGNOLIA / QUEEN ANNE                  1   \n",
       "3626   18  Multifamily MR (5-9)                CENTRAL                  2   \n",
       "3627    2  Multifamily MR (5-9)                BALLARD                  1   \n",
       "\n",
       "      PropertyGFATotal  SiteEnergyUse(kBtu)  SteamUse(kBtu)  \\\n",
       "0                88434            4923562.0         1457837   \n",
       "1               103566            3601694.0               0   \n",
       "2               956110           36772776.0        10359896   \n",
       "3                61320            2982710.0          917724   \n",
       "4               175580            8364978.0               0   \n",
       "...                ...                  ...             ...   \n",
       "3623            213065                  NaN               0   \n",
       "3624            182411            3250235.0               0   \n",
       "3625             20289            2211138.0               0   \n",
       "3626            183379            6643564.0               0   \n",
       "3627            189044            4056120.0               0   \n",
       "\n",
       "      Electricity(kBtu)  NaturalGas(kBtu)  TotalGHGEmissions  \n",
       "0             2734351.0          632586.0              169.1  \n",
       "1             1940292.0         1661402.0               98.6  \n",
       "2            25517379.0          895500.0             1043.2  \n",
       "3             1177927.0          887059.0              129.6  \n",
       "4             3761566.0         4603411.0              264.5  \n",
       "...                 ...               ...                ...  \n",
       "3623                NaN               NaN                NaN  \n",
       "3624          2796535.0          415123.0               36.9  \n",
       "3625           914426.0         1196883.0               68.4  \n",
       "3626          2733787.0         3809275.0              216.8  \n",
       "3627          2639858.0         1416262.0               89.3  \n",
       "\n",
       "[3628 rows x 10 columns]"
      ]
     },
     "execution_count": 14,
     "metadata": {},
     "output_type": "execute_result"
    }
   ],
   "source": [
    "new_df"
   ]
  },
  {
   "cell_type": "code",
   "execution_count": 15,
   "id": "23ee1448",
   "metadata": {},
   "outputs": [],
   "source": [
    "new_df.to_csv('export_2020.csv')"
   ]
  },
  {
   "cell_type": "code",
   "execution_count": null,
   "id": "d5eaa81a",
   "metadata": {},
   "outputs": [],
   "source": []
  }
 ],
 "metadata": {
  "kernelspec": {
   "display_name": "Python 3 (ipykernel)",
   "language": "python",
   "name": "python3"
  },
  "language_info": {
   "codemirror_mode": {
    "name": "ipython",
    "version": 3
   },
   "file_extension": ".py",
   "mimetype": "text/x-python",
   "name": "python",
   "nbconvert_exporter": "python",
   "pygments_lexer": "ipython3",
   "version": "3.9.12"
  }
 },
 "nbformat": 4,
 "nbformat_minor": 5
}
