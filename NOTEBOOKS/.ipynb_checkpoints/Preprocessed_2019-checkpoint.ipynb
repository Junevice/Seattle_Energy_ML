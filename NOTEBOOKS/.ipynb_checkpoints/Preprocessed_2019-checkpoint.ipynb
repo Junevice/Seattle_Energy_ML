{
 "cells": [
  {
   "cell_type": "code",
   "execution_count": 14,
   "id": "599f14a5",
   "metadata": {},
   "outputs": [],
   "source": [
    "import pandas as pd"
   ]
  },
  {
   "cell_type": "code",
   "execution_count": 15,
   "id": "50ce819c",
   "metadata": {},
   "outputs": [],
   "source": [
    "df = pd.read_csv('../DATA/2019_Building_Energy_Benchmarking.csv')"
   ]
  },
  {
   "cell_type": "code",
   "execution_count": 16,
   "id": "9be5c04e",
   "metadata": {},
   "outputs": [],
   "source": [
    "new_df = pd.DataFrame()"
   ]
  },
  {
   "cell_type": "code",
   "execution_count": 17,
   "id": "e0a4e39e",
   "metadata": {},
   "outputs": [],
   "source": [
    "new_df['age'] = df['DataYear'] - df['YearBuilt']"
   ]
  },
  {
   "cell_type": "code",
   "execution_count": 18,
   "id": "eabd463d",
   "metadata": {},
   "outputs": [],
   "source": [
    "new_df['BuildingType'] = df['BuildingType']"
   ]
  },
  {
   "cell_type": "code",
   "execution_count": 19,
   "id": "c45af049",
   "metadata": {},
   "outputs": [],
   "source": [
    "new_df['Neighborhood'] = df['Neighborhood']"
   ]
  },
  {
   "cell_type": "code",
   "execution_count": 20,
   "id": "1d7e42a1",
   "metadata": {},
   "outputs": [],
   "source": [
    "new_df['NumberofBuildings'] = 0"
   ]
  },
  {
   "cell_type": "code",
   "execution_count": 21,
   "id": "3d8886cc",
   "metadata": {},
   "outputs": [],
   "source": [
    "new_df['PropertyGFATotal'] = df['PropertyGFATotal']"
   ]
  },
  {
   "cell_type": "code",
   "execution_count": 22,
   "id": "4033d191",
   "metadata": {},
   "outputs": [],
   "source": [
    "new_df['SiteEnergyUse(kBtu)'] = df['SiteEnergyUse(kBtu)']"
   ]
  },
  {
   "cell_type": "code",
   "execution_count": 23,
   "id": "21e9b3e9",
   "metadata": {},
   "outputs": [],
   "source": [
    "new_df['SteamUse(kBtu)'] = df['SteamUse(kBtu)']"
   ]
  },
  {
   "cell_type": "code",
   "execution_count": 24,
   "id": "c46064fc",
   "metadata": {},
   "outputs": [],
   "source": [
    "new_df['Electricity(kBtu)'] = df['Electricity(kBtu)']"
   ]
  },
  {
   "cell_type": "code",
   "execution_count": 25,
   "id": "6d20c8eb",
   "metadata": {},
   "outputs": [],
   "source": [
    "new_df['NaturalGas(kBtu)'] = df['NaturalGas(kBtu)']"
   ]
  },
  {
   "cell_type": "code",
   "execution_count": 26,
   "id": "ac2722c7",
   "metadata": {},
   "outputs": [],
   "source": [
    "new_df['TotalGHGEmissions'] = df['TotalGHGEmissions']"
   ]
  },
  {
   "cell_type": "code",
   "execution_count": 27,
   "id": "9503a6f8",
   "metadata": {},
   "outputs": [
    {
     "data": {
      "text/html": [
       "<div>\n",
       "<style scoped>\n",
       "    .dataframe tbody tr th:only-of-type {\n",
       "        vertical-align: middle;\n",
       "    }\n",
       "\n",
       "    .dataframe tbody tr th {\n",
       "        vertical-align: top;\n",
       "    }\n",
       "\n",
       "    .dataframe thead th {\n",
       "        text-align: right;\n",
       "    }\n",
       "</style>\n",
       "<table border=\"1\" class=\"dataframe\">\n",
       "  <thead>\n",
       "    <tr style=\"text-align: right;\">\n",
       "      <th></th>\n",
       "      <th>age</th>\n",
       "      <th>BuildingType</th>\n",
       "      <th>Neighborhood</th>\n",
       "      <th>NumberofBuildings</th>\n",
       "      <th>PropertyGFATotal</th>\n",
       "      <th>SiteEnergyUse(kBtu)</th>\n",
       "      <th>SteamUse(kBtu)</th>\n",
       "      <th>Electricity(kBtu)</th>\n",
       "      <th>NaturalGas(kBtu)</th>\n",
       "      <th>TotalGHGEmissions</th>\n",
       "    </tr>\n",
       "  </thead>\n",
       "  <tbody>\n",
       "    <tr>\n",
       "      <th>0</th>\n",
       "      <td>92</td>\n",
       "      <td>NonResidential</td>\n",
       "      <td>DOWNTOWN</td>\n",
       "      <td>0</td>\n",
       "      <td>88434</td>\n",
       "      <td>7363218.0</td>\n",
       "      <td>2159078</td>\n",
       "      <td>3871996</td>\n",
       "      <td>1320791</td>\n",
       "      <td>208.8</td>\n",
       "    </tr>\n",
       "    <tr>\n",
       "      <th>1</th>\n",
       "      <td>23</td>\n",
       "      <td>NonResidential</td>\n",
       "      <td>DOWNTOWN</td>\n",
       "      <td>0</td>\n",
       "      <td>103566</td>\n",
       "      <td>8040648.0</td>\n",
       "      <td>0</td>\n",
       "      <td>2946902</td>\n",
       "      <td>5059502</td>\n",
       "      <td>286.9</td>\n",
       "    </tr>\n",
       "    <tr>\n",
       "      <th>2</th>\n",
       "      <td>50</td>\n",
       "      <td>NonResidential</td>\n",
       "      <td>DOWNTOWN</td>\n",
       "      <td>0</td>\n",
       "      <td>956110</td>\n",
       "      <td>68355568.0</td>\n",
       "      <td>22601024</td>\n",
       "      <td>44075841</td>\n",
       "      <td>1426400</td>\n",
       "      <td>1549.0</td>\n",
       "    </tr>\n",
       "    <tr>\n",
       "      <th>3</th>\n",
       "      <td>93</td>\n",
       "      <td>NonResidential</td>\n",
       "      <td>DOWNTOWN</td>\n",
       "      <td>0</td>\n",
       "      <td>61320</td>\n",
       "      <td>6346838.0</td>\n",
       "      <td>2104444</td>\n",
       "      <td>2201145</td>\n",
       "      <td>2013415</td>\n",
       "      <td>232.4</td>\n",
       "    </tr>\n",
       "    <tr>\n",
       "      <th>4</th>\n",
       "      <td>39</td>\n",
       "      <td>NonResidential</td>\n",
       "      <td>DOWNTOWN</td>\n",
       "      <td>0</td>\n",
       "      <td>175580</td>\n",
       "      <td>15875107.0</td>\n",
       "      <td>0</td>\n",
       "      <td>5444815</td>\n",
       "      <td>10430292</td>\n",
       "      <td>587.5</td>\n",
       "    </tr>\n",
       "    <tr>\n",
       "      <th>...</th>\n",
       "      <td>...</td>\n",
       "      <td>...</td>\n",
       "      <td>...</td>\n",
       "      <td>...</td>\n",
       "      <td>...</td>\n",
       "      <td>...</td>\n",
       "      <td>...</td>\n",
       "      <td>...</td>\n",
       "      <td>...</td>\n",
       "      <td>...</td>\n",
       "    </tr>\n",
       "    <tr>\n",
       "      <th>3576</th>\n",
       "      <td>1</td>\n",
       "      <td>NonResidential</td>\n",
       "      <td>LAKE UNION</td>\n",
       "      <td>0</td>\n",
       "      <td>170885</td>\n",
       "      <td>NaN</td>\n",
       "      <td>0</td>\n",
       "      <td>0</td>\n",
       "      <td>0</td>\n",
       "      <td>0.0</td>\n",
       "    </tr>\n",
       "    <tr>\n",
       "      <th>3577</th>\n",
       "      <td>1</td>\n",
       "      <td>NonResidential</td>\n",
       "      <td>NORTH</td>\n",
       "      <td>0</td>\n",
       "      <td>71461</td>\n",
       "      <td>2236055.0</td>\n",
       "      <td>0</td>\n",
       "      <td>2236055</td>\n",
       "      <td>0</td>\n",
       "      <td>13.8</td>\n",
       "    </tr>\n",
       "    <tr>\n",
       "      <th>3578</th>\n",
       "      <td>1</td>\n",
       "      <td>NonResidential</td>\n",
       "      <td>SOUTHWEST</td>\n",
       "      <td>0</td>\n",
       "      <td>78232</td>\n",
       "      <td>4875764.0</td>\n",
       "      <td>0</td>\n",
       "      <td>2541289</td>\n",
       "      <td>2340118</td>\n",
       "      <td>139.9</td>\n",
       "    </tr>\n",
       "    <tr>\n",
       "      <th>3579</th>\n",
       "      <td>5</td>\n",
       "      <td>Multifamily MR (5-9)</td>\n",
       "      <td>EAST</td>\n",
       "      <td>0</td>\n",
       "      <td>82960</td>\n",
       "      <td>2350682.0</td>\n",
       "      <td>0</td>\n",
       "      <td>1863514</td>\n",
       "      <td>489112</td>\n",
       "      <td>37.5</td>\n",
       "    </tr>\n",
       "    <tr>\n",
       "      <th>3580</th>\n",
       "      <td>1</td>\n",
       "      <td>Multifamily MR (5-9)</td>\n",
       "      <td>NORTH</td>\n",
       "      <td>0</td>\n",
       "      <td>141793</td>\n",
       "      <td>1980135.0</td>\n",
       "      <td>0</td>\n",
       "      <td>1257931</td>\n",
       "      <td>722204</td>\n",
       "      <td>46.1</td>\n",
       "    </tr>\n",
       "  </tbody>\n",
       "</table>\n",
       "<p>3581 rows × 10 columns</p>\n",
       "</div>"
      ],
      "text/plain": [
       "      age          BuildingType Neighborhood  NumberofBuildings  \\\n",
       "0      92        NonResidential     DOWNTOWN                  0   \n",
       "1      23        NonResidential     DOWNTOWN                  0   \n",
       "2      50        NonResidential     DOWNTOWN                  0   \n",
       "3      93        NonResidential     DOWNTOWN                  0   \n",
       "4      39        NonResidential     DOWNTOWN                  0   \n",
       "...   ...                   ...          ...                ...   \n",
       "3576    1        NonResidential   LAKE UNION                  0   \n",
       "3577    1        NonResidential        NORTH                  0   \n",
       "3578    1        NonResidential    SOUTHWEST                  0   \n",
       "3579    5  Multifamily MR (5-9)         EAST                  0   \n",
       "3580    1  Multifamily MR (5-9)        NORTH                  0   \n",
       "\n",
       "      PropertyGFATotal  SiteEnergyUse(kBtu)  SteamUse(kBtu)  \\\n",
       "0                88434            7363218.0         2159078   \n",
       "1               103566            8040648.0               0   \n",
       "2               956110           68355568.0        22601024   \n",
       "3                61320            6346838.0         2104444   \n",
       "4               175580           15875107.0               0   \n",
       "...                ...                  ...             ...   \n",
       "3576            170885                  NaN               0   \n",
       "3577             71461            2236055.0               0   \n",
       "3578             78232            4875764.0               0   \n",
       "3579             82960            2350682.0               0   \n",
       "3580            141793            1980135.0               0   \n",
       "\n",
       "      Electricity(kBtu)  NaturalGas(kBtu)  TotalGHGEmissions  \n",
       "0               3871996           1320791              208.8  \n",
       "1               2946902           5059502              286.9  \n",
       "2              44075841           1426400             1549.0  \n",
       "3               2201145           2013415              232.4  \n",
       "4               5444815          10430292              587.5  \n",
       "...                 ...               ...                ...  \n",
       "3576                  0                 0                0.0  \n",
       "3577            2236055                 0               13.8  \n",
       "3578            2541289           2340118              139.9  \n",
       "3579            1863514            489112               37.5  \n",
       "3580            1257931            722204               46.1  \n",
       "\n",
       "[3581 rows x 10 columns]"
      ]
     },
     "execution_count": 27,
     "metadata": {},
     "output_type": "execute_result"
    }
   ],
   "source": [
    "new_df"
   ]
  },
  {
   "cell_type": "code",
   "execution_count": 28,
   "id": "23ee1448",
   "metadata": {},
   "outputs": [],
   "source": [
    "new_df.to_csv('export_2019.csv')"
   ]
  },
  {
   "cell_type": "code",
   "execution_count": null,
   "id": "4b0839bd",
   "metadata": {},
   "outputs": [],
   "source": []
  }
 ],
 "metadata": {
  "kernelspec": {
   "display_name": "Python 3 (ipykernel)",
   "language": "python",
   "name": "python3"
  },
  "language_info": {
   "codemirror_mode": {
    "name": "ipython",
    "version": 3
   },
   "file_extension": ".py",
   "mimetype": "text/x-python",
   "name": "python",
   "nbconvert_exporter": "python",
   "pygments_lexer": "ipython3",
   "version": "3.9.12"
  }
 },
 "nbformat": 4,
 "nbformat_minor": 5
}
