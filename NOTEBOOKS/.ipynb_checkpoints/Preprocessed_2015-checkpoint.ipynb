{
 "cells": [
  {
   "cell_type": "code",
   "execution_count": 16,
   "id": "599f14a5",
   "metadata": {},
   "outputs": [],
   "source": [
    "import pandas as pd"
   ]
  },
  {
   "cell_type": "code",
   "execution_count": 17,
   "id": "50ce819c",
   "metadata": {},
   "outputs": [],
   "source": [
    "df = pd.read_csv('../DATA/2015_Building_Energy_Benchmarking.csv')"
   ]
  },
  {
   "cell_type": "code",
   "execution_count": 18,
   "id": "9be5c04e",
   "metadata": {},
   "outputs": [],
   "source": [
    "new_df = pd.DataFrame()"
   ]
  },
  {
   "cell_type": "code",
   "execution_count": 19,
   "id": "e0a4e39e",
   "metadata": {},
   "outputs": [],
   "source": [
    "new_df['age'] = df['DataYear'] - df['YearBuilt']"
   ]
  },
  {
   "cell_type": "code",
   "execution_count": 20,
   "id": "eabd463d",
   "metadata": {},
   "outputs": [],
   "source": [
    "new_df['BuildingType'] = df['BuildingType']"
   ]
  },
  {
   "cell_type": "code",
   "execution_count": 21,
   "id": "c45af049",
   "metadata": {},
   "outputs": [],
   "source": [
    "new_df['Neighborhood'] = df['Neighborhood']"
   ]
  },
  {
   "cell_type": "code",
   "execution_count": 22,
   "id": "1d7e42a1",
   "metadata": {},
   "outputs": [],
   "source": [
    "new_df['NumberofBuildings'] = df['NumberofBuildings']"
   ]
  },
  {
   "cell_type": "code",
   "execution_count": 23,
   "id": "3d8886cc",
   "metadata": {},
   "outputs": [],
   "source": [
    "new_df['PropertyGFATotal'] = df['PropertyGFATotal']"
   ]
  },
  {
   "cell_type": "code",
   "execution_count": 24,
   "id": "4033d191",
   "metadata": {},
   "outputs": [],
   "source": [
    "new_df['SiteEnergyUse(kBtu)'] = df['SiteEnergyUse(kBtu)']"
   ]
  },
  {
   "cell_type": "code",
   "execution_count": 25,
   "id": "21e9b3e9",
   "metadata": {},
   "outputs": [],
   "source": [
    "new_df['SteamUse(kBtu)'] = df['SteamUse(kBtu)']"
   ]
  },
  {
   "cell_type": "code",
   "execution_count": 26,
   "id": "c46064fc",
   "metadata": {},
   "outputs": [],
   "source": [
    "new_df['Electricity(kBtu)'] = df['Electricity(kBtu)']"
   ]
  },
  {
   "cell_type": "code",
   "execution_count": 27,
   "id": "6d20c8eb",
   "metadata": {},
   "outputs": [],
   "source": [
    "new_df['NaturalGas(kBtu)'] = df['NaturalGas(kBtu)']"
   ]
  },
  {
   "cell_type": "code",
   "execution_count": 28,
   "id": "ac2722c7",
   "metadata": {},
   "outputs": [],
   "source": [
    "new_df['GHGEmissions(MetricTonsCO2e)'] = df['GHGEmissions(MetricTonsCO2e)']"
   ]
  },
  {
   "cell_type": "code",
   "execution_count": 29,
   "id": "9503a6f8",
   "metadata": {
    "scrolled": false
   },
   "outputs": [
    {
     "data": {
      "text/html": [
       "<div>\n",
       "<style scoped>\n",
       "    .dataframe tbody tr th:only-of-type {\n",
       "        vertical-align: middle;\n",
       "    }\n",
       "\n",
       "    .dataframe tbody tr th {\n",
       "        vertical-align: top;\n",
       "    }\n",
       "\n",
       "    .dataframe thead th {\n",
       "        text-align: right;\n",
       "    }\n",
       "</style>\n",
       "<table border=\"1\" class=\"dataframe\">\n",
       "  <thead>\n",
       "    <tr style=\"text-align: right;\">\n",
       "      <th></th>\n",
       "      <th>age</th>\n",
       "      <th>BuildingType</th>\n",
       "      <th>Neighborhood</th>\n",
       "      <th>NumberofBuildings</th>\n",
       "      <th>PropertyGFATotal</th>\n",
       "      <th>SiteEnergyUse(kBtu)</th>\n",
       "      <th>SteamUse(kBtu)</th>\n",
       "      <th>Electricity(kBtu)</th>\n",
       "      <th>NaturalGas(kBtu)</th>\n",
       "      <th>GHGEmissions(MetricTonsCO2e)</th>\n",
       "    </tr>\n",
       "  </thead>\n",
       "  <tbody>\n",
       "    <tr>\n",
       "      <th>0</th>\n",
       "      <td>48</td>\n",
       "      <td>Multifamily LR (1-4)</td>\n",
       "      <td>MAGNOLIA / QUEEN ANNE</td>\n",
       "      <td>1</td>\n",
       "      <td>40086</td>\n",
       "      <td>NaN</td>\n",
       "      <td>NaN</td>\n",
       "      <td>NaN</td>\n",
       "      <td>NaN</td>\n",
       "      <td>NaN</td>\n",
       "    </tr>\n",
       "    <tr>\n",
       "      <th>1</th>\n",
       "      <td>23</td>\n",
       "      <td>NonResidential</td>\n",
       "      <td>GREATER DUWAMISH</td>\n",
       "      <td>1</td>\n",
       "      <td>22452</td>\n",
       "      <td>1354219.0</td>\n",
       "      <td>0.0</td>\n",
       "      <td>589893.0</td>\n",
       "      <td>764350.0</td>\n",
       "      <td>44.71</td>\n",
       "    </tr>\n",
       "    <tr>\n",
       "      <th>2</th>\n",
       "      <td>8</td>\n",
       "      <td>Multifamily HR (10+)</td>\n",
       "      <td>DOWNTOWN</td>\n",
       "      <td>1</td>\n",
       "      <td>90959</td>\n",
       "      <td>4361755.0</td>\n",
       "      <td>0.0</td>\n",
       "      <td>2829904.0</td>\n",
       "      <td>1531968.0</td>\n",
       "      <td>101.09</td>\n",
       "    </tr>\n",
       "    <tr>\n",
       "      <th>3</th>\n",
       "      <td>25</td>\n",
       "      <td>NonResidential</td>\n",
       "      <td>LAKE UNION</td>\n",
       "      <td>1</td>\n",
       "      <td>282863</td>\n",
       "      <td>18829136.0</td>\n",
       "      <td>0.0</td>\n",
       "      <td>10638785.0</td>\n",
       "      <td>8190794.0</td>\n",
       "      <td>509.18</td>\n",
       "    </tr>\n",
       "    <tr>\n",
       "      <th>4</th>\n",
       "      <td>7</td>\n",
       "      <td>NonResidential</td>\n",
       "      <td>GREATER DUWAMISH</td>\n",
       "      <td>1</td>\n",
       "      <td>63225</td>\n",
       "      <td>6619941.0</td>\n",
       "      <td>0.0</td>\n",
       "      <td>6620217.0</td>\n",
       "      <td>0.0</td>\n",
       "      <td>46.15</td>\n",
       "    </tr>\n",
       "    <tr>\n",
       "      <th>...</th>\n",
       "      <td>...</td>\n",
       "      <td>...</td>\n",
       "      <td>...</td>\n",
       "      <td>...</td>\n",
       "      <td>...</td>\n",
       "      <td>...</td>\n",
       "      <td>...</td>\n",
       "      <td>...</td>\n",
       "      <td>...</td>\n",
       "      <td>...</td>\n",
       "    </tr>\n",
       "    <tr>\n",
       "      <th>3335</th>\n",
       "      <td>2</td>\n",
       "      <td>Multifamily MR (5-9)</td>\n",
       "      <td>LAKE UNION</td>\n",
       "      <td>1</td>\n",
       "      <td>41502</td>\n",
       "      <td>2236406.0</td>\n",
       "      <td>0.0</td>\n",
       "      <td>902251.0</td>\n",
       "      <td>1334192.0</td>\n",
       "      <td>77.15</td>\n",
       "    </tr>\n",
       "    <tr>\n",
       "      <th>3336</th>\n",
       "      <td>4</td>\n",
       "      <td>Multifamily MR (5-9)</td>\n",
       "      <td>CENTRAL</td>\n",
       "      <td>1</td>\n",
       "      <td>140254</td>\n",
       "      <td>4424263.0</td>\n",
       "      <td>0.0</td>\n",
       "      <td>3136246.0</td>\n",
       "      <td>1288147.0</td>\n",
       "      <td>90.28</td>\n",
       "    </tr>\n",
       "    <tr>\n",
       "      <th>3337</th>\n",
       "      <td>1</td>\n",
       "      <td>Multifamily MR (5-9)</td>\n",
       "      <td>BALLARD</td>\n",
       "      <td>1</td>\n",
       "      <td>418285</td>\n",
       "      <td>7641887.0</td>\n",
       "      <td>0.0</td>\n",
       "      <td>5635043.0</td>\n",
       "      <td>2007079.0</td>\n",
       "      <td>145.88</td>\n",
       "    </tr>\n",
       "    <tr>\n",
       "      <th>3338</th>\n",
       "      <td>1</td>\n",
       "      <td>Multifamily MR (5-9)</td>\n",
       "      <td>LAKE UNION</td>\n",
       "      <td>1</td>\n",
       "      <td>81993</td>\n",
       "      <td>2558573.0</td>\n",
       "      <td>0.0</td>\n",
       "      <td>1469433.0</td>\n",
       "      <td>1089201.0</td>\n",
       "      <td>68.09</td>\n",
       "    </tr>\n",
       "    <tr>\n",
       "      <th>3339</th>\n",
       "      <td>3</td>\n",
       "      <td>Multifamily MR (5-9)</td>\n",
       "      <td>MAGNOLIA / QUEEN ANNE</td>\n",
       "      <td>1</td>\n",
       "      <td>43762</td>\n",
       "      <td>653672.0</td>\n",
       "      <td>0.0</td>\n",
       "      <td>653699.0</td>\n",
       "      <td>0.0</td>\n",
       "      <td>4.56</td>\n",
       "    </tr>\n",
       "  </tbody>\n",
       "</table>\n",
       "<p>3340 rows × 10 columns</p>\n",
       "</div>"
      ],
      "text/plain": [
       "      age          BuildingType           Neighborhood  NumberofBuildings  \\\n",
       "0      48  Multifamily LR (1-4)  MAGNOLIA / QUEEN ANNE                  1   \n",
       "1      23        NonResidential       GREATER DUWAMISH                  1   \n",
       "2       8  Multifamily HR (10+)               DOWNTOWN                  1   \n",
       "3      25        NonResidential             LAKE UNION                  1   \n",
       "4       7        NonResidential       GREATER DUWAMISH                  1   \n",
       "...   ...                   ...                    ...                ...   \n",
       "3335    2  Multifamily MR (5-9)             LAKE UNION                  1   \n",
       "3336    4  Multifamily MR (5-9)                CENTRAL                  1   \n",
       "3337    1  Multifamily MR (5-9)                BALLARD                  1   \n",
       "3338    1  Multifamily MR (5-9)             LAKE UNION                  1   \n",
       "3339    3  Multifamily MR (5-9)  MAGNOLIA / QUEEN ANNE                  1   \n",
       "\n",
       "      PropertyGFATotal  SiteEnergyUse(kBtu)  SteamUse(kBtu)  \\\n",
       "0                40086                  NaN             NaN   \n",
       "1                22452            1354219.0             0.0   \n",
       "2                90959            4361755.0             0.0   \n",
       "3               282863           18829136.0             0.0   \n",
       "4                63225            6619941.0             0.0   \n",
       "...                ...                  ...             ...   \n",
       "3335             41502            2236406.0             0.0   \n",
       "3336            140254            4424263.0             0.0   \n",
       "3337            418285            7641887.0             0.0   \n",
       "3338             81993            2558573.0             0.0   \n",
       "3339             43762             653672.0             0.0   \n",
       "\n",
       "      Electricity(kBtu)  NaturalGas(kBtu)  GHGEmissions(MetricTonsCO2e)  \n",
       "0                   NaN               NaN                           NaN  \n",
       "1              589893.0          764350.0                         44.71  \n",
       "2             2829904.0         1531968.0                        101.09  \n",
       "3            10638785.0         8190794.0                        509.18  \n",
       "4             6620217.0               0.0                         46.15  \n",
       "...                 ...               ...                           ...  \n",
       "3335           902251.0         1334192.0                         77.15  \n",
       "3336          3136246.0         1288147.0                         90.28  \n",
       "3337          5635043.0         2007079.0                        145.88  \n",
       "3338          1469433.0         1089201.0                         68.09  \n",
       "3339           653699.0               0.0                          4.56  \n",
       "\n",
       "[3340 rows x 10 columns]"
      ]
     },
     "execution_count": 29,
     "metadata": {},
     "output_type": "execute_result"
    }
   ],
   "source": [
    "new_df"
   ]
  },
  {
   "cell_type": "code",
   "execution_count": null,
   "id": "23ee1448",
   "metadata": {},
   "outputs": [],
   "source": []
  }
 ],
 "metadata": {
  "kernelspec": {
   "display_name": "Python 3 (ipykernel)",
   "language": "python",
   "name": "python3"
  },
  "language_info": {
   "codemirror_mode": {
    "name": "ipython",
    "version": 3
   },
   "file_extension": ".py",
   "mimetype": "text/x-python",
   "name": "python",
   "nbconvert_exporter": "python",
   "pygments_lexer": "ipython3",
   "version": "3.9.12"
  }
 },
 "nbformat": 4,
 "nbformat_minor": 5
}
